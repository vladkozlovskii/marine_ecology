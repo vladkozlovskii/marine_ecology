{
 "cells": [
  {
   "cell_type": "markdown",
   "id": "369f7154",
   "metadata": {},
   "source": [
    "# This notebook about reading, basic processing, calculation of biodiversity indexes, combination and basic visualisation of benthic ecological data which was obtained in Kara Sea"
   ]
  },
  {
   "cell_type": "code",
   "execution_count": 1,
   "id": "72fc5e67",
   "metadata": {},
   "outputs": [],
   "source": [
    "# first import cell\n",
    "import math\n",
    "import matplotlib.pyplot as plt\n",
    "import numpy as np\n",
    "import pandas as pd\n",
    "import plotly.express as px\n",
    "import seaborn as sns\n",
    "\n",
    "from sklearn import manifold"
   ]
  },
  {
   "cell_type": "code",
   "execution_count": 2,
   "id": "ee7a67c3",
   "metadata": {},
   "outputs": [],
   "source": [
    "# way to file with few sheets\n",
    "path = '/Users/vladkozlovskiy/Downloads/DATAS/Kara_sea_test/Kara_AMK.xlsx'"
   ]
  },
  {
   "cell_type": "markdown",
   "id": "20164faa",
   "metadata": {},
   "source": [
    "# Opening datasheets"
   ]
  },
  {
   "cell_type": "code",
   "execution_count": 3,
   "id": "83b79224",
   "metadata": {},
   "outputs": [
    {
     "data": {
      "text/html": [
       "<div>\n",
       "<style scoped>\n",
       "    .dataframe tbody tr th:only-of-type {\n",
       "        vertical-align: middle;\n",
       "    }\n",
       "\n",
       "    .dataframe tbody tr th {\n",
       "        vertical-align: top;\n",
       "    }\n",
       "\n",
       "    .dataframe thead th {\n",
       "        text-align: right;\n",
       "    }\n",
       "</style>\n",
       "<table border=\"1\" class=\"dataframe\">\n",
       "  <thead>\n",
       "    <tr style=\"text-align: right;\">\n",
       "      <th></th>\n",
       "      <th>4957</th>\n",
       "      <th>4956</th>\n",
       "      <th>4955</th>\n",
       "      <th>4954</th>\n",
       "      <th>4999</th>\n",
       "      <th>5000</th>\n",
       "      <th>5001</th>\n",
       "      <th>5002</th>\n",
       "      <th>5003</th>\n",
       "      <th>4993</th>\n",
       "      <th>4994</th>\n",
       "      <th>4995</th>\n",
       "      <th>4996</th>\n",
       "    </tr>\n",
       "    <tr>\n",
       "      <th>species</th>\n",
       "      <th></th>\n",
       "      <th></th>\n",
       "      <th></th>\n",
       "      <th></th>\n",
       "      <th></th>\n",
       "      <th></th>\n",
       "      <th></th>\n",
       "      <th></th>\n",
       "      <th></th>\n",
       "      <th></th>\n",
       "      <th></th>\n",
       "      <th></th>\n",
       "      <th></th>\n",
       "    </tr>\n",
       "  </thead>\n",
       "  <tbody>\n",
       "    <tr>\n",
       "      <th>Tealia felina</th>\n",
       "      <td>0.000000</td>\n",
       "      <td>0.000000</td>\n",
       "      <td>0.000000</td>\n",
       "      <td>0.000000</td>\n",
       "      <td>0.012608</td>\n",
       "      <td>0.005559</td>\n",
       "      <td>0.0</td>\n",
       "      <td>0.125625</td>\n",
       "      <td>0.000000</td>\n",
       "      <td>0.0</td>\n",
       "      <td>0.0</td>\n",
       "      <td>0.0</td>\n",
       "      <td>0.0</td>\n",
       "    </tr>\n",
       "    <tr>\n",
       "      <th>Paraedwardsia arenaria</th>\n",
       "      <td>0.000000</td>\n",
       "      <td>0.000000</td>\n",
       "      <td>0.000000</td>\n",
       "      <td>0.000000</td>\n",
       "      <td>0.000000</td>\n",
       "      <td>0.000000</td>\n",
       "      <td>0.0</td>\n",
       "      <td>0.000246</td>\n",
       "      <td>0.000000</td>\n",
       "      <td>0.0</td>\n",
       "      <td>0.0</td>\n",
       "      <td>0.0</td>\n",
       "      <td>0.0</td>\n",
       "    </tr>\n",
       "    <tr>\n",
       "      <th>Alcionacea sp.A</th>\n",
       "      <td>0.003669</td>\n",
       "      <td>0.000000</td>\n",
       "      <td>0.000000</td>\n",
       "      <td>0.000000</td>\n",
       "      <td>0.000000</td>\n",
       "      <td>0.000000</td>\n",
       "      <td>0.0</td>\n",
       "      <td>0.000000</td>\n",
       "      <td>0.000000</td>\n",
       "      <td>0.0</td>\n",
       "      <td>0.0</td>\n",
       "      <td>0.0</td>\n",
       "      <td>0.0</td>\n",
       "    </tr>\n",
       "    <tr>\n",
       "      <th>Alcionacea sp.B</th>\n",
       "      <td>0.000000</td>\n",
       "      <td>0.000000</td>\n",
       "      <td>0.000000</td>\n",
       "      <td>0.000000</td>\n",
       "      <td>0.000000</td>\n",
       "      <td>0.000000</td>\n",
       "      <td>0.0</td>\n",
       "      <td>0.000000</td>\n",
       "      <td>0.000898</td>\n",
       "      <td>0.0</td>\n",
       "      <td>0.0</td>\n",
       "      <td>0.0</td>\n",
       "      <td>0.0</td>\n",
       "    </tr>\n",
       "    <tr>\n",
       "      <th>Actinia sp.</th>\n",
       "      <td>0.000000</td>\n",
       "      <td>0.000102</td>\n",
       "      <td>0.000127</td>\n",
       "      <td>0.003542</td>\n",
       "      <td>0.000000</td>\n",
       "      <td>0.000000</td>\n",
       "      <td>0.0</td>\n",
       "      <td>0.001137</td>\n",
       "      <td>0.000069</td>\n",
       "      <td>0.0</td>\n",
       "      <td>0.0</td>\n",
       "      <td>0.0</td>\n",
       "      <td>0.0</td>\n",
       "    </tr>\n",
       "    <tr>\n",
       "      <th>...</th>\n",
       "      <td>...</td>\n",
       "      <td>...</td>\n",
       "      <td>...</td>\n",
       "      <td>...</td>\n",
       "      <td>...</td>\n",
       "      <td>...</td>\n",
       "      <td>...</td>\n",
       "      <td>...</td>\n",
       "      <td>...</td>\n",
       "      <td>...</td>\n",
       "      <td>...</td>\n",
       "      <td>...</td>\n",
       "      <td>...</td>\n",
       "    </tr>\n",
       "    <tr>\n",
       "      <th>Ophiocten sericeum</th>\n",
       "      <td>0.032522</td>\n",
       "      <td>0.000000</td>\n",
       "      <td>0.000000</td>\n",
       "      <td>0.000000</td>\n",
       "      <td>0.000000</td>\n",
       "      <td>0.000000</td>\n",
       "      <td>0.0</td>\n",
       "      <td>0.000000</td>\n",
       "      <td>0.022066</td>\n",
       "      <td>0.0</td>\n",
       "      <td>0.0</td>\n",
       "      <td>0.0</td>\n",
       "      <td>0.0</td>\n",
       "    </tr>\n",
       "    <tr>\n",
       "      <th>Holoturoidea gen.sp.</th>\n",
       "      <td>0.000000</td>\n",
       "      <td>0.000000</td>\n",
       "      <td>0.000000</td>\n",
       "      <td>0.000000</td>\n",
       "      <td>0.003032</td>\n",
       "      <td>0.000000</td>\n",
       "      <td>0.0</td>\n",
       "      <td>0.000000</td>\n",
       "      <td>0.001047</td>\n",
       "      <td>0.0</td>\n",
       "      <td>0.0</td>\n",
       "      <td>0.0</td>\n",
       "      <td>0.0</td>\n",
       "    </tr>\n",
       "    <tr>\n",
       "      <th>Chiridota laevis</th>\n",
       "      <td>0.000000</td>\n",
       "      <td>0.000000</td>\n",
       "      <td>0.000000</td>\n",
       "      <td>0.000000</td>\n",
       "      <td>0.000057</td>\n",
       "      <td>0.000000</td>\n",
       "      <td>0.0</td>\n",
       "      <td>0.000000</td>\n",
       "      <td>0.000155</td>\n",
       "      <td>0.0</td>\n",
       "      <td>0.0</td>\n",
       "      <td>0.0</td>\n",
       "      <td>0.0</td>\n",
       "    </tr>\n",
       "    <tr>\n",
       "      <th>Pelonaia corrugata</th>\n",
       "      <td>0.000000</td>\n",
       "      <td>0.000000</td>\n",
       "      <td>0.000000</td>\n",
       "      <td>0.004061</td>\n",
       "      <td>0.000000</td>\n",
       "      <td>0.000000</td>\n",
       "      <td>0.0</td>\n",
       "      <td>0.000000</td>\n",
       "      <td>0.000000</td>\n",
       "      <td>0.0</td>\n",
       "      <td>0.0</td>\n",
       "      <td>0.0</td>\n",
       "      <td>0.0</td>\n",
       "    </tr>\n",
       "    <tr>\n",
       "      <th>Ascidia sp.</th>\n",
       "      <td>0.000000</td>\n",
       "      <td>0.000000</td>\n",
       "      <td>0.000000</td>\n",
       "      <td>0.000000</td>\n",
       "      <td>0.000000</td>\n",
       "      <td>0.000000</td>\n",
       "      <td>0.0</td>\n",
       "      <td>0.001699</td>\n",
       "      <td>0.000000</td>\n",
       "      <td>0.0</td>\n",
       "      <td>0.0</td>\n",
       "      <td>0.0</td>\n",
       "      <td>0.0</td>\n",
       "    </tr>\n",
       "  </tbody>\n",
       "</table>\n",
       "<p>135 rows × 13 columns</p>\n",
       "</div>"
      ],
      "text/plain": [
       "                            4957      4956      4955      4954      4999  \\\n",
       "species                                                                    \n",
       "Tealia felina           0.000000  0.000000  0.000000  0.000000  0.012608   \n",
       "Paraedwardsia arenaria  0.000000  0.000000  0.000000  0.000000  0.000000   \n",
       "Alcionacea sp.A         0.003669  0.000000  0.000000  0.000000  0.000000   \n",
       "Alcionacea sp.B         0.000000  0.000000  0.000000  0.000000  0.000000   \n",
       "Actinia sp.             0.000000  0.000102  0.000127  0.003542  0.000000   \n",
       "...                          ...       ...       ...       ...       ...   \n",
       "Ophiocten sericeum      0.032522  0.000000  0.000000  0.000000  0.000000   \n",
       "Holoturoidea gen.sp.    0.000000  0.000000  0.000000  0.000000  0.003032   \n",
       "Chiridota laevis        0.000000  0.000000  0.000000  0.000000  0.000057   \n",
       "Pelonaia corrugata      0.000000  0.000000  0.000000  0.004061  0.000000   \n",
       "Ascidia sp.             0.000000  0.000000  0.000000  0.000000  0.000000   \n",
       "\n",
       "                            5000  5001      5002      5003  4993  4994  4995  \\\n",
       "species                                                                        \n",
       "Tealia felina           0.005559   0.0  0.125625  0.000000   0.0   0.0   0.0   \n",
       "Paraedwardsia arenaria  0.000000   0.0  0.000246  0.000000   0.0   0.0   0.0   \n",
       "Alcionacea sp.A         0.000000   0.0  0.000000  0.000000   0.0   0.0   0.0   \n",
       "Alcionacea sp.B         0.000000   0.0  0.000000  0.000898   0.0   0.0   0.0   \n",
       "Actinia sp.             0.000000   0.0  0.001137  0.000069   0.0   0.0   0.0   \n",
       "...                          ...   ...       ...       ...   ...   ...   ...   \n",
       "Ophiocten sericeum      0.000000   0.0  0.000000  0.022066   0.0   0.0   0.0   \n",
       "Holoturoidea gen.sp.    0.000000   0.0  0.000000  0.001047   0.0   0.0   0.0   \n",
       "Chiridota laevis        0.000000   0.0  0.000000  0.000155   0.0   0.0   0.0   \n",
       "Pelonaia corrugata      0.000000   0.0  0.000000  0.000000   0.0   0.0   0.0   \n",
       "Ascidia sp.             0.000000   0.0  0.001699  0.000000   0.0   0.0   0.0   \n",
       "\n",
       "                        4996  \n",
       "species                       \n",
       "Tealia felina            0.0  \n",
       "Paraedwardsia arenaria   0.0  \n",
       "Alcionacea sp.A          0.0  \n",
       "Alcionacea sp.B          0.0  \n",
       "Actinia sp.              0.0  \n",
       "...                      ...  \n",
       "Ophiocten sericeum       0.0  \n",
       "Holoturoidea gen.sp.     0.0  \n",
       "Chiridota laevis         0.0  \n",
       "Pelonaia corrugata       0.0  \n",
       "Ascidia sp.              0.0  \n",
       "\n",
       "[135 rows x 13 columns]"
      ]
     },
     "metadata": {},
     "output_type": "display_data"
    },
    {
     "name": "stdout",
     "output_type": "stream",
     "text": [
      "<class 'pandas.core.frame.DataFrame'>\n",
      "Index: 135 entries, Tealia felina to Ascidia sp.\n",
      "Data columns (total 13 columns):\n",
      " #   Column  Non-Null Count  Dtype  \n",
      "---  ------  --------------  -----  \n",
      " 0   4957    135 non-null    float64\n",
      " 1   4956    135 non-null    float64\n",
      " 2   4955    135 non-null    float64\n",
      " 3   4954    135 non-null    float64\n",
      " 4   4999    135 non-null    float64\n",
      " 5   5000    135 non-null    float64\n",
      " 6   5001    135 non-null    float64\n",
      " 7   5002    135 non-null    float64\n",
      " 8   5003    135 non-null    float64\n",
      " 9   4993    135 non-null    float64\n",
      " 10  4994    135 non-null    float64\n",
      " 11  4995    135 non-null    float64\n",
      " 12  4996    135 non-null    float64\n",
      "dtypes: float64(13)\n",
      "memory usage: 14.8+ KB\n",
      "None\n",
      "             4957        4956        4955        4954        4999        5000  \\\n",
      "count  135.000000  135.000000  135.000000  135.000000  135.000000  135.000000   \n",
      "mean     0.007407    0.007407    0.007407    0.007407    0.007407    0.007407   \n",
      "std      0.027536    0.064290    0.050068    0.024224    0.045881    0.056227   \n",
      "min      0.000000    0.000000    0.000000    0.000000    0.000000    0.000000   \n",
      "25%      0.000000    0.000000    0.000000    0.000000    0.000000    0.000000   \n",
      "50%      0.000000    0.000000    0.000000    0.000000    0.000000    0.000000   \n",
      "75%      0.002856    0.000233    0.000331    0.003376    0.000000    0.000000   \n",
      "max      0.262542    0.741120    0.426016    0.193301    0.496093    0.614011   \n",
      "\n",
      "             5001        5002        5003        4993        4994        4995  \\\n",
      "count  135.000000  135.000000  135.000000  135.000000  135.000000  135.000000   \n",
      "mean     0.007407    0.007407    0.007407    0.007407    0.007407    0.007407   \n",
      "std      0.036207    0.040525    0.024344    0.059609    0.056603    0.067816   \n",
      "min      0.000000    0.000000    0.000000    0.000000    0.000000    0.000000   \n",
      "25%      0.000000    0.000000    0.000000    0.000000    0.000000    0.000000   \n",
      "50%      0.000000    0.000000    0.000000    0.000000    0.000000    0.000000   \n",
      "75%      0.000366    0.000000    0.003021    0.000000    0.000000    0.000000   \n",
      "max      0.325110    0.422988    0.176295    0.624653    0.604943    0.774413   \n",
      "\n",
      "             4996  \n",
      "count  135.000000  \n",
      "mean     0.007407  \n",
      "std      0.066030  \n",
      "min      0.000000  \n",
      "25%      0.000000  \n",
      "50%      0.000000  \n",
      "75%      0.000000  \n",
      "max      0.755663  \n"
     ]
    }
   ],
   "source": [
    "data_r = pd.read_excel(path, sheet_name='R', index_col = 'species')\n",
    "display(data_r)\n",
    "print(data_r.info())\n",
    "print(data_r.describe())"
   ]
  },
  {
   "cell_type": "code",
   "execution_count": 4,
   "id": "a6ba5250",
   "metadata": {},
   "outputs": [
    {
     "data": {
      "text/html": [
       "<div>\n",
       "<style scoped>\n",
       "    .dataframe tbody tr th:only-of-type {\n",
       "        vertical-align: middle;\n",
       "    }\n",
       "\n",
       "    .dataframe tbody tr th {\n",
       "        vertical-align: top;\n",
       "    }\n",
       "\n",
       "    .dataframe thead th {\n",
       "        text-align: right;\n",
       "    }\n",
       "</style>\n",
       "<table border=\"1\" class=\"dataframe\">\n",
       "  <thead>\n",
       "    <tr style=\"text-align: right;\">\n",
       "      <th></th>\n",
       "      <th>taxon</th>\n",
       "      <th>4957</th>\n",
       "      <th>4956</th>\n",
       "      <th>4955</th>\n",
       "      <th>4954</th>\n",
       "      <th>4999</th>\n",
       "      <th>5000</th>\n",
       "      <th>5001</th>\n",
       "      <th>5002</th>\n",
       "      <th>5003</th>\n",
       "      <th>4993</th>\n",
       "      <th>4994</th>\n",
       "      <th>4995</th>\n",
       "      <th>4996</th>\n",
       "    </tr>\n",
       "    <tr>\n",
       "      <th>species</th>\n",
       "      <th></th>\n",
       "      <th></th>\n",
       "      <th></th>\n",
       "      <th></th>\n",
       "      <th></th>\n",
       "      <th></th>\n",
       "      <th></th>\n",
       "      <th></th>\n",
       "      <th></th>\n",
       "      <th></th>\n",
       "      <th></th>\n",
       "      <th></th>\n",
       "      <th></th>\n",
       "      <th></th>\n",
       "    </tr>\n",
       "  </thead>\n",
       "  <tbody>\n",
       "    <tr>\n",
       "      <th>Tealia felina</th>\n",
       "      <td>Anthozoa</td>\n",
       "      <td>0</td>\n",
       "      <td>0</td>\n",
       "      <td>0</td>\n",
       "      <td>0</td>\n",
       "      <td>2</td>\n",
       "      <td>2</td>\n",
       "      <td>0</td>\n",
       "      <td>4</td>\n",
       "      <td>0</td>\n",
       "      <td>0.0</td>\n",
       "      <td>0.0</td>\n",
       "      <td>0.0</td>\n",
       "      <td>0.0</td>\n",
       "    </tr>\n",
       "    <tr>\n",
       "      <th>Paraedwardsia arenaria</th>\n",
       "      <td>Anthozoa</td>\n",
       "      <td>0</td>\n",
       "      <td>0</td>\n",
       "      <td>0</td>\n",
       "      <td>0</td>\n",
       "      <td>0</td>\n",
       "      <td>0</td>\n",
       "      <td>0</td>\n",
       "      <td>6</td>\n",
       "      <td>0</td>\n",
       "      <td>0.0</td>\n",
       "      <td>0.0</td>\n",
       "      <td>0.0</td>\n",
       "      <td>0.0</td>\n",
       "    </tr>\n",
       "    <tr>\n",
       "      <th>Alcionacea sp.A</th>\n",
       "      <td>Anthozoa</td>\n",
       "      <td>10</td>\n",
       "      <td>0</td>\n",
       "      <td>0</td>\n",
       "      <td>0</td>\n",
       "      <td>0</td>\n",
       "      <td>0</td>\n",
       "      <td>0</td>\n",
       "      <td>0</td>\n",
       "      <td>0</td>\n",
       "      <td>0.0</td>\n",
       "      <td>0.0</td>\n",
       "      <td>0.0</td>\n",
       "      <td>0.0</td>\n",
       "    </tr>\n",
       "    <tr>\n",
       "      <th>Alcionacea sp.B</th>\n",
       "      <td>Anthozoa</td>\n",
       "      <td>0</td>\n",
       "      <td>0</td>\n",
       "      <td>0</td>\n",
       "      <td>0</td>\n",
       "      <td>0</td>\n",
       "      <td>0</td>\n",
       "      <td>0</td>\n",
       "      <td>0</td>\n",
       "      <td>2</td>\n",
       "      <td>0.0</td>\n",
       "      <td>0.0</td>\n",
       "      <td>0.0</td>\n",
       "      <td>0.0</td>\n",
       "    </tr>\n",
       "    <tr>\n",
       "      <th>Actinia sp.</th>\n",
       "      <td>Anthozoa</td>\n",
       "      <td>0</td>\n",
       "      <td>2</td>\n",
       "      <td>2</td>\n",
       "      <td>2</td>\n",
       "      <td>0</td>\n",
       "      <td>0</td>\n",
       "      <td>0</td>\n",
       "      <td>10</td>\n",
       "      <td>4</td>\n",
       "      <td>0.0</td>\n",
       "      <td>0.0</td>\n",
       "      <td>0.0</td>\n",
       "      <td>0.0</td>\n",
       "    </tr>\n",
       "    <tr>\n",
       "      <th>...</th>\n",
       "      <td>...</td>\n",
       "      <td>...</td>\n",
       "      <td>...</td>\n",
       "      <td>...</td>\n",
       "      <td>...</td>\n",
       "      <td>...</td>\n",
       "      <td>...</td>\n",
       "      <td>...</td>\n",
       "      <td>...</td>\n",
       "      <td>...</td>\n",
       "      <td>...</td>\n",
       "      <td>...</td>\n",
       "      <td>...</td>\n",
       "      <td>...</td>\n",
       "    </tr>\n",
       "    <tr>\n",
       "      <th>Ophiocten sericeum</th>\n",
       "      <td>Echinodermata</td>\n",
       "      <td>28</td>\n",
       "      <td>0</td>\n",
       "      <td>0</td>\n",
       "      <td>0</td>\n",
       "      <td>0</td>\n",
       "      <td>0</td>\n",
       "      <td>0</td>\n",
       "      <td>0</td>\n",
       "      <td>60</td>\n",
       "      <td>0.0</td>\n",
       "      <td>0.0</td>\n",
       "      <td>0.0</td>\n",
       "      <td>0.0</td>\n",
       "    </tr>\n",
       "    <tr>\n",
       "      <th>Holoturoidea gen.sp.</th>\n",
       "      <td>Echinodermata</td>\n",
       "      <td>0</td>\n",
       "      <td>0</td>\n",
       "      <td>0</td>\n",
       "      <td>0</td>\n",
       "      <td>10</td>\n",
       "      <td>0</td>\n",
       "      <td>0</td>\n",
       "      <td>0</td>\n",
       "      <td>2</td>\n",
       "      <td>0.0</td>\n",
       "      <td>0.0</td>\n",
       "      <td>0.0</td>\n",
       "      <td>0.0</td>\n",
       "    </tr>\n",
       "    <tr>\n",
       "      <th>Chiridota laevis</th>\n",
       "      <td>Echinodermata</td>\n",
       "      <td>0</td>\n",
       "      <td>0</td>\n",
       "      <td>0</td>\n",
       "      <td>0</td>\n",
       "      <td>2</td>\n",
       "      <td>0</td>\n",
       "      <td>0</td>\n",
       "      <td>0</td>\n",
       "      <td>6</td>\n",
       "      <td>0.0</td>\n",
       "      <td>0.0</td>\n",
       "      <td>0.0</td>\n",
       "      <td>0.0</td>\n",
       "    </tr>\n",
       "    <tr>\n",
       "      <th>Pelonaia corrugata</th>\n",
       "      <td>Ascidiacea</td>\n",
       "      <td>0</td>\n",
       "      <td>0</td>\n",
       "      <td>0</td>\n",
       "      <td>2</td>\n",
       "      <td>0</td>\n",
       "      <td>0</td>\n",
       "      <td>0</td>\n",
       "      <td>0</td>\n",
       "      <td>0</td>\n",
       "      <td>0.0</td>\n",
       "      <td>0.0</td>\n",
       "      <td>0.0</td>\n",
       "      <td>0.0</td>\n",
       "    </tr>\n",
       "    <tr>\n",
       "      <th>Ascidia sp.</th>\n",
       "      <td>Ascidiacea</td>\n",
       "      <td>0</td>\n",
       "      <td>0</td>\n",
       "      <td>0</td>\n",
       "      <td>0</td>\n",
       "      <td>0</td>\n",
       "      <td>0</td>\n",
       "      <td>0</td>\n",
       "      <td>2</td>\n",
       "      <td>0</td>\n",
       "      <td>0.0</td>\n",
       "      <td>0.0</td>\n",
       "      <td>0.0</td>\n",
       "      <td>0.0</td>\n",
       "    </tr>\n",
       "  </tbody>\n",
       "</table>\n",
       "<p>135 rows × 14 columns</p>\n",
       "</div>"
      ],
      "text/plain": [
       "                                taxon  4957  4956  4955  4954  4999  5000  \\\n",
       "species                                                                     \n",
       "Tealia felina                Anthozoa     0     0     0     0     2     2   \n",
       "Paraedwardsia arenaria       Anthozoa     0     0     0     0     0     0   \n",
       "Alcionacea sp.A              Anthozoa    10     0     0     0     0     0   \n",
       "Alcionacea sp.B              Anthozoa     0     0     0     0     0     0   \n",
       "Actinia sp.                  Anthozoa     0     2     2     2     0     0   \n",
       "...                               ...   ...   ...   ...   ...   ...   ...   \n",
       "Ophiocten sericeum      Echinodermata    28     0     0     0     0     0   \n",
       "Holoturoidea gen.sp.    Echinodermata     0     0     0     0    10     0   \n",
       "Chiridota laevis        Echinodermata     0     0     0     0     2     0   \n",
       "Pelonaia corrugata         Ascidiacea     0     0     0     2     0     0   \n",
       "Ascidia sp.                Ascidiacea     0     0     0     0     0     0   \n",
       "\n",
       "                        5001  5002  5003  4993  4994  4995  4996  \n",
       "species                                                           \n",
       "Tealia felina              0     4     0   0.0   0.0   0.0   0.0  \n",
       "Paraedwardsia arenaria     0     6     0   0.0   0.0   0.0   0.0  \n",
       "Alcionacea sp.A            0     0     0   0.0   0.0   0.0   0.0  \n",
       "Alcionacea sp.B            0     0     2   0.0   0.0   0.0   0.0  \n",
       "Actinia sp.                0    10     4   0.0   0.0   0.0   0.0  \n",
       "...                      ...   ...   ...   ...   ...   ...   ...  \n",
       "Ophiocten sericeum         0     0    60   0.0   0.0   0.0   0.0  \n",
       "Holoturoidea gen.sp.       0     0     2   0.0   0.0   0.0   0.0  \n",
       "Chiridota laevis           0     0     6   0.0   0.0   0.0   0.0  \n",
       "Pelonaia corrugata         0     0     0   0.0   0.0   0.0   0.0  \n",
       "Ascidia sp.                0     2     0   0.0   0.0   0.0   0.0  \n",
       "\n",
       "[135 rows x 14 columns]"
      ]
     },
     "metadata": {},
     "output_type": "display_data"
    },
    {
     "name": "stdout",
     "output_type": "stream",
     "text": [
      "<class 'pandas.core.frame.DataFrame'>\n",
      "Index: 135 entries, Tealia felina to Ascidia sp.\n",
      "Data columns (total 14 columns):\n",
      " #   Column  Non-Null Count  Dtype  \n",
      "---  ------  --------------  -----  \n",
      " 0   taxon   133 non-null    object \n",
      " 1   4957    135 non-null    int64  \n",
      " 2   4956    135 non-null    int64  \n",
      " 3   4955    135 non-null    int64  \n",
      " 4   4954    135 non-null    int64  \n",
      " 5   4999    135 non-null    int64  \n",
      " 6   5000    135 non-null    int64  \n",
      " 7   5001    135 non-null    int64  \n",
      " 8   5002    135 non-null    int64  \n",
      " 9   5003    135 non-null    int64  \n",
      " 10  4993    135 non-null    float64\n",
      " 11  4994    135 non-null    float64\n",
      " 12  4995    135 non-null    float64\n",
      " 13  4996    135 non-null    float64\n",
      "dtypes: float64(4), int64(9), object(1)\n",
      "memory usage: 15.8+ KB\n",
      "None\n"
     ]
    }
   ],
   "source": [
    "abundance = pd.read_excel(path, sheet_name='N', index_col = 'species')\n",
    "display(abundance)\n",
    "print(abundance.info())\n",
    "abundance = abundance.drop(['taxon'], axis=1)"
   ]
  },
  {
   "cell_type": "code",
   "execution_count": 5,
   "id": "d63f20f6",
   "metadata": {},
   "outputs": [
    {
     "data": {
      "text/html": [
       "<div>\n",
       "<style scoped>\n",
       "    .dataframe tbody tr th:only-of-type {\n",
       "        vertical-align: middle;\n",
       "    }\n",
       "\n",
       "    .dataframe tbody tr th {\n",
       "        vertical-align: top;\n",
       "    }\n",
       "\n",
       "    .dataframe thead th {\n",
       "        text-align: right;\n",
       "    }\n",
       "</style>\n",
       "<table border=\"1\" class=\"dataframe\">\n",
       "  <thead>\n",
       "    <tr style=\"text-align: right;\">\n",
       "      <th></th>\n",
       "      <th>taxon</th>\n",
       "      <th>4957</th>\n",
       "      <th>4956</th>\n",
       "      <th>4955</th>\n",
       "      <th>4954</th>\n",
       "      <th>4999</th>\n",
       "      <th>5000</th>\n",
       "      <th>5001</th>\n",
       "      <th>5002</th>\n",
       "      <th>5003</th>\n",
       "      <th>4993</th>\n",
       "      <th>4994</th>\n",
       "      <th>4995</th>\n",
       "      <th>4996</th>\n",
       "    </tr>\n",
       "    <tr>\n",
       "      <th>species</th>\n",
       "      <th></th>\n",
       "      <th></th>\n",
       "      <th></th>\n",
       "      <th></th>\n",
       "      <th></th>\n",
       "      <th></th>\n",
       "      <th></th>\n",
       "      <th></th>\n",
       "      <th></th>\n",
       "      <th></th>\n",
       "      <th></th>\n",
       "      <th></th>\n",
       "      <th></th>\n",
       "      <th></th>\n",
       "    </tr>\n",
       "  </thead>\n",
       "  <tbody>\n",
       "    <tr>\n",
       "      <th>Tealia felina</th>\n",
       "      <td>Anthozoa</td>\n",
       "      <td>0.000</td>\n",
       "      <td>0.000</td>\n",
       "      <td>0.000</td>\n",
       "      <td>0.000</td>\n",
       "      <td>4.594</td>\n",
       "      <td>3.936</td>\n",
       "      <td>0.0</td>\n",
       "      <td>18.714</td>\n",
       "      <td>0.000</td>\n",
       "      <td>0.0</td>\n",
       "      <td>0.0</td>\n",
       "      <td>0.0</td>\n",
       "      <td>0.0</td>\n",
       "    </tr>\n",
       "    <tr>\n",
       "      <th>Paraedwardsia arenaria</th>\n",
       "      <td>Anthozoa</td>\n",
       "      <td>0.000</td>\n",
       "      <td>0.000</td>\n",
       "      <td>0.000</td>\n",
       "      <td>0.000</td>\n",
       "      <td>0.000</td>\n",
       "      <td>0.000</td>\n",
       "      <td>0.0</td>\n",
       "      <td>0.004</td>\n",
       "      <td>0.000</td>\n",
       "      <td>0.0</td>\n",
       "      <td>0.0</td>\n",
       "      <td>0.0</td>\n",
       "      <td>0.0</td>\n",
       "    </tr>\n",
       "    <tr>\n",
       "      <th>Alcionacea sp.A</th>\n",
       "      <td>Anthozoa</td>\n",
       "      <td>1.228</td>\n",
       "      <td>0.000</td>\n",
       "      <td>0.000</td>\n",
       "      <td>0.000</td>\n",
       "      <td>0.000</td>\n",
       "      <td>0.000</td>\n",
       "      <td>0.0</td>\n",
       "      <td>0.000</td>\n",
       "      <td>0.664</td>\n",
       "      <td>0.0</td>\n",
       "      <td>0.0</td>\n",
       "      <td>0.0</td>\n",
       "      <td>0.0</td>\n",
       "    </tr>\n",
       "    <tr>\n",
       "      <th>Alcionacea sp.B</th>\n",
       "      <td>Anthozoa</td>\n",
       "      <td>0.000</td>\n",
       "      <td>0.000</td>\n",
       "      <td>0.000</td>\n",
       "      <td>0.000</td>\n",
       "      <td>0.000</td>\n",
       "      <td>0.000</td>\n",
       "      <td>0.0</td>\n",
       "      <td>0.000</td>\n",
       "      <td>0.154</td>\n",
       "      <td>0.0</td>\n",
       "      <td>0.0</td>\n",
       "      <td>0.0</td>\n",
       "      <td>0.0</td>\n",
       "    </tr>\n",
       "    <tr>\n",
       "      <th>Actinia sp.</th>\n",
       "      <td>Anthozoa</td>\n",
       "      <td>0.000</td>\n",
       "      <td>0.062</td>\n",
       "      <td>0.002</td>\n",
       "      <td>0.620</td>\n",
       "      <td>0.000</td>\n",
       "      <td>0.000</td>\n",
       "      <td>0.0</td>\n",
       "      <td>0.026</td>\n",
       "      <td>0.004</td>\n",
       "      <td>0.0</td>\n",
       "      <td>0.0</td>\n",
       "      <td>0.0</td>\n",
       "      <td>0.0</td>\n",
       "    </tr>\n",
       "    <tr>\n",
       "      <th>...</th>\n",
       "      <td>...</td>\n",
       "      <td>...</td>\n",
       "      <td>...</td>\n",
       "      <td>...</td>\n",
       "      <td>...</td>\n",
       "      <td>...</td>\n",
       "      <td>...</td>\n",
       "      <td>...</td>\n",
       "      <td>...</td>\n",
       "      <td>...</td>\n",
       "      <td>...</td>\n",
       "      <td>...</td>\n",
       "      <td>...</td>\n",
       "      <td>...</td>\n",
       "    </tr>\n",
       "    <tr>\n",
       "      <th>Ophiocten sericeum</th>\n",
       "      <td>Echinodermata</td>\n",
       "      <td>9.308</td>\n",
       "      <td>0.000</td>\n",
       "      <td>0.000</td>\n",
       "      <td>0.000</td>\n",
       "      <td>0.000</td>\n",
       "      <td>0.000</td>\n",
       "      <td>0.0</td>\n",
       "      <td>0.000</td>\n",
       "      <td>2.062</td>\n",
       "      <td>0.0</td>\n",
       "      <td>0.0</td>\n",
       "      <td>0.0</td>\n",
       "      <td>0.0</td>\n",
       "    </tr>\n",
       "    <tr>\n",
       "      <th>Holoturoidea gen.sp.</th>\n",
       "      <td>Echinodermata</td>\n",
       "      <td>0.000</td>\n",
       "      <td>0.000</td>\n",
       "      <td>0.000</td>\n",
       "      <td>0.000</td>\n",
       "      <td>0.234</td>\n",
       "      <td>0.000</td>\n",
       "      <td>0.0</td>\n",
       "      <td>0.000</td>\n",
       "      <td>0.110</td>\n",
       "      <td>0.0</td>\n",
       "      <td>0.0</td>\n",
       "      <td>0.0</td>\n",
       "      <td>0.0</td>\n",
       "    </tr>\n",
       "    <tr>\n",
       "      <th>Chiridota laevis</th>\n",
       "      <td>Echinodermata</td>\n",
       "      <td>0.000</td>\n",
       "      <td>0.000</td>\n",
       "      <td>0.000</td>\n",
       "      <td>0.000</td>\n",
       "      <td>0.002</td>\n",
       "      <td>0.000</td>\n",
       "      <td>0.0</td>\n",
       "      <td>0.000</td>\n",
       "      <td>0.006</td>\n",
       "      <td>0.0</td>\n",
       "      <td>0.0</td>\n",
       "      <td>0.0</td>\n",
       "      <td>0.0</td>\n",
       "    </tr>\n",
       "    <tr>\n",
       "      <th>Pelonaia corrugata</th>\n",
       "      <td>Ascidiacea</td>\n",
       "      <td>0.000</td>\n",
       "      <td>0.000</td>\n",
       "      <td>0.000</td>\n",
       "      <td>0.744</td>\n",
       "      <td>0.000</td>\n",
       "      <td>0.000</td>\n",
       "      <td>0.0</td>\n",
       "      <td>0.000</td>\n",
       "      <td>0.000</td>\n",
       "      <td>0.0</td>\n",
       "      <td>0.0</td>\n",
       "      <td>0.0</td>\n",
       "      <td>0.0</td>\n",
       "    </tr>\n",
       "    <tr>\n",
       "      <th>Ascidia sp.</th>\n",
       "      <td>Ascidiacea</td>\n",
       "      <td>0.000</td>\n",
       "      <td>0.000</td>\n",
       "      <td>0.000</td>\n",
       "      <td>0.000</td>\n",
       "      <td>0.000</td>\n",
       "      <td>0.000</td>\n",
       "      <td>0.0</td>\n",
       "      <td>0.076</td>\n",
       "      <td>0.000</td>\n",
       "      <td>0.0</td>\n",
       "      <td>0.0</td>\n",
       "      <td>0.0</td>\n",
       "      <td>0.0</td>\n",
       "    </tr>\n",
       "  </tbody>\n",
       "</table>\n",
       "<p>135 rows × 14 columns</p>\n",
       "</div>"
      ],
      "text/plain": [
       "                                taxon   4957   4956   4955   4954   4999  \\\n",
       "species                                                                    \n",
       "Tealia felina                Anthozoa  0.000  0.000  0.000  0.000  4.594   \n",
       "Paraedwardsia arenaria       Anthozoa  0.000  0.000  0.000  0.000  0.000   \n",
       "Alcionacea sp.A              Anthozoa  1.228  0.000  0.000  0.000  0.000   \n",
       "Alcionacea sp.B              Anthozoa  0.000  0.000  0.000  0.000  0.000   \n",
       "Actinia sp.                  Anthozoa  0.000  0.062  0.002  0.620  0.000   \n",
       "...                               ...    ...    ...    ...    ...    ...   \n",
       "Ophiocten sericeum      Echinodermata  9.308  0.000  0.000  0.000  0.000   \n",
       "Holoturoidea gen.sp.    Echinodermata  0.000  0.000  0.000  0.000  0.234   \n",
       "Chiridota laevis        Echinodermata  0.000  0.000  0.000  0.000  0.002   \n",
       "Pelonaia corrugata         Ascidiacea  0.000  0.000  0.000  0.744  0.000   \n",
       "Ascidia sp.                Ascidiacea  0.000  0.000  0.000  0.000  0.000   \n",
       "\n",
       "                         5000  5001    5002   5003  4993  4994  4995  4996  \n",
       "species                                                                     \n",
       "Tealia felina           3.936   0.0  18.714  0.000   0.0   0.0   0.0   0.0  \n",
       "Paraedwardsia arenaria  0.000   0.0   0.004  0.000   0.0   0.0   0.0   0.0  \n",
       "Alcionacea sp.A         0.000   0.0   0.000  0.664   0.0   0.0   0.0   0.0  \n",
       "Alcionacea sp.B         0.000   0.0   0.000  0.154   0.0   0.0   0.0   0.0  \n",
       "Actinia sp.             0.000   0.0   0.026  0.004   0.0   0.0   0.0   0.0  \n",
       "...                       ...   ...     ...    ...   ...   ...   ...   ...  \n",
       "Ophiocten sericeum      0.000   0.0   0.000  2.062   0.0   0.0   0.0   0.0  \n",
       "Holoturoidea gen.sp.    0.000   0.0   0.000  0.110   0.0   0.0   0.0   0.0  \n",
       "Chiridota laevis        0.000   0.0   0.000  0.006   0.0   0.0   0.0   0.0  \n",
       "Pelonaia corrugata      0.000   0.0   0.000  0.000   0.0   0.0   0.0   0.0  \n",
       "Ascidia sp.             0.000   0.0   0.076  0.000   0.0   0.0   0.0   0.0  \n",
       "\n",
       "[135 rows x 14 columns]"
      ]
     },
     "metadata": {},
     "output_type": "display_data"
    }
   ],
   "source": [
    "biomass = pd.read_excel(path, sheet_name='B', index_col = 'species')\n",
    "display(biomass)\n",
    "biomass = biomass.drop(['taxon'], axis=1)"
   ]
  },
  {
   "cell_type": "code",
   "execution_count": 6,
   "id": "f6858eba",
   "metadata": {},
   "outputs": [
    {
     "data": {
      "text/html": [
       "<div>\n",
       "<style scoped>\n",
       "    .dataframe tbody tr th:only-of-type {\n",
       "        vertical-align: middle;\n",
       "    }\n",
       "\n",
       "    .dataframe tbody tr th {\n",
       "        vertical-align: top;\n",
       "    }\n",
       "\n",
       "    .dataframe thead th {\n",
       "        text-align: right;\n",
       "    }\n",
       "</style>\n",
       "<table border=\"1\" class=\"dataframe\">\n",
       "  <thead>\n",
       "    <tr style=\"text-align: right;\">\n",
       "      <th></th>\n",
       "      <th>taxon</th>\n",
       "      <th>species</th>\n",
       "    </tr>\n",
       "  </thead>\n",
       "  <tbody>\n",
       "    <tr>\n",
       "      <th>0</th>\n",
       "      <td>Anthozoa</td>\n",
       "      <td>Tealia felina</td>\n",
       "    </tr>\n",
       "    <tr>\n",
       "      <th>1</th>\n",
       "      <td>Anthozoa</td>\n",
       "      <td>Paraedwardsia arenaria</td>\n",
       "    </tr>\n",
       "    <tr>\n",
       "      <th>2</th>\n",
       "      <td>Anthozoa</td>\n",
       "      <td>Alcionacea sp.A</td>\n",
       "    </tr>\n",
       "    <tr>\n",
       "      <th>3</th>\n",
       "      <td>Anthozoa</td>\n",
       "      <td>Alcionacea sp.B</td>\n",
       "    </tr>\n",
       "    <tr>\n",
       "      <th>4</th>\n",
       "      <td>Anthozoa</td>\n",
       "      <td>Actinia sp.</td>\n",
       "    </tr>\n",
       "    <tr>\n",
       "      <th>...</th>\n",
       "      <td>...</td>\n",
       "      <td>...</td>\n",
       "    </tr>\n",
       "    <tr>\n",
       "      <th>130</th>\n",
       "      <td>Echinodermata</td>\n",
       "      <td>Ophiocten sericeum</td>\n",
       "    </tr>\n",
       "    <tr>\n",
       "      <th>131</th>\n",
       "      <td>Echinodermata</td>\n",
       "      <td>Holoturoidea gen.sp.</td>\n",
       "    </tr>\n",
       "    <tr>\n",
       "      <th>132</th>\n",
       "      <td>Echinodermata</td>\n",
       "      <td>Chiridota laevis</td>\n",
       "    </tr>\n",
       "    <tr>\n",
       "      <th>133</th>\n",
       "      <td>Ascidiacea</td>\n",
       "      <td>Pelonaia corrugata</td>\n",
       "    </tr>\n",
       "    <tr>\n",
       "      <th>134</th>\n",
       "      <td>Ascidiacea</td>\n",
       "      <td>Ascidia sp.</td>\n",
       "    </tr>\n",
       "  </tbody>\n",
       "</table>\n",
       "<p>135 rows × 2 columns</p>\n",
       "</div>"
      ],
      "text/plain": [
       "             taxon                 species\n",
       "0         Anthozoa           Tealia felina\n",
       "1         Anthozoa  Paraedwardsia arenaria\n",
       "2         Anthozoa         Alcionacea sp.A\n",
       "3         Anthozoa         Alcionacea sp.B\n",
       "4         Anthozoa             Actinia sp.\n",
       "..             ...                     ...\n",
       "130  Echinodermata      Ophiocten sericeum\n",
       "131  Echinodermata    Holoturoidea gen.sp.\n",
       "132  Echinodermata        Chiridota laevis\n",
       "133     Ascidiacea      Pelonaia corrugata\n",
       "134     Ascidiacea             Ascidia sp.\n",
       "\n",
       "[135 rows x 2 columns]"
      ]
     },
     "metadata": {},
     "output_type": "display_data"
    }
   ],
   "source": [
    "taxons = pd.read_excel(path, sheet_name='taxons')\n",
    "display(taxons)"
   ]
  },
  {
   "cell_type": "code",
   "execution_count": 7,
   "id": "11c95203",
   "metadata": {},
   "outputs": [
    {
     "data": {
      "text/html": [
       "<div>\n",
       "<style scoped>\n",
       "    .dataframe tbody tr th:only-of-type {\n",
       "        vertical-align: middle;\n",
       "    }\n",
       "\n",
       "    .dataframe tbody tr th {\n",
       "        vertical-align: top;\n",
       "    }\n",
       "\n",
       "    .dataframe thead th {\n",
       "        text-align: right;\n",
       "    }\n",
       "</style>\n",
       "<table border=\"1\" class=\"dataframe\">\n",
       "  <thead>\n",
       "    <tr style=\"text-align: right;\">\n",
       "      <th></th>\n",
       "      <th>station</th>\n",
       "      <th>lat</th>\n",
       "      <th>lon</th>\n",
       "      <th>depth</th>\n",
       "      <th>temperature</th>\n",
       "      <th>salinity</th>\n",
       "      <th>sampler</th>\n",
       "      <th>community</th>\n",
       "      <th>vessel</th>\n",
       "      <th>year</th>\n",
       "      <th>number_of_samples</th>\n",
       "    </tr>\n",
       "  </thead>\n",
       "  <tbody>\n",
       "    <tr>\n",
       "      <th>0</th>\n",
       "      <td>4993</td>\n",
       "      <td>71.248333</td>\n",
       "      <td>72.865000</td>\n",
       "      <td>-20</td>\n",
       "      <td>7.2000</td>\n",
       "      <td>0.0468</td>\n",
       "      <td>ocean-0,1</td>\n",
       "      <td>Marenzelleria wireni</td>\n",
       "      <td>AMK</td>\n",
       "      <td>2007</td>\n",
       "      <td>3</td>\n",
       "    </tr>\n",
       "    <tr>\n",
       "      <th>1</th>\n",
       "      <td>4994</td>\n",
       "      <td>71.733333</td>\n",
       "      <td>72.788333</td>\n",
       "      <td>-16</td>\n",
       "      <td>6.0500</td>\n",
       "      <td>0.8550</td>\n",
       "      <td>ocean-0,25</td>\n",
       "      <td>Marenzelleria wireni</td>\n",
       "      <td>AMK</td>\n",
       "      <td>2007</td>\n",
       "      <td>3</td>\n",
       "    </tr>\n",
       "    <tr>\n",
       "      <th>2</th>\n",
       "      <td>4995</td>\n",
       "      <td>72.166667</td>\n",
       "      <td>73.238333</td>\n",
       "      <td>-11</td>\n",
       "      <td>4.3500</td>\n",
       "      <td>8.6900</td>\n",
       "      <td>ocean-0,1</td>\n",
       "      <td>Oligochaeta gen.sp.</td>\n",
       "      <td>AMK</td>\n",
       "      <td>2007</td>\n",
       "      <td>3</td>\n",
       "    </tr>\n",
       "    <tr>\n",
       "      <th>3</th>\n",
       "      <td>4996</td>\n",
       "      <td>72.570000</td>\n",
       "      <td>73.821667</td>\n",
       "      <td>-15</td>\n",
       "      <td>2.2400</td>\n",
       "      <td>24.4430</td>\n",
       "      <td>ocean-0,1</td>\n",
       "      <td>Portlandia arctica</td>\n",
       "      <td>AMK</td>\n",
       "      <td>2007</td>\n",
       "      <td>3</td>\n",
       "    </tr>\n",
       "    <tr>\n",
       "      <th>4</th>\n",
       "      <td>4999</td>\n",
       "      <td>72.953333</td>\n",
       "      <td>73.285000</td>\n",
       "      <td>-26</td>\n",
       "      <td>0.0900</td>\n",
       "      <td>29.5250</td>\n",
       "      <td>ocean-0,1</td>\n",
       "      <td>Musculus niger – Portlandia arctica</td>\n",
       "      <td>AMK</td>\n",
       "      <td>2007</td>\n",
       "      <td>5</td>\n",
       "    </tr>\n",
       "    <tr>\n",
       "      <th>5</th>\n",
       "      <td>5000</td>\n",
       "      <td>73.751667</td>\n",
       "      <td>72.943333</td>\n",
       "      <td>-27</td>\n",
       "      <td>0.8000</td>\n",
       "      <td>32.1250</td>\n",
       "      <td>ocean-0,1</td>\n",
       "      <td>Musculus niger – Portlandia arctica</td>\n",
       "      <td>AMK</td>\n",
       "      <td>2007</td>\n",
       "      <td>5</td>\n",
       "    </tr>\n",
       "    <tr>\n",
       "      <th>6</th>\n",
       "      <td>5001</td>\n",
       "      <td>74.583333</td>\n",
       "      <td>72.758333</td>\n",
       "      <td>-24</td>\n",
       "      <td>-1.2054</td>\n",
       "      <td>32.7148</td>\n",
       "      <td>ocean-0,1</td>\n",
       "      <td>Musculus niger – Portlandia arctica</td>\n",
       "      <td>AMK</td>\n",
       "      <td>2007</td>\n",
       "      <td>5</td>\n",
       "    </tr>\n",
       "    <tr>\n",
       "      <th>7</th>\n",
       "      <td>5002</td>\n",
       "      <td>75.168333</td>\n",
       "      <td>72.608333</td>\n",
       "      <td>-29</td>\n",
       "      <td>1.1500</td>\n",
       "      <td>32.2860</td>\n",
       "      <td>ocean-0,1</td>\n",
       "      <td>Ophelia limacina</td>\n",
       "      <td>AMK</td>\n",
       "      <td>2007</td>\n",
       "      <td>5</td>\n",
       "    </tr>\n",
       "    <tr>\n",
       "      <th>8</th>\n",
       "      <td>5003</td>\n",
       "      <td>75.440000</td>\n",
       "      <td>72.531667</td>\n",
       "      <td>-55</td>\n",
       "      <td>1.1300</td>\n",
       "      <td>32.8520</td>\n",
       "      <td>ocean-0,1</td>\n",
       "      <td>Ophiocten sericeum</td>\n",
       "      <td>AMK</td>\n",
       "      <td>2007</td>\n",
       "      <td>5</td>\n",
       "    </tr>\n",
       "    <tr>\n",
       "      <th>9</th>\n",
       "      <td>4954</td>\n",
       "      <td>71.130000</td>\n",
       "      <td>66.616667</td>\n",
       "      <td>-16</td>\n",
       "      <td>5.2424</td>\n",
       "      <td>33.4086</td>\n",
       "      <td>ocean-0,1</td>\n",
       "      <td>Nephtys longosetosa</td>\n",
       "      <td>AMK</td>\n",
       "      <td>2007</td>\n",
       "      <td>5</td>\n",
       "    </tr>\n",
       "    <tr>\n",
       "      <th>10</th>\n",
       "      <td>4955</td>\n",
       "      <td>71.200000</td>\n",
       "      <td>66.150000</td>\n",
       "      <td>-24</td>\n",
       "      <td>5.3223</td>\n",
       "      <td>32.9325</td>\n",
       "      <td>ocean-0,1</td>\n",
       "      <td>Serripes groenlandicus</td>\n",
       "      <td>AMK</td>\n",
       "      <td>2007</td>\n",
       "      <td>5</td>\n",
       "    </tr>\n",
       "    <tr>\n",
       "      <th>11</th>\n",
       "      <td>4956</td>\n",
       "      <td>71.250000</td>\n",
       "      <td>65.836667</td>\n",
       "      <td>-35</td>\n",
       "      <td>4.2861</td>\n",
       "      <td>33.1593</td>\n",
       "      <td>ocean-0,1</td>\n",
       "      <td>Astarte borealis</td>\n",
       "      <td>AMK</td>\n",
       "      <td>2007</td>\n",
       "      <td>5</td>\n",
       "    </tr>\n",
       "    <tr>\n",
       "      <th>12</th>\n",
       "      <td>4957</td>\n",
       "      <td>71.283333</td>\n",
       "      <td>65.623333</td>\n",
       "      <td>-46</td>\n",
       "      <td>1.1112</td>\n",
       "      <td>33.7366</td>\n",
       "      <td>ocean-0,1</td>\n",
       "      <td>Astarte borealis</td>\n",
       "      <td>AMK</td>\n",
       "      <td>2007</td>\n",
       "      <td>5</td>\n",
       "    </tr>\n",
       "  </tbody>\n",
       "</table>\n",
       "</div>"
      ],
      "text/plain": [
       "    station        lat        lon  depth  temperature  salinity     sampler  \\\n",
       "0      4993  71.248333  72.865000    -20       7.2000    0.0468   ocean-0,1   \n",
       "1      4994  71.733333  72.788333    -16       6.0500    0.8550  ocean-0,25   \n",
       "2      4995  72.166667  73.238333    -11       4.3500    8.6900   ocean-0,1   \n",
       "3      4996  72.570000  73.821667    -15       2.2400   24.4430   ocean-0,1   \n",
       "4      4999  72.953333  73.285000    -26       0.0900   29.5250   ocean-0,1   \n",
       "5      5000  73.751667  72.943333    -27       0.8000   32.1250   ocean-0,1   \n",
       "6      5001  74.583333  72.758333    -24      -1.2054   32.7148   ocean-0,1   \n",
       "7      5002  75.168333  72.608333    -29       1.1500   32.2860   ocean-0,1   \n",
       "8      5003  75.440000  72.531667    -55       1.1300   32.8520   ocean-0,1   \n",
       "9      4954  71.130000  66.616667    -16       5.2424   33.4086   ocean-0,1   \n",
       "10     4955  71.200000  66.150000    -24       5.3223   32.9325   ocean-0,1   \n",
       "11     4956  71.250000  65.836667    -35       4.2861   33.1593   ocean-0,1   \n",
       "12     4957  71.283333  65.623333    -46       1.1112   33.7366   ocean-0,1   \n",
       "\n",
       "                              community vessel  year  number_of_samples  \n",
       "0                  Marenzelleria wireni    AMK  2007                  3  \n",
       "1                  Marenzelleria wireni    AMK  2007                  3  \n",
       "2                   Oligochaeta gen.sp.    AMK  2007                  3  \n",
       "3                    Portlandia arctica    AMK  2007                  3  \n",
       "4   Musculus niger – Portlandia arctica    AMK  2007                  5  \n",
       "5   Musculus niger – Portlandia arctica    AMK  2007                  5  \n",
       "6   Musculus niger – Portlandia arctica    AMK  2007                  5  \n",
       "7                      Ophelia limacina    AMK  2007                  5  \n",
       "8                    Ophiocten sericeum    AMK  2007                  5  \n",
       "9                   Nephtys longosetosa    AMK  2007                  5  \n",
       "10               Serripes groenlandicus    AMK  2007                  5  \n",
       "11                     Astarte borealis    AMK  2007                  5  \n",
       "12                     Astarte borealis    AMK  2007                  5  "
      ]
     },
     "metadata": {},
     "output_type": "display_data"
    },
    {
     "name": "stdout",
     "output_type": "stream",
     "text": [
      "<class 'pandas.core.frame.DataFrame'>\n",
      "RangeIndex: 13 entries, 0 to 12\n",
      "Data columns (total 11 columns):\n",
      " #   Column             Non-Null Count  Dtype  \n",
      "---  ------             --------------  -----  \n",
      " 0   station            13 non-null     int64  \n",
      " 1   lat                13 non-null     float64\n",
      " 2   lon                13 non-null     float64\n",
      " 3   depth              13 non-null     int64  \n",
      " 4   temperature        13 non-null     float64\n",
      " 5   salinity           13 non-null     float64\n",
      " 6   sampler            13 non-null     object \n",
      " 7   community          13 non-null     object \n",
      " 8   vessel             13 non-null     object \n",
      " 9   year               13 non-null     int64  \n",
      " 10  number_of_samples  13 non-null     int64  \n",
      "dtypes: float64(4), int64(4), object(3)\n",
      "memory usage: 1.2+ KB\n",
      "None\n",
      "           station        lat        lon      depth  temperature   salinity  \\\n",
      "count    13.000000  13.000000  13.000000  13.000000    13.000000  13.000000   \n",
      "mean   4985.000000  72.652179  70.851282 -26.461538     2.905123  25.136508   \n",
      "std      20.700242   1.593088   3.350220  12.646577     2.626492  12.889782   \n",
      "min    4954.000000  71.130000  65.623333 -55.000000    -1.205400   0.046800   \n",
      "25%    4957.000000  71.250000  66.616667 -29.000000     1.111200  24.443000   \n",
      "50%    4995.000000  72.166667  72.758333 -24.000000     2.240000  32.286000   \n",
      "75%    5000.000000  73.751667  72.943333 -16.000000     5.242400  32.932500   \n",
      "max    5003.000000  75.440000  73.821667 -11.000000     7.200000  33.736600   \n",
      "\n",
      "         year  number_of_samples  \n",
      "count    13.0          13.000000  \n",
      "mean   2007.0           4.384615  \n",
      "std       0.0           0.960769  \n",
      "min    2007.0           3.000000  \n",
      "25%    2007.0           3.000000  \n",
      "50%    2007.0           5.000000  \n",
      "75%    2007.0           5.000000  \n",
      "max    2007.0           5.000000  \n"
     ]
    }
   ],
   "source": [
    "data = pd.read_excel(path, sheet_name='common')\n",
    "display(data)\n",
    "print(data.info())\n",
    "print(data.describe())"
   ]
  },
  {
   "cell_type": "markdown",
   "id": "ae69116f",
   "metadata": {},
   "source": [
    "# Functions"
   ]
  },
  {
   "cell_type": "code",
   "execution_count": 8,
   "id": "060e4920",
   "metadata": {},
   "outputs": [],
   "source": [
    "def number_of_species_df(data):\n",
    "    num_sp_list = []\n",
    "    c_list = data.columns\n",
    "    for i in c_list:\n",
    "        species = data[c_list][i].apply(lambda x: 1 if x > 0 else 0)\n",
    "        num_sp_list.append(species)    \n",
    "    num_sp_tab = pd.DataFrame(data=num_sp_list, index=data.columns, columns=data.index)\n",
    "    return num_sp_tab.T"
   ]
  },
  {
   "cell_type": "code",
   "execution_count": 9,
   "id": "53443beb",
   "metadata": {},
   "outputs": [],
   "source": [
    "sh_lambda = lambda x: - np.nansum(np.array(x)/sum(x) * np.log(np.array(x)/sum(x)))"
   ]
  },
  {
   "cell_type": "code",
   "execution_count": 10,
   "id": "b7ad5dd1",
   "metadata": {},
   "outputs": [],
   "source": [
    "shanone_df = lambda x: [sh_lambda(np.array(x)[:, i]) for i in range(np.array(x).shape[1])]"
   ]
  },
  {
   "cell_type": "markdown",
   "id": "a1a4d380",
   "metadata": {},
   "source": [
    "# Processing_to_one_df"
   ]
  },
  {
   "cell_type": "code",
   "execution_count": 11,
   "id": "f104c749",
   "metadata": {},
   "outputs": [
    {
     "data": {
      "text/html": [
       "<div>\n",
       "<style scoped>\n",
       "    .dataframe tbody tr th:only-of-type {\n",
       "        vertical-align: middle;\n",
       "    }\n",
       "\n",
       "    .dataframe tbody tr th {\n",
       "        vertical-align: top;\n",
       "    }\n",
       "\n",
       "    .dataframe thead th {\n",
       "        text-align: right;\n",
       "    }\n",
       "</style>\n",
       "<table border=\"1\" class=\"dataframe\">\n",
       "  <thead>\n",
       "    <tr style=\"text-align: right;\">\n",
       "      <th></th>\n",
       "      <th>4957</th>\n",
       "      <th>4956</th>\n",
       "      <th>4955</th>\n",
       "      <th>4954</th>\n",
       "      <th>4999</th>\n",
       "      <th>5000</th>\n",
       "      <th>5001</th>\n",
       "      <th>5002</th>\n",
       "      <th>5003</th>\n",
       "      <th>4993</th>\n",
       "      <th>4994</th>\n",
       "      <th>4995</th>\n",
       "      <th>4996</th>\n",
       "    </tr>\n",
       "    <tr>\n",
       "      <th>species</th>\n",
       "      <th></th>\n",
       "      <th></th>\n",
       "      <th></th>\n",
       "      <th></th>\n",
       "      <th></th>\n",
       "      <th></th>\n",
       "      <th></th>\n",
       "      <th></th>\n",
       "      <th></th>\n",
       "      <th></th>\n",
       "      <th></th>\n",
       "      <th></th>\n",
       "      <th></th>\n",
       "    </tr>\n",
       "  </thead>\n",
       "  <tbody>\n",
       "    <tr>\n",
       "      <th>Tealia felina</th>\n",
       "      <td>0</td>\n",
       "      <td>0</td>\n",
       "      <td>0</td>\n",
       "      <td>0</td>\n",
       "      <td>1</td>\n",
       "      <td>1</td>\n",
       "      <td>0</td>\n",
       "      <td>1</td>\n",
       "      <td>0</td>\n",
       "      <td>0</td>\n",
       "      <td>0</td>\n",
       "      <td>0</td>\n",
       "      <td>0</td>\n",
       "    </tr>\n",
       "    <tr>\n",
       "      <th>Paraedwardsia arenaria</th>\n",
       "      <td>0</td>\n",
       "      <td>0</td>\n",
       "      <td>0</td>\n",
       "      <td>0</td>\n",
       "      <td>0</td>\n",
       "      <td>0</td>\n",
       "      <td>0</td>\n",
       "      <td>1</td>\n",
       "      <td>0</td>\n",
       "      <td>0</td>\n",
       "      <td>0</td>\n",
       "      <td>0</td>\n",
       "      <td>0</td>\n",
       "    </tr>\n",
       "    <tr>\n",
       "      <th>Alcionacea sp.A</th>\n",
       "      <td>1</td>\n",
       "      <td>0</td>\n",
       "      <td>0</td>\n",
       "      <td>0</td>\n",
       "      <td>0</td>\n",
       "      <td>0</td>\n",
       "      <td>0</td>\n",
       "      <td>0</td>\n",
       "      <td>0</td>\n",
       "      <td>0</td>\n",
       "      <td>0</td>\n",
       "      <td>0</td>\n",
       "      <td>0</td>\n",
       "    </tr>\n",
       "    <tr>\n",
       "      <th>Alcionacea sp.B</th>\n",
       "      <td>0</td>\n",
       "      <td>0</td>\n",
       "      <td>0</td>\n",
       "      <td>0</td>\n",
       "      <td>0</td>\n",
       "      <td>0</td>\n",
       "      <td>0</td>\n",
       "      <td>0</td>\n",
       "      <td>1</td>\n",
       "      <td>0</td>\n",
       "      <td>0</td>\n",
       "      <td>0</td>\n",
       "      <td>0</td>\n",
       "    </tr>\n",
       "    <tr>\n",
       "      <th>Actinia sp.</th>\n",
       "      <td>0</td>\n",
       "      <td>1</td>\n",
       "      <td>1</td>\n",
       "      <td>1</td>\n",
       "      <td>0</td>\n",
       "      <td>0</td>\n",
       "      <td>0</td>\n",
       "      <td>1</td>\n",
       "      <td>1</td>\n",
       "      <td>0</td>\n",
       "      <td>0</td>\n",
       "      <td>0</td>\n",
       "      <td>0</td>\n",
       "    </tr>\n",
       "    <tr>\n",
       "      <th>...</th>\n",
       "      <td>...</td>\n",
       "      <td>...</td>\n",
       "      <td>...</td>\n",
       "      <td>...</td>\n",
       "      <td>...</td>\n",
       "      <td>...</td>\n",
       "      <td>...</td>\n",
       "      <td>...</td>\n",
       "      <td>...</td>\n",
       "      <td>...</td>\n",
       "      <td>...</td>\n",
       "      <td>...</td>\n",
       "      <td>...</td>\n",
       "    </tr>\n",
       "    <tr>\n",
       "      <th>Ophiocten sericeum</th>\n",
       "      <td>1</td>\n",
       "      <td>0</td>\n",
       "      <td>0</td>\n",
       "      <td>0</td>\n",
       "      <td>0</td>\n",
       "      <td>0</td>\n",
       "      <td>0</td>\n",
       "      <td>0</td>\n",
       "      <td>1</td>\n",
       "      <td>0</td>\n",
       "      <td>0</td>\n",
       "      <td>0</td>\n",
       "      <td>0</td>\n",
       "    </tr>\n",
       "    <tr>\n",
       "      <th>Holoturoidea gen.sp.</th>\n",
       "      <td>0</td>\n",
       "      <td>0</td>\n",
       "      <td>0</td>\n",
       "      <td>0</td>\n",
       "      <td>1</td>\n",
       "      <td>0</td>\n",
       "      <td>0</td>\n",
       "      <td>0</td>\n",
       "      <td>1</td>\n",
       "      <td>0</td>\n",
       "      <td>0</td>\n",
       "      <td>0</td>\n",
       "      <td>0</td>\n",
       "    </tr>\n",
       "    <tr>\n",
       "      <th>Chiridota laevis</th>\n",
       "      <td>0</td>\n",
       "      <td>0</td>\n",
       "      <td>0</td>\n",
       "      <td>0</td>\n",
       "      <td>1</td>\n",
       "      <td>0</td>\n",
       "      <td>0</td>\n",
       "      <td>0</td>\n",
       "      <td>1</td>\n",
       "      <td>0</td>\n",
       "      <td>0</td>\n",
       "      <td>0</td>\n",
       "      <td>0</td>\n",
       "    </tr>\n",
       "    <tr>\n",
       "      <th>Pelonaia corrugata</th>\n",
       "      <td>0</td>\n",
       "      <td>0</td>\n",
       "      <td>0</td>\n",
       "      <td>1</td>\n",
       "      <td>0</td>\n",
       "      <td>0</td>\n",
       "      <td>0</td>\n",
       "      <td>0</td>\n",
       "      <td>0</td>\n",
       "      <td>0</td>\n",
       "      <td>0</td>\n",
       "      <td>0</td>\n",
       "      <td>0</td>\n",
       "    </tr>\n",
       "    <tr>\n",
       "      <th>Ascidia sp.</th>\n",
       "      <td>0</td>\n",
       "      <td>0</td>\n",
       "      <td>0</td>\n",
       "      <td>0</td>\n",
       "      <td>0</td>\n",
       "      <td>0</td>\n",
       "      <td>0</td>\n",
       "      <td>1</td>\n",
       "      <td>0</td>\n",
       "      <td>0</td>\n",
       "      <td>0</td>\n",
       "      <td>0</td>\n",
       "      <td>0</td>\n",
       "    </tr>\n",
       "  </tbody>\n",
       "</table>\n",
       "<p>135 rows × 13 columns</p>\n",
       "</div>"
      ],
      "text/plain": [
       "                        4957  4956  4955  4954  4999  5000  5001  5002  5003  \\\n",
       "species                                                                        \n",
       "Tealia felina              0     0     0     0     1     1     0     1     0   \n",
       "Paraedwardsia arenaria     0     0     0     0     0     0     0     1     0   \n",
       "Alcionacea sp.A            1     0     0     0     0     0     0     0     0   \n",
       "Alcionacea sp.B            0     0     0     0     0     0     0     0     1   \n",
       "Actinia sp.                0     1     1     1     0     0     0     1     1   \n",
       "...                      ...   ...   ...   ...   ...   ...   ...   ...   ...   \n",
       "Ophiocten sericeum         1     0     0     0     0     0     0     0     1   \n",
       "Holoturoidea gen.sp.       0     0     0     0     1     0     0     0     1   \n",
       "Chiridota laevis           0     0     0     0     1     0     0     0     1   \n",
       "Pelonaia corrugata         0     0     0     1     0     0     0     0     0   \n",
       "Ascidia sp.                0     0     0     0     0     0     0     1     0   \n",
       "\n",
       "                        4993  4994  4995  4996  \n",
       "species                                         \n",
       "Tealia felina              0     0     0     0  \n",
       "Paraedwardsia arenaria     0     0     0     0  \n",
       "Alcionacea sp.A            0     0     0     0  \n",
       "Alcionacea sp.B            0     0     0     0  \n",
       "Actinia sp.                0     0     0     0  \n",
       "...                      ...   ...   ...   ...  \n",
       "Ophiocten sericeum         0     0     0     0  \n",
       "Holoturoidea gen.sp.       0     0     0     0  \n",
       "Chiridota laevis           0     0     0     0  \n",
       "Pelonaia corrugata         0     0     0     0  \n",
       "Ascidia sp.                0     0     0     0  \n",
       "\n",
       "[135 rows x 13 columns]"
      ]
     },
     "execution_count": 11,
     "metadata": {},
     "output_type": "execute_result"
    }
   ],
   "source": [
    "presence_abscense = number_of_species_df(abundance)\n",
    "presence_abscense"
   ]
  },
  {
   "cell_type": "code",
   "execution_count": 12,
   "id": "00862c5a",
   "metadata": {},
   "outputs": [
    {
     "name": "stderr",
     "output_type": "stream",
     "text": [
      "/var/folders/4c/hjs_wdj51j582vlxww6jc4fr0000gn/T/ipykernel_890/676494362.py:1: RuntimeWarning: divide by zero encountered in log\n",
      "  sh_lambda = lambda x: - np.nansum(np.array(x)/sum(x) * np.log(np.array(x)/sum(x)))\n",
      "/var/folders/4c/hjs_wdj51j582vlxww6jc4fr0000gn/T/ipykernel_890/676494362.py:1: RuntimeWarning: invalid value encountered in multiply\n",
      "  sh_lambda = lambda x: - np.nansum(np.array(x)/sum(x) * np.log(np.array(x)/sum(x)))\n"
     ]
    },
    {
     "data": {
      "text/plain": [
       "[2.975802924597448,\n",
       " 1.6393100980091937,\n",
       " 2.845784639742215,\n",
       " 3.2608639993346413,\n",
       " 2.6057203083650906,\n",
       " 1.9973860127661416,\n",
       " 2.8225179366927797,\n",
       " 2.1672415352999606,\n",
       " 2.9151076155411855,\n",
       " 0.7102660346123585,\n",
       " 0.7394329694971629,\n",
       " 0.2124089713848949,\n",
       " 1.4761864356617362]"
      ]
     },
     "execution_count": 12,
     "metadata": {},
     "output_type": "execute_result"
    }
   ],
   "source": [
    "shanone_vals = shanone_df(abundance)\n",
    "shanone_vals"
   ]
  },
  {
   "cell_type": "code",
   "execution_count": 13,
   "id": "7246c6ea",
   "metadata": {},
   "outputs": [],
   "source": [
    "pa_col_list = presence_abscense.columns\n",
    "pa_sum = []\n",
    "abundance_sum = []\n",
    "biomass_sum = []\n",
    "for i in pa_col_list:\n",
    "    pa_sum.append(sum(presence_abscense[pa_col_list][i]))\n",
    "    abundance_sum.append(sum(abundance[pa_col_list][i]))\n",
    "    biomass_sum.append(sum(biomass[pa_col_list][i]))"
   ]
  },
  {
   "cell_type": "code",
   "execution_count": 14,
   "id": "2b024072",
   "metadata": {},
   "outputs": [
    {
     "data": {
      "text/html": [
       "<div>\n",
       "<style scoped>\n",
       "    .dataframe tbody tr th:only-of-type {\n",
       "        vertical-align: middle;\n",
       "    }\n",
       "\n",
       "    .dataframe tbody tr th {\n",
       "        vertical-align: top;\n",
       "    }\n",
       "\n",
       "    .dataframe thead th {\n",
       "        text-align: right;\n",
       "    }\n",
       "</style>\n",
       "<table border=\"1\" class=\"dataframe\">\n",
       "  <thead>\n",
       "    <tr style=\"text-align: right;\">\n",
       "      <th></th>\n",
       "      <th>station</th>\n",
       "      <th>shanone</th>\n",
       "      <th>number_of_species</th>\n",
       "      <th>total_abundance</th>\n",
       "      <th>total_biomass</th>\n",
       "    </tr>\n",
       "  </thead>\n",
       "  <tbody>\n",
       "    <tr>\n",
       "      <th>0</th>\n",
       "      <td>4957</td>\n",
       "      <td>2.975803</td>\n",
       "      <td>61.0</td>\n",
       "      <td>3226.000000</td>\n",
       "      <td>143.182000</td>\n",
       "    </tr>\n",
       "    <tr>\n",
       "      <th>1</th>\n",
       "      <td>4956</td>\n",
       "      <td>1.639310</td>\n",
       "      <td>52.0</td>\n",
       "      <td>5366.000000</td>\n",
       "      <td>160.030000</td>\n",
       "    </tr>\n",
       "    <tr>\n",
       "      <th>2</th>\n",
       "      <td>4955</td>\n",
       "      <td>2.845785</td>\n",
       "      <td>35.0</td>\n",
       "      <td>490.000000</td>\n",
       "      <td>12.436000</td>\n",
       "    </tr>\n",
       "    <tr>\n",
       "      <th>3</th>\n",
       "      <td>4954</td>\n",
       "      <td>3.260864</td>\n",
       "      <td>57.0</td>\n",
       "      <td>1980.000000</td>\n",
       "      <td>22.608000</td>\n",
       "    </tr>\n",
       "    <tr>\n",
       "      <th>4</th>\n",
       "      <td>4999</td>\n",
       "      <td>2.605720</td>\n",
       "      <td>28.0</td>\n",
       "      <td>784.000000</td>\n",
       "      <td>49.436000</td>\n",
       "    </tr>\n",
       "    <tr>\n",
       "      <th>5</th>\n",
       "      <td>5000</td>\n",
       "      <td>1.997386</td>\n",
       "      <td>25.0</td>\n",
       "      <td>1790.000000</td>\n",
       "      <td>66.252000</td>\n",
       "    </tr>\n",
       "    <tr>\n",
       "      <th>6</th>\n",
       "      <td>5001</td>\n",
       "      <td>2.822518</td>\n",
       "      <td>45.0</td>\n",
       "      <td>1652.000000</td>\n",
       "      <td>105.424286</td>\n",
       "    </tr>\n",
       "    <tr>\n",
       "      <th>7</th>\n",
       "      <td>5002</td>\n",
       "      <td>2.167242</td>\n",
       "      <td>28.0</td>\n",
       "      <td>652.000000</td>\n",
       "      <td>24.390857</td>\n",
       "    </tr>\n",
       "    <tr>\n",
       "      <th>8</th>\n",
       "      <td>5003</td>\n",
       "      <td>2.915108</td>\n",
       "      <td>55.0</td>\n",
       "      <td>2174.000000</td>\n",
       "      <td>49.500857</td>\n",
       "    </tr>\n",
       "    <tr>\n",
       "      <th>9</th>\n",
       "      <td>4993</td>\n",
       "      <td>0.710266</td>\n",
       "      <td>6.0</td>\n",
       "      <td>15009.356827</td>\n",
       "      <td>56.596101</td>\n",
       "    </tr>\n",
       "    <tr>\n",
       "      <th>10</th>\n",
       "      <td>4994</td>\n",
       "      <td>0.739433</td>\n",
       "      <td>5.0</td>\n",
       "      <td>6884.847693</td>\n",
       "      <td>22.995770</td>\n",
       "    </tr>\n",
       "    <tr>\n",
       "      <th>11</th>\n",
       "      <td>4995</td>\n",
       "      <td>0.212409</td>\n",
       "      <td>5.0</td>\n",
       "      <td>13611.217891</td>\n",
       "      <td>30.583028</td>\n",
       "    </tr>\n",
       "    <tr>\n",
       "      <th>12</th>\n",
       "      <td>4996</td>\n",
       "      <td>1.476186</td>\n",
       "      <td>17.0</td>\n",
       "      <td>1606.543763</td>\n",
       "      <td>25.019750</td>\n",
       "    </tr>\n",
       "  </tbody>\n",
       "</table>\n",
       "</div>"
      ],
      "text/plain": [
       "    station   shanone  number_of_species  total_abundance  total_biomass\n",
       "0      4957  2.975803               61.0      3226.000000     143.182000\n",
       "1      4956  1.639310               52.0      5366.000000     160.030000\n",
       "2      4955  2.845785               35.0       490.000000      12.436000\n",
       "3      4954  3.260864               57.0      1980.000000      22.608000\n",
       "4      4999  2.605720               28.0       784.000000      49.436000\n",
       "5      5000  1.997386               25.0      1790.000000      66.252000\n",
       "6      5001  2.822518               45.0      1652.000000     105.424286\n",
       "7      5002  2.167242               28.0       652.000000      24.390857\n",
       "8      5003  2.915108               55.0      2174.000000      49.500857\n",
       "9      4993  0.710266                6.0     15009.356827      56.596101\n",
       "10     4994  0.739433                5.0      6884.847693      22.995770\n",
       "11     4995  0.212409                5.0     13611.217891      30.583028\n",
       "12     4996  1.476186               17.0      1606.543763      25.019750"
      ]
     },
     "execution_count": 14,
     "metadata": {},
     "output_type": "execute_result"
    }
   ],
   "source": [
    "data_from_tabs = pd.DataFrame([pa_col_list, shanone_vals, pa_sum, abundance_sum, biomass_sum], index=['station', 'shanone', 'number_of_species', 'total_abundance', 'total_biomass'])\n",
    "data_from_tabs = data_from_tabs.T\n",
    "data_from_tabs['station'] = data_from_tabs['station'].astype('int')\n",
    "data_from_tabs"
   ]
  },
  {
   "cell_type": "code",
   "execution_count": 15,
   "id": "da7801a5",
   "metadata": {},
   "outputs": [],
   "source": [
    "data = data.merge(data_from_tabs, on='station')"
   ]
  },
  {
   "cell_type": "code",
   "execution_count": 16,
   "id": "64781135",
   "metadata": {},
   "outputs": [
    {
     "data": {
      "text/html": [
       "<div>\n",
       "<style scoped>\n",
       "    .dataframe tbody tr th:only-of-type {\n",
       "        vertical-align: middle;\n",
       "    }\n",
       "\n",
       "    .dataframe tbody tr th {\n",
       "        vertical-align: top;\n",
       "    }\n",
       "\n",
       "    .dataframe thead th {\n",
       "        text-align: right;\n",
       "    }\n",
       "</style>\n",
       "<table border=\"1\" class=\"dataframe\">\n",
       "  <thead>\n",
       "    <tr style=\"text-align: right;\">\n",
       "      <th></th>\n",
       "      <th>station</th>\n",
       "      <th>lat</th>\n",
       "      <th>lon</th>\n",
       "      <th>depth</th>\n",
       "      <th>temperature</th>\n",
       "      <th>salinity</th>\n",
       "      <th>sampler</th>\n",
       "      <th>community</th>\n",
       "      <th>vessel</th>\n",
       "      <th>year</th>\n",
       "      <th>number_of_samples</th>\n",
       "      <th>shanone</th>\n",
       "      <th>number_of_species</th>\n",
       "      <th>total_abundance</th>\n",
       "      <th>total_biomass</th>\n",
       "    </tr>\n",
       "  </thead>\n",
       "  <tbody>\n",
       "    <tr>\n",
       "      <th>0</th>\n",
       "      <td>4993</td>\n",
       "      <td>71.248333</td>\n",
       "      <td>72.865000</td>\n",
       "      <td>-20</td>\n",
       "      <td>7.2000</td>\n",
       "      <td>0.0468</td>\n",
       "      <td>ocean-0,1</td>\n",
       "      <td>Marenzelleria wireni</td>\n",
       "      <td>AMK</td>\n",
       "      <td>2007</td>\n",
       "      <td>3</td>\n",
       "      <td>0.710266</td>\n",
       "      <td>6.0</td>\n",
       "      <td>15009.356827</td>\n",
       "      <td>56.596101</td>\n",
       "    </tr>\n",
       "    <tr>\n",
       "      <th>1</th>\n",
       "      <td>4994</td>\n",
       "      <td>71.733333</td>\n",
       "      <td>72.788333</td>\n",
       "      <td>-16</td>\n",
       "      <td>6.0500</td>\n",
       "      <td>0.8550</td>\n",
       "      <td>ocean-0,25</td>\n",
       "      <td>Marenzelleria wireni</td>\n",
       "      <td>AMK</td>\n",
       "      <td>2007</td>\n",
       "      <td>3</td>\n",
       "      <td>0.739433</td>\n",
       "      <td>5.0</td>\n",
       "      <td>6884.847693</td>\n",
       "      <td>22.995770</td>\n",
       "    </tr>\n",
       "    <tr>\n",
       "      <th>2</th>\n",
       "      <td>4995</td>\n",
       "      <td>72.166667</td>\n",
       "      <td>73.238333</td>\n",
       "      <td>-11</td>\n",
       "      <td>4.3500</td>\n",
       "      <td>8.6900</td>\n",
       "      <td>ocean-0,1</td>\n",
       "      <td>Oligochaeta gen.sp.</td>\n",
       "      <td>AMK</td>\n",
       "      <td>2007</td>\n",
       "      <td>3</td>\n",
       "      <td>0.212409</td>\n",
       "      <td>5.0</td>\n",
       "      <td>13611.217891</td>\n",
       "      <td>30.583028</td>\n",
       "    </tr>\n",
       "    <tr>\n",
       "      <th>3</th>\n",
       "      <td>4996</td>\n",
       "      <td>72.570000</td>\n",
       "      <td>73.821667</td>\n",
       "      <td>-15</td>\n",
       "      <td>2.2400</td>\n",
       "      <td>24.4430</td>\n",
       "      <td>ocean-0,1</td>\n",
       "      <td>Portlandia arctica</td>\n",
       "      <td>AMK</td>\n",
       "      <td>2007</td>\n",
       "      <td>3</td>\n",
       "      <td>1.476186</td>\n",
       "      <td>17.0</td>\n",
       "      <td>1606.543763</td>\n",
       "      <td>25.019750</td>\n",
       "    </tr>\n",
       "    <tr>\n",
       "      <th>4</th>\n",
       "      <td>4999</td>\n",
       "      <td>72.953333</td>\n",
       "      <td>73.285000</td>\n",
       "      <td>-26</td>\n",
       "      <td>0.0900</td>\n",
       "      <td>29.5250</td>\n",
       "      <td>ocean-0,1</td>\n",
       "      <td>Musculus niger – Portlandia arctica</td>\n",
       "      <td>AMK</td>\n",
       "      <td>2007</td>\n",
       "      <td>5</td>\n",
       "      <td>2.605720</td>\n",
       "      <td>28.0</td>\n",
       "      <td>784.000000</td>\n",
       "      <td>49.436000</td>\n",
       "    </tr>\n",
       "    <tr>\n",
       "      <th>5</th>\n",
       "      <td>5000</td>\n",
       "      <td>73.751667</td>\n",
       "      <td>72.943333</td>\n",
       "      <td>-27</td>\n",
       "      <td>0.8000</td>\n",
       "      <td>32.1250</td>\n",
       "      <td>ocean-0,1</td>\n",
       "      <td>Musculus niger – Portlandia arctica</td>\n",
       "      <td>AMK</td>\n",
       "      <td>2007</td>\n",
       "      <td>5</td>\n",
       "      <td>1.997386</td>\n",
       "      <td>25.0</td>\n",
       "      <td>1790.000000</td>\n",
       "      <td>66.252000</td>\n",
       "    </tr>\n",
       "    <tr>\n",
       "      <th>6</th>\n",
       "      <td>5001</td>\n",
       "      <td>74.583333</td>\n",
       "      <td>72.758333</td>\n",
       "      <td>-24</td>\n",
       "      <td>-1.2054</td>\n",
       "      <td>32.7148</td>\n",
       "      <td>ocean-0,1</td>\n",
       "      <td>Musculus niger – Portlandia arctica</td>\n",
       "      <td>AMK</td>\n",
       "      <td>2007</td>\n",
       "      <td>5</td>\n",
       "      <td>2.822518</td>\n",
       "      <td>45.0</td>\n",
       "      <td>1652.000000</td>\n",
       "      <td>105.424286</td>\n",
       "    </tr>\n",
       "    <tr>\n",
       "      <th>7</th>\n",
       "      <td>5002</td>\n",
       "      <td>75.168333</td>\n",
       "      <td>72.608333</td>\n",
       "      <td>-29</td>\n",
       "      <td>1.1500</td>\n",
       "      <td>32.2860</td>\n",
       "      <td>ocean-0,1</td>\n",
       "      <td>Ophelia limacina</td>\n",
       "      <td>AMK</td>\n",
       "      <td>2007</td>\n",
       "      <td>5</td>\n",
       "      <td>2.167242</td>\n",
       "      <td>28.0</td>\n",
       "      <td>652.000000</td>\n",
       "      <td>24.390857</td>\n",
       "    </tr>\n",
       "    <tr>\n",
       "      <th>8</th>\n",
       "      <td>5003</td>\n",
       "      <td>75.440000</td>\n",
       "      <td>72.531667</td>\n",
       "      <td>-55</td>\n",
       "      <td>1.1300</td>\n",
       "      <td>32.8520</td>\n",
       "      <td>ocean-0,1</td>\n",
       "      <td>Ophiocten sericeum</td>\n",
       "      <td>AMK</td>\n",
       "      <td>2007</td>\n",
       "      <td>5</td>\n",
       "      <td>2.915108</td>\n",
       "      <td>55.0</td>\n",
       "      <td>2174.000000</td>\n",
       "      <td>49.500857</td>\n",
       "    </tr>\n",
       "    <tr>\n",
       "      <th>9</th>\n",
       "      <td>4954</td>\n",
       "      <td>71.130000</td>\n",
       "      <td>66.616667</td>\n",
       "      <td>-16</td>\n",
       "      <td>5.2424</td>\n",
       "      <td>33.4086</td>\n",
       "      <td>ocean-0,1</td>\n",
       "      <td>Nephtys longosetosa</td>\n",
       "      <td>AMK</td>\n",
       "      <td>2007</td>\n",
       "      <td>5</td>\n",
       "      <td>3.260864</td>\n",
       "      <td>57.0</td>\n",
       "      <td>1980.000000</td>\n",
       "      <td>22.608000</td>\n",
       "    </tr>\n",
       "    <tr>\n",
       "      <th>10</th>\n",
       "      <td>4955</td>\n",
       "      <td>71.200000</td>\n",
       "      <td>66.150000</td>\n",
       "      <td>-24</td>\n",
       "      <td>5.3223</td>\n",
       "      <td>32.9325</td>\n",
       "      <td>ocean-0,1</td>\n",
       "      <td>Serripes groenlandicus</td>\n",
       "      <td>AMK</td>\n",
       "      <td>2007</td>\n",
       "      <td>5</td>\n",
       "      <td>2.845785</td>\n",
       "      <td>35.0</td>\n",
       "      <td>490.000000</td>\n",
       "      <td>12.436000</td>\n",
       "    </tr>\n",
       "    <tr>\n",
       "      <th>11</th>\n",
       "      <td>4956</td>\n",
       "      <td>71.250000</td>\n",
       "      <td>65.836667</td>\n",
       "      <td>-35</td>\n",
       "      <td>4.2861</td>\n",
       "      <td>33.1593</td>\n",
       "      <td>ocean-0,1</td>\n",
       "      <td>Astarte borealis</td>\n",
       "      <td>AMK</td>\n",
       "      <td>2007</td>\n",
       "      <td>5</td>\n",
       "      <td>1.639310</td>\n",
       "      <td>52.0</td>\n",
       "      <td>5366.000000</td>\n",
       "      <td>160.030000</td>\n",
       "    </tr>\n",
       "    <tr>\n",
       "      <th>12</th>\n",
       "      <td>4957</td>\n",
       "      <td>71.283333</td>\n",
       "      <td>65.623333</td>\n",
       "      <td>-46</td>\n",
       "      <td>1.1112</td>\n",
       "      <td>33.7366</td>\n",
       "      <td>ocean-0,1</td>\n",
       "      <td>Astarte borealis</td>\n",
       "      <td>AMK</td>\n",
       "      <td>2007</td>\n",
       "      <td>5</td>\n",
       "      <td>2.975803</td>\n",
       "      <td>61.0</td>\n",
       "      <td>3226.000000</td>\n",
       "      <td>143.182000</td>\n",
       "    </tr>\n",
       "  </tbody>\n",
       "</table>\n",
       "</div>"
      ],
      "text/plain": [
       "    station        lat        lon  depth  temperature  salinity     sampler  \\\n",
       "0      4993  71.248333  72.865000    -20       7.2000    0.0468   ocean-0,1   \n",
       "1      4994  71.733333  72.788333    -16       6.0500    0.8550  ocean-0,25   \n",
       "2      4995  72.166667  73.238333    -11       4.3500    8.6900   ocean-0,1   \n",
       "3      4996  72.570000  73.821667    -15       2.2400   24.4430   ocean-0,1   \n",
       "4      4999  72.953333  73.285000    -26       0.0900   29.5250   ocean-0,1   \n",
       "5      5000  73.751667  72.943333    -27       0.8000   32.1250   ocean-0,1   \n",
       "6      5001  74.583333  72.758333    -24      -1.2054   32.7148   ocean-0,1   \n",
       "7      5002  75.168333  72.608333    -29       1.1500   32.2860   ocean-0,1   \n",
       "8      5003  75.440000  72.531667    -55       1.1300   32.8520   ocean-0,1   \n",
       "9      4954  71.130000  66.616667    -16       5.2424   33.4086   ocean-0,1   \n",
       "10     4955  71.200000  66.150000    -24       5.3223   32.9325   ocean-0,1   \n",
       "11     4956  71.250000  65.836667    -35       4.2861   33.1593   ocean-0,1   \n",
       "12     4957  71.283333  65.623333    -46       1.1112   33.7366   ocean-0,1   \n",
       "\n",
       "                              community vessel  year  number_of_samples  \\\n",
       "0                  Marenzelleria wireni    AMK  2007                  3   \n",
       "1                  Marenzelleria wireni    AMK  2007                  3   \n",
       "2                   Oligochaeta gen.sp.    AMK  2007                  3   \n",
       "3                    Portlandia arctica    AMK  2007                  3   \n",
       "4   Musculus niger – Portlandia arctica    AMK  2007                  5   \n",
       "5   Musculus niger – Portlandia arctica    AMK  2007                  5   \n",
       "6   Musculus niger – Portlandia arctica    AMK  2007                  5   \n",
       "7                      Ophelia limacina    AMK  2007                  5   \n",
       "8                    Ophiocten sericeum    AMK  2007                  5   \n",
       "9                   Nephtys longosetosa    AMK  2007                  5   \n",
       "10               Serripes groenlandicus    AMK  2007                  5   \n",
       "11                     Astarte borealis    AMK  2007                  5   \n",
       "12                     Astarte borealis    AMK  2007                  5   \n",
       "\n",
       "     shanone  number_of_species  total_abundance  total_biomass  \n",
       "0   0.710266                6.0     15009.356827      56.596101  \n",
       "1   0.739433                5.0      6884.847693      22.995770  \n",
       "2   0.212409                5.0     13611.217891      30.583028  \n",
       "3   1.476186               17.0      1606.543763      25.019750  \n",
       "4   2.605720               28.0       784.000000      49.436000  \n",
       "5   1.997386               25.0      1790.000000      66.252000  \n",
       "6   2.822518               45.0      1652.000000     105.424286  \n",
       "7   2.167242               28.0       652.000000      24.390857  \n",
       "8   2.915108               55.0      2174.000000      49.500857  \n",
       "9   3.260864               57.0      1980.000000      22.608000  \n",
       "10  2.845785               35.0       490.000000      12.436000  \n",
       "11  1.639310               52.0      5366.000000     160.030000  \n",
       "12  2.975803               61.0      3226.000000     143.182000  "
      ]
     },
     "execution_count": 16,
     "metadata": {},
     "output_type": "execute_result"
    }
   ],
   "source": [
    "data"
   ]
  },
  {
   "cell_type": "markdown",
   "id": "ea92e6a1",
   "metadata": {},
   "source": [
    "# Geoservice"
   ]
  },
  {
   "cell_type": "code",
   "execution_count": 17,
   "id": "4f24cffa",
   "metadata": {},
   "outputs": [],
   "source": [
    "import folium\n",
    "import plotly.figure_factory as ff\n",
    "\n",
    "from folium import plugins\n",
    "from folium.plugins import HeatMap\n",
    "\n",
    "from sklearn import preprocessing"
   ]
  },
  {
   "cell_type": "code",
   "execution_count": 18,
   "id": "f144d71b",
   "metadata": {},
   "outputs": [],
   "source": [
    "le = preprocessing.LabelEncoder()\n",
    "le.fit(data['community'])\n",
    "data['com_label'] = le.fit_transform(data['community'])"
   ]
  },
  {
   "cell_type": "code",
   "execution_count": 19,
   "id": "4e0ed5a6",
   "metadata": {},
   "outputs": [],
   "source": [
    "colors_list = ['yellow', 'navy', 'green', 'cyan', 'blue', 'purple', 'red', 'fuchsia', 'royalblue', 'forestgreen', 'darkkhaki'\n",
    "              'indigo', 'skyblue', 'cadetblue', 'greenyellow']"
   ]
  },
  {
   "cell_type": "code",
   "execution_count": 20,
   "id": "c1b9132d",
   "metadata": {},
   "outputs": [],
   "source": [
    "def color_change(comm):\n",
    "    for i in range(len(colors_list)):\n",
    "        if comm == i:\n",
    "            return colors_list[i]"
   ]
  },
  {
   "cell_type": "code",
   "execution_count": 21,
   "id": "24e4f8ab",
   "metadata": {},
   "outputs": [],
   "source": [
    "data['color'] = data['com_label'].apply(color_change)"
   ]
  },
  {
   "cell_type": "code",
   "execution_count": 22,
   "id": "16afe2f0",
   "metadata": {},
   "outputs": [
    {
     "data": {
      "text/html": [
       "<div style=\"width:100%;\"><div style=\"position:relative;width:100%;height:0;padding-bottom:60%;\"><span style=\"color:#565656\">Make this Notebook Trusted to load map: File -> Trust Notebook</span><iframe srcdoc=\"&lt;!DOCTYPE html&gt;\n",
       "&lt;html&gt;\n",
       "&lt;head&gt;\n",
       "    \n",
       "    &lt;meta http-equiv=&quot;content-type&quot; content=&quot;text/html; charset=UTF-8&quot; /&gt;\n",
       "    \n",
       "        &lt;script&gt;\n",
       "            L_NO_TOUCH = false;\n",
       "            L_DISABLE_3D = false;\n",
       "        &lt;/script&gt;\n",
       "    \n",
       "    &lt;style&gt;html, body {width: 100%;height: 100%;margin: 0;padding: 0;}&lt;/style&gt;\n",
       "    &lt;style&gt;#map {position:absolute;top:0;bottom:0;right:0;left:0;}&lt;/style&gt;\n",
       "    &lt;script src=&quot;https://cdn.jsdelivr.net/npm/leaflet@1.9.3/dist/leaflet.js&quot;&gt;&lt;/script&gt;\n",
       "    &lt;script src=&quot;https://code.jquery.com/jquery-1.12.4.min.js&quot;&gt;&lt;/script&gt;\n",
       "    &lt;script src=&quot;https://cdn.jsdelivr.net/npm/bootstrap@5.2.2/dist/js/bootstrap.bundle.min.js&quot;&gt;&lt;/script&gt;\n",
       "    &lt;script src=&quot;https://cdnjs.cloudflare.com/ajax/libs/Leaflet.awesome-markers/2.0.2/leaflet.awesome-markers.js&quot;&gt;&lt;/script&gt;\n",
       "    &lt;link rel=&quot;stylesheet&quot; href=&quot;https://cdn.jsdelivr.net/npm/leaflet@1.9.3/dist/leaflet.css&quot;/&gt;\n",
       "    &lt;link rel=&quot;stylesheet&quot; href=&quot;https://cdn.jsdelivr.net/npm/bootstrap@5.2.2/dist/css/bootstrap.min.css&quot;/&gt;\n",
       "    &lt;link rel=&quot;stylesheet&quot; href=&quot;https://netdna.bootstrapcdn.com/bootstrap/3.0.0/css/bootstrap.min.css&quot;/&gt;\n",
       "    &lt;link rel=&quot;stylesheet&quot; href=&quot;https://cdn.jsdelivr.net/npm/@fortawesome/fontawesome-free@6.2.0/css/all.min.css&quot;/&gt;\n",
       "    &lt;link rel=&quot;stylesheet&quot; href=&quot;https://cdnjs.cloudflare.com/ajax/libs/Leaflet.awesome-markers/2.0.2/leaflet.awesome-markers.css&quot;/&gt;\n",
       "    &lt;link rel=&quot;stylesheet&quot; href=&quot;https://cdn.jsdelivr.net/gh/python-visualization/folium/folium/templates/leaflet.awesome.rotate.min.css&quot;/&gt;\n",
       "    \n",
       "            &lt;meta name=&quot;viewport&quot; content=&quot;width=device-width,\n",
       "                initial-scale=1.0, maximum-scale=1.0, user-scalable=no&quot; /&gt;\n",
       "            &lt;style&gt;\n",
       "                #map_414895c1df9aa5d97de8f175c536893d {\n",
       "                    position: relative;\n",
       "                    width: 100.0%;\n",
       "                    height: 100.0%;\n",
       "                    left: 0.0%;\n",
       "                    top: 0.0%;\n",
       "                }\n",
       "                .leaflet-container { font-size: 1rem; }\n",
       "            &lt;/style&gt;\n",
       "        \n",
       "&lt;/head&gt;\n",
       "&lt;body&gt;\n",
       "    \n",
       "    \n",
       "            &lt;div class=&quot;folium-map&quot; id=&quot;map_414895c1df9aa5d97de8f175c536893d&quot; &gt;&lt;/div&gt;\n",
       "        \n",
       "&lt;/body&gt;\n",
       "&lt;script&gt;\n",
       "    \n",
       "    \n",
       "            var map_414895c1df9aa5d97de8f175c536893d = L.map(\n",
       "                &quot;map_414895c1df9aa5d97de8f175c536893d&quot;,\n",
       "                {\n",
       "                    center: [72.77, 69.44],\n",
       "                    crs: L.CRS.EPSG3857,\n",
       "                    zoom: 3.5,\n",
       "                    zoomControl: true,\n",
       "                    preferCanvas: false,\n",
       "                }\n",
       "            );\n",
       "\n",
       "            \n",
       "\n",
       "        \n",
       "    \n",
       "            var tile_layer_10d6db5c5b3f449a52c7c92001a965ff = L.tileLayer(\n",
       "                &quot;https://{s}.tile.openstreetmap.org/{z}/{x}/{y}.png&quot;,\n",
       "                {&quot;attribution&quot;: &quot;Data by \\u0026copy; \\u003ca target=\\&quot;_blank\\&quot; href=\\&quot;http://openstreetmap.org\\&quot;\\u003eOpenStreetMap\\u003c/a\\u003e, under \\u003ca target=\\&quot;_blank\\&quot; href=\\&quot;http://www.openstreetmap.org/copyright\\&quot;\\u003eODbL\\u003c/a\\u003e.&quot;, &quot;detectRetina&quot;: false, &quot;maxNativeZoom&quot;: 18, &quot;maxZoom&quot;: 18, &quot;minZoom&quot;: 0, &quot;noWrap&quot;: false, &quot;opacity&quot;: 1, &quot;subdomains&quot;: &quot;abc&quot;, &quot;tms&quot;: false}\n",
       "            ).addTo(map_414895c1df9aa5d97de8f175c536893d);\n",
       "        \n",
       "    \n",
       "            var circle_marker_7dc3680fef82d1a779ba6536117f1c70 = L.circleMarker(\n",
       "                [71.2483333333333, 72.865],\n",
       "                {&quot;bubblingMouseEvents&quot;: true, &quot;color&quot;: &quot;no&quot;, &quot;dashArray&quot;: null, &quot;dashOffset&quot;: null, &quot;fill&quot;: true, &quot;fillColor&quot;: &quot;navy&quot;, &quot;fillOpacity&quot;: 0.9, &quot;fillRule&quot;: &quot;evenodd&quot;, &quot;lineCap&quot;: &quot;round&quot;, &quot;lineJoin&quot;: &quot;round&quot;, &quot;opacity&quot;: 1.0, &quot;radius&quot;: 9, &quot;stroke&quot;: true, &quot;weight&quot;: 3}\n",
       "            ).addTo(map_414895c1df9aa5d97de8f175c536893d);\n",
       "        \n",
       "    \n",
       "        var popup_c86e3b30b2969a7ca1647119ca000181 = L.popup({&quot;maxWidth&quot;: &quot;100%&quot;});\n",
       "\n",
       "        \n",
       "            \n",
       "                var html_2a3669d7c6b11c06773053db5e512ff1 = $(`&lt;div id=&quot;html_2a3669d7c6b11c06773053db5e512ff1&quot; style=&quot;width: 100.0%; height: 100.0%;&quot;&gt;Station: 4993 Community: Marenzelleria wireni Vessel: AMK Abundance: 15009.36 Biomass 56.6 Shanone 0.71 Number of species 6.0&lt;/div&gt;`)[0];\n",
       "                popup_c86e3b30b2969a7ca1647119ca000181.setContent(html_2a3669d7c6b11c06773053db5e512ff1);\n",
       "            \n",
       "        \n",
       "\n",
       "        circle_marker_7dc3680fef82d1a779ba6536117f1c70.bindPopup(popup_c86e3b30b2969a7ca1647119ca000181)\n",
       "        ;\n",
       "\n",
       "        \n",
       "    \n",
       "    \n",
       "            var circle_marker_19020c1762150aab3c0a6c538fb90084 = L.circleMarker(\n",
       "                [71.7333333333333, 72.7883333333333],\n",
       "                {&quot;bubblingMouseEvents&quot;: true, &quot;color&quot;: &quot;no&quot;, &quot;dashArray&quot;: null, &quot;dashOffset&quot;: null, &quot;fill&quot;: true, &quot;fillColor&quot;: &quot;navy&quot;, &quot;fillOpacity&quot;: 0.9, &quot;fillRule&quot;: &quot;evenodd&quot;, &quot;lineCap&quot;: &quot;round&quot;, &quot;lineJoin&quot;: &quot;round&quot;, &quot;opacity&quot;: 1.0, &quot;radius&quot;: 9, &quot;stroke&quot;: true, &quot;weight&quot;: 3}\n",
       "            ).addTo(map_414895c1df9aa5d97de8f175c536893d);\n",
       "        \n",
       "    \n",
       "        var popup_630a09c243d770269a18fdb422c51c48 = L.popup({&quot;maxWidth&quot;: &quot;100%&quot;});\n",
       "\n",
       "        \n",
       "            \n",
       "                var html_30a87ee93038b200dce6d111caba1d7d = $(`&lt;div id=&quot;html_30a87ee93038b200dce6d111caba1d7d&quot; style=&quot;width: 100.0%; height: 100.0%;&quot;&gt;Station: 4994 Community: Marenzelleria wireni Vessel: AMK Abundance: 6884.85 Biomass 23.0 Shanone 0.74 Number of species 5.0&lt;/div&gt;`)[0];\n",
       "                popup_630a09c243d770269a18fdb422c51c48.setContent(html_30a87ee93038b200dce6d111caba1d7d);\n",
       "            \n",
       "        \n",
       "\n",
       "        circle_marker_19020c1762150aab3c0a6c538fb90084.bindPopup(popup_630a09c243d770269a18fdb422c51c48)\n",
       "        ;\n",
       "\n",
       "        \n",
       "    \n",
       "    \n",
       "            var circle_marker_b7144b2b349c6ca9d72f900bd8bd75f3 = L.circleMarker(\n",
       "                [72.1666666666667, 73.2383333333333],\n",
       "                {&quot;bubblingMouseEvents&quot;: true, &quot;color&quot;: &quot;no&quot;, &quot;dashArray&quot;: null, &quot;dashOffset&quot;: null, &quot;fill&quot;: true, &quot;fillColor&quot;: &quot;blue&quot;, &quot;fillOpacity&quot;: 0.9, &quot;fillRule&quot;: &quot;evenodd&quot;, &quot;lineCap&quot;: &quot;round&quot;, &quot;lineJoin&quot;: &quot;round&quot;, &quot;opacity&quot;: 1.0, &quot;radius&quot;: 9, &quot;stroke&quot;: true, &quot;weight&quot;: 3}\n",
       "            ).addTo(map_414895c1df9aa5d97de8f175c536893d);\n",
       "        \n",
       "    \n",
       "        var popup_09901fc0e84c1af14a8f0468e70808f1 = L.popup({&quot;maxWidth&quot;: &quot;100%&quot;});\n",
       "\n",
       "        \n",
       "            \n",
       "                var html_207c1877ee009033c556d43b3ee5e5ed = $(`&lt;div id=&quot;html_207c1877ee009033c556d43b3ee5e5ed&quot; style=&quot;width: 100.0%; height: 100.0%;&quot;&gt;Station: 4995 Community: Oligochaeta gen.sp. Vessel: AMK Abundance: 13611.22 Biomass 30.58 Shanone 0.21 Number of species 5.0&lt;/div&gt;`)[0];\n",
       "                popup_09901fc0e84c1af14a8f0468e70808f1.setContent(html_207c1877ee009033c556d43b3ee5e5ed);\n",
       "            \n",
       "        \n",
       "\n",
       "        circle_marker_b7144b2b349c6ca9d72f900bd8bd75f3.bindPopup(popup_09901fc0e84c1af14a8f0468e70808f1)\n",
       "        ;\n",
       "\n",
       "        \n",
       "    \n",
       "    \n",
       "            var circle_marker_01375b14c5d9d115172b0b04effc9ac7 = L.circleMarker(\n",
       "                [72.57, 73.8216666666667],\n",
       "                {&quot;bubblingMouseEvents&quot;: true, &quot;color&quot;: &quot;no&quot;, &quot;dashArray&quot;: null, &quot;dashOffset&quot;: null, &quot;fill&quot;: true, &quot;fillColor&quot;: &quot;fuchsia&quot;, &quot;fillOpacity&quot;: 0.9, &quot;fillRule&quot;: &quot;evenodd&quot;, &quot;lineCap&quot;: &quot;round&quot;, &quot;lineJoin&quot;: &quot;round&quot;, &quot;opacity&quot;: 1.0, &quot;radius&quot;: 9, &quot;stroke&quot;: true, &quot;weight&quot;: 3}\n",
       "            ).addTo(map_414895c1df9aa5d97de8f175c536893d);\n",
       "        \n",
       "    \n",
       "        var popup_32f7d232a6e660511f4ec599f84a6862 = L.popup({&quot;maxWidth&quot;: &quot;100%&quot;});\n",
       "\n",
       "        \n",
       "            \n",
       "                var html_66f90b26eda450bb4b1dc7ae284e44df = $(`&lt;div id=&quot;html_66f90b26eda450bb4b1dc7ae284e44df&quot; style=&quot;width: 100.0%; height: 100.0%;&quot;&gt;Station: 4996 Community: Portlandia arctica Vessel: AMK Abundance: 1606.54 Biomass 25.02 Shanone 1.48 Number of species 17.0&lt;/div&gt;`)[0];\n",
       "                popup_32f7d232a6e660511f4ec599f84a6862.setContent(html_66f90b26eda450bb4b1dc7ae284e44df);\n",
       "            \n",
       "        \n",
       "\n",
       "        circle_marker_01375b14c5d9d115172b0b04effc9ac7.bindPopup(popup_32f7d232a6e660511f4ec599f84a6862)\n",
       "        ;\n",
       "\n",
       "        \n",
       "    \n",
       "    \n",
       "            var circle_marker_9d210c381eacac0a416f326a71f9252e = L.circleMarker(\n",
       "                [72.9533333333333, 73.285],\n",
       "                {&quot;bubblingMouseEvents&quot;: true, &quot;color&quot;: &quot;no&quot;, &quot;dashArray&quot;: null, &quot;dashOffset&quot;: null, &quot;fill&quot;: true, &quot;fillColor&quot;: &quot;green&quot;, &quot;fillOpacity&quot;: 0.9, &quot;fillRule&quot;: &quot;evenodd&quot;, &quot;lineCap&quot;: &quot;round&quot;, &quot;lineJoin&quot;: &quot;round&quot;, &quot;opacity&quot;: 1.0, &quot;radius&quot;: 9, &quot;stroke&quot;: true, &quot;weight&quot;: 3}\n",
       "            ).addTo(map_414895c1df9aa5d97de8f175c536893d);\n",
       "        \n",
       "    \n",
       "        var popup_4731b1cc398fc602780c32445c118977 = L.popup({&quot;maxWidth&quot;: &quot;100%&quot;});\n",
       "\n",
       "        \n",
       "            \n",
       "                var html_86ab1a170a2831d42461fc604de4bf5a = $(`&lt;div id=&quot;html_86ab1a170a2831d42461fc604de4bf5a&quot; style=&quot;width: 100.0%; height: 100.0%;&quot;&gt;Station: 4999 Community: Musculus niger – Portlandia arctica Vessel: AMK Abundance: 784.0 Biomass 49.44 Shanone 2.61 Number of species 28.0&lt;/div&gt;`)[0];\n",
       "                popup_4731b1cc398fc602780c32445c118977.setContent(html_86ab1a170a2831d42461fc604de4bf5a);\n",
       "            \n",
       "        \n",
       "\n",
       "        circle_marker_9d210c381eacac0a416f326a71f9252e.bindPopup(popup_4731b1cc398fc602780c32445c118977)\n",
       "        ;\n",
       "\n",
       "        \n",
       "    \n",
       "    \n",
       "            var circle_marker_df55b93962ae489a208290cef00b20c8 = L.circleMarker(\n",
       "                [73.7516666666667, 72.9433333333333],\n",
       "                {&quot;bubblingMouseEvents&quot;: true, &quot;color&quot;: &quot;no&quot;, &quot;dashArray&quot;: null, &quot;dashOffset&quot;: null, &quot;fill&quot;: true, &quot;fillColor&quot;: &quot;green&quot;, &quot;fillOpacity&quot;: 0.9, &quot;fillRule&quot;: &quot;evenodd&quot;, &quot;lineCap&quot;: &quot;round&quot;, &quot;lineJoin&quot;: &quot;round&quot;, &quot;opacity&quot;: 1.0, &quot;radius&quot;: 9, &quot;stroke&quot;: true, &quot;weight&quot;: 3}\n",
       "            ).addTo(map_414895c1df9aa5d97de8f175c536893d);\n",
       "        \n",
       "    \n",
       "        var popup_629675f9a974f04666325deabf9daed6 = L.popup({&quot;maxWidth&quot;: &quot;100%&quot;});\n",
       "\n",
       "        \n",
       "            \n",
       "                var html_c91547ab9d28f5bb3e04424051659117 = $(`&lt;div id=&quot;html_c91547ab9d28f5bb3e04424051659117&quot; style=&quot;width: 100.0%; height: 100.0%;&quot;&gt;Station: 5000 Community: Musculus niger – Portlandia arctica Vessel: AMK Abundance: 1790.0 Biomass 66.25 Shanone 2.0 Number of species 25.0&lt;/div&gt;`)[0];\n",
       "                popup_629675f9a974f04666325deabf9daed6.setContent(html_c91547ab9d28f5bb3e04424051659117);\n",
       "            \n",
       "        \n",
       "\n",
       "        circle_marker_df55b93962ae489a208290cef00b20c8.bindPopup(popup_629675f9a974f04666325deabf9daed6)\n",
       "        ;\n",
       "\n",
       "        \n",
       "    \n",
       "    \n",
       "            var circle_marker_65bbf39f815981b454b2bcacd3474b17 = L.circleMarker(\n",
       "                [74.5833333333333, 72.7583333333333],\n",
       "                {&quot;bubblingMouseEvents&quot;: true, &quot;color&quot;: &quot;no&quot;, &quot;dashArray&quot;: null, &quot;dashOffset&quot;: null, &quot;fill&quot;: true, &quot;fillColor&quot;: &quot;green&quot;, &quot;fillOpacity&quot;: 0.9, &quot;fillRule&quot;: &quot;evenodd&quot;, &quot;lineCap&quot;: &quot;round&quot;, &quot;lineJoin&quot;: &quot;round&quot;, &quot;opacity&quot;: 1.0, &quot;radius&quot;: 9, &quot;stroke&quot;: true, &quot;weight&quot;: 3}\n",
       "            ).addTo(map_414895c1df9aa5d97de8f175c536893d);\n",
       "        \n",
       "    \n",
       "        var popup_3f4e64407aebaf654a49fa5efbda7895 = L.popup({&quot;maxWidth&quot;: &quot;100%&quot;});\n",
       "\n",
       "        \n",
       "            \n",
       "                var html_94738c63918ae61c7ebca8975b27c17a = $(`&lt;div id=&quot;html_94738c63918ae61c7ebca8975b27c17a&quot; style=&quot;width: 100.0%; height: 100.0%;&quot;&gt;Station: 5001 Community: Musculus niger – Portlandia arctica Vessel: AMK Abundance: 1652.0 Biomass 105.42 Shanone 2.82 Number of species 45.0&lt;/div&gt;`)[0];\n",
       "                popup_3f4e64407aebaf654a49fa5efbda7895.setContent(html_94738c63918ae61c7ebca8975b27c17a);\n",
       "            \n",
       "        \n",
       "\n",
       "        circle_marker_65bbf39f815981b454b2bcacd3474b17.bindPopup(popup_3f4e64407aebaf654a49fa5efbda7895)\n",
       "        ;\n",
       "\n",
       "        \n",
       "    \n",
       "    \n",
       "            var circle_marker_3273da7162e87d20a9450f34130bd137 = L.circleMarker(\n",
       "                [75.1683333333333, 72.6083333333333],\n",
       "                {&quot;bubblingMouseEvents&quot;: true, &quot;color&quot;: &quot;no&quot;, &quot;dashArray&quot;: null, &quot;dashOffset&quot;: null, &quot;fill&quot;: true, &quot;fillColor&quot;: &quot;purple&quot;, &quot;fillOpacity&quot;: 0.9, &quot;fillRule&quot;: &quot;evenodd&quot;, &quot;lineCap&quot;: &quot;round&quot;, &quot;lineJoin&quot;: &quot;round&quot;, &quot;opacity&quot;: 1.0, &quot;radius&quot;: 9, &quot;stroke&quot;: true, &quot;weight&quot;: 3}\n",
       "            ).addTo(map_414895c1df9aa5d97de8f175c536893d);\n",
       "        \n",
       "    \n",
       "        var popup_68f7d4e434bf4f00bcca71a22b2c4cd0 = L.popup({&quot;maxWidth&quot;: &quot;100%&quot;});\n",
       "\n",
       "        \n",
       "            \n",
       "                var html_0bef65b5099838d0645479610ce5823f = $(`&lt;div id=&quot;html_0bef65b5099838d0645479610ce5823f&quot; style=&quot;width: 100.0%; height: 100.0%;&quot;&gt;Station: 5002 Community: Ophelia limacina Vessel: AMK Abundance: 652.0 Biomass 24.39 Shanone 2.17 Number of species 28.0&lt;/div&gt;`)[0];\n",
       "                popup_68f7d4e434bf4f00bcca71a22b2c4cd0.setContent(html_0bef65b5099838d0645479610ce5823f);\n",
       "            \n",
       "        \n",
       "\n",
       "        circle_marker_3273da7162e87d20a9450f34130bd137.bindPopup(popup_68f7d4e434bf4f00bcca71a22b2c4cd0)\n",
       "        ;\n",
       "\n",
       "        \n",
       "    \n",
       "    \n",
       "            var circle_marker_f1c4917833fd90ff931304bfa9547e0e = L.circleMarker(\n",
       "                [75.44, 72.5316666666667],\n",
       "                {&quot;bubblingMouseEvents&quot;: true, &quot;color&quot;: &quot;no&quot;, &quot;dashArray&quot;: null, &quot;dashOffset&quot;: null, &quot;fill&quot;: true, &quot;fillColor&quot;: &quot;red&quot;, &quot;fillOpacity&quot;: 0.9, &quot;fillRule&quot;: &quot;evenodd&quot;, &quot;lineCap&quot;: &quot;round&quot;, &quot;lineJoin&quot;: &quot;round&quot;, &quot;opacity&quot;: 1.0, &quot;radius&quot;: 9, &quot;stroke&quot;: true, &quot;weight&quot;: 3}\n",
       "            ).addTo(map_414895c1df9aa5d97de8f175c536893d);\n",
       "        \n",
       "    \n",
       "        var popup_0d1f9c420277c2ce10b9b1f6dc4dd420 = L.popup({&quot;maxWidth&quot;: &quot;100%&quot;});\n",
       "\n",
       "        \n",
       "            \n",
       "                var html_5df9884d0031cfa03c76fcef6b8db40f = $(`&lt;div id=&quot;html_5df9884d0031cfa03c76fcef6b8db40f&quot; style=&quot;width: 100.0%; height: 100.0%;&quot;&gt;Station: 5003 Community: Ophiocten sericeum Vessel: AMK Abundance: 2174.0 Biomass 49.5 Shanone 2.92 Number of species 55.0&lt;/div&gt;`)[0];\n",
       "                popup_0d1f9c420277c2ce10b9b1f6dc4dd420.setContent(html_5df9884d0031cfa03c76fcef6b8db40f);\n",
       "            \n",
       "        \n",
       "\n",
       "        circle_marker_f1c4917833fd90ff931304bfa9547e0e.bindPopup(popup_0d1f9c420277c2ce10b9b1f6dc4dd420)\n",
       "        ;\n",
       "\n",
       "        \n",
       "    \n",
       "    \n",
       "            var circle_marker_765429bef522f4b2ceb30efbcedaf00d = L.circleMarker(\n",
       "                [71.13, 66.6166666666667],\n",
       "                {&quot;bubblingMouseEvents&quot;: true, &quot;color&quot;: &quot;no&quot;, &quot;dashArray&quot;: null, &quot;dashOffset&quot;: null, &quot;fill&quot;: true, &quot;fillColor&quot;: &quot;cyan&quot;, &quot;fillOpacity&quot;: 0.9, &quot;fillRule&quot;: &quot;evenodd&quot;, &quot;lineCap&quot;: &quot;round&quot;, &quot;lineJoin&quot;: &quot;round&quot;, &quot;opacity&quot;: 1.0, &quot;radius&quot;: 9, &quot;stroke&quot;: true, &quot;weight&quot;: 3}\n",
       "            ).addTo(map_414895c1df9aa5d97de8f175c536893d);\n",
       "        \n",
       "    \n",
       "        var popup_a0fd134d74cca806ecb6ebd1c7f80c46 = L.popup({&quot;maxWidth&quot;: &quot;100%&quot;});\n",
       "\n",
       "        \n",
       "            \n",
       "                var html_bfe36a8c7ed2a7b374795ca2d7719e9e = $(`&lt;div id=&quot;html_bfe36a8c7ed2a7b374795ca2d7719e9e&quot; style=&quot;width: 100.0%; height: 100.0%;&quot;&gt;Station: 4954 Community: Nephtys longosetosa Vessel: AMK Abundance: 1980.0 Biomass 22.61 Shanone 3.26 Number of species 57.0&lt;/div&gt;`)[0];\n",
       "                popup_a0fd134d74cca806ecb6ebd1c7f80c46.setContent(html_bfe36a8c7ed2a7b374795ca2d7719e9e);\n",
       "            \n",
       "        \n",
       "\n",
       "        circle_marker_765429bef522f4b2ceb30efbcedaf00d.bindPopup(popup_a0fd134d74cca806ecb6ebd1c7f80c46)\n",
       "        ;\n",
       "\n",
       "        \n",
       "    \n",
       "    \n",
       "            var circle_marker_b66f2fbb92a3ecbb6ea3f985b03ae035 = L.circleMarker(\n",
       "                [71.2, 66.15],\n",
       "                {&quot;bubblingMouseEvents&quot;: true, &quot;color&quot;: &quot;no&quot;, &quot;dashArray&quot;: null, &quot;dashOffset&quot;: null, &quot;fill&quot;: true, &quot;fillColor&quot;: &quot;royalblue&quot;, &quot;fillOpacity&quot;: 0.9, &quot;fillRule&quot;: &quot;evenodd&quot;, &quot;lineCap&quot;: &quot;round&quot;, &quot;lineJoin&quot;: &quot;round&quot;, &quot;opacity&quot;: 1.0, &quot;radius&quot;: 9, &quot;stroke&quot;: true, &quot;weight&quot;: 3}\n",
       "            ).addTo(map_414895c1df9aa5d97de8f175c536893d);\n",
       "        \n",
       "    \n",
       "        var popup_9101914825435a178db1e41993a849fe = L.popup({&quot;maxWidth&quot;: &quot;100%&quot;});\n",
       "\n",
       "        \n",
       "            \n",
       "                var html_d241023545581c3b15ba7501afaead22 = $(`&lt;div id=&quot;html_d241023545581c3b15ba7501afaead22&quot; style=&quot;width: 100.0%; height: 100.0%;&quot;&gt;Station: 4955 Community: Serripes groenlandicus Vessel: AMK Abundance: 490.0 Biomass 12.44 Shanone 2.85 Number of species 35.0&lt;/div&gt;`)[0];\n",
       "                popup_9101914825435a178db1e41993a849fe.setContent(html_d241023545581c3b15ba7501afaead22);\n",
       "            \n",
       "        \n",
       "\n",
       "        circle_marker_b66f2fbb92a3ecbb6ea3f985b03ae035.bindPopup(popup_9101914825435a178db1e41993a849fe)\n",
       "        ;\n",
       "\n",
       "        \n",
       "    \n",
       "    \n",
       "            var circle_marker_c03d26230a93704c8da3cb0a0e2be861 = L.circleMarker(\n",
       "                [71.25, 65.8366666666667],\n",
       "                {&quot;bubblingMouseEvents&quot;: true, &quot;color&quot;: &quot;no&quot;, &quot;dashArray&quot;: null, &quot;dashOffset&quot;: null, &quot;fill&quot;: true, &quot;fillColor&quot;: &quot;yellow&quot;, &quot;fillOpacity&quot;: 0.9, &quot;fillRule&quot;: &quot;evenodd&quot;, &quot;lineCap&quot;: &quot;round&quot;, &quot;lineJoin&quot;: &quot;round&quot;, &quot;opacity&quot;: 1.0, &quot;radius&quot;: 9, &quot;stroke&quot;: true, &quot;weight&quot;: 3}\n",
       "            ).addTo(map_414895c1df9aa5d97de8f175c536893d);\n",
       "        \n",
       "    \n",
       "        var popup_648a8249d9a6fc41b53479aeb960d3bb = L.popup({&quot;maxWidth&quot;: &quot;100%&quot;});\n",
       "\n",
       "        \n",
       "            \n",
       "                var html_6da325c61b1ef3e172135b2d9a868e25 = $(`&lt;div id=&quot;html_6da325c61b1ef3e172135b2d9a868e25&quot; style=&quot;width: 100.0%; height: 100.0%;&quot;&gt;Station: 4956 Community: Astarte borealis Vessel: AMK Abundance: 5366.0 Biomass 160.03 Shanone 1.64 Number of species 52.0&lt;/div&gt;`)[0];\n",
       "                popup_648a8249d9a6fc41b53479aeb960d3bb.setContent(html_6da325c61b1ef3e172135b2d9a868e25);\n",
       "            \n",
       "        \n",
       "\n",
       "        circle_marker_c03d26230a93704c8da3cb0a0e2be861.bindPopup(popup_648a8249d9a6fc41b53479aeb960d3bb)\n",
       "        ;\n",
       "\n",
       "        \n",
       "    \n",
       "    \n",
       "            var circle_marker_db79a1eca749c2f47c62d9a862e00ddf = L.circleMarker(\n",
       "                [71.2833333333333, 65.6233333333333],\n",
       "                {&quot;bubblingMouseEvents&quot;: true, &quot;color&quot;: &quot;no&quot;, &quot;dashArray&quot;: null, &quot;dashOffset&quot;: null, &quot;fill&quot;: true, &quot;fillColor&quot;: &quot;yellow&quot;, &quot;fillOpacity&quot;: 0.9, &quot;fillRule&quot;: &quot;evenodd&quot;, &quot;lineCap&quot;: &quot;round&quot;, &quot;lineJoin&quot;: &quot;round&quot;, &quot;opacity&quot;: 1.0, &quot;radius&quot;: 9, &quot;stroke&quot;: true, &quot;weight&quot;: 3}\n",
       "            ).addTo(map_414895c1df9aa5d97de8f175c536893d);\n",
       "        \n",
       "    \n",
       "        var popup_67bfd341eb0b14a965019bb9d77d7b7f = L.popup({&quot;maxWidth&quot;: &quot;100%&quot;});\n",
       "\n",
       "        \n",
       "            \n",
       "                var html_52a75a28c5b7a1fdaf0876bdb4692a7b = $(`&lt;div id=&quot;html_52a75a28c5b7a1fdaf0876bdb4692a7b&quot; style=&quot;width: 100.0%; height: 100.0%;&quot;&gt;Station: 4957 Community: Astarte borealis Vessel: AMK Abundance: 3226.0 Biomass 143.18 Shanone 2.98 Number of species 61.0&lt;/div&gt;`)[0];\n",
       "                popup_67bfd341eb0b14a965019bb9d77d7b7f.setContent(html_52a75a28c5b7a1fdaf0876bdb4692a7b);\n",
       "            \n",
       "        \n",
       "\n",
       "        circle_marker_db79a1eca749c2f47c62d9a862e00ddf.bindPopup(popup_67bfd341eb0b14a965019bb9d77d7b7f)\n",
       "        ;\n",
       "\n",
       "        \n",
       "    \n",
       "&lt;/script&gt;\n",
       "&lt;/html&gt;\" style=\"position:absolute;width:100%;height:100%;left:0;top:0;border:none !important;\" allowfullscreen webkitallowfullscreen mozallowfullscreen></iframe></div></div>"
      ],
      "text/plain": [
       "<folium.folium.Map at 0x169581190>"
      ]
     },
     "execution_count": 22,
     "metadata": {},
     "output_type": "execute_result"
    }
   ],
   "source": [
    "kara_map = folium.Map(\n",
    "    location = [72.77, 69.44],    \n",
    "    zoom_start = 3.5\n",
    ")\n",
    "\n",
    "\n",
    "lat = data['lat']\n",
    "lon = data['lon']\n",
    "stat = data['station'].astype('str')\n",
    "colour = data['color']\n",
    "comm = data['community']\n",
    "ship = data['vessel']\n",
    "abundance = data['total_abundance'].round(2).astype('str')\n",
    "biomass = data['total_biomass'].round(2).astype('str')\n",
    "shanone = data['shanone'].round(2).astype('str')\n",
    "number_of_species = data['number_of_species'].round().astype('str')\n",
    "    \n",
    "for lat, lon, colour, stat, comm, ship, abundance, biomass, shanone, number_of_species in zip(lat, lon, colour, stat, comm, ship, abundance, biomass, shanone, number_of_species):\n",
    "    folium.CircleMarker(location=[lat, lon], radius = 9, popup=str('Station: ' + stat + '\\n' \n",
    "                                                                   + 'Community: ' + comm + '\\n' \n",
    "                                                                   + 'Vessel: ' + ship + '\\n'\n",
    "                                                                   + 'Abundance: ' + abundance + '\\n'\n",
    "                                                                   + 'Biomass ' + biomass + '\\n'\n",
    "                                                                   + 'Shanone ' + shanone + '\\n'\n",
    "                                                                   + 'Number of species ' + number_of_species), fill_color=colour, color=\"no\", fill_opacity = 0.9).add_to(kara_map) \n",
    "\n",
    "kara_map"
   ]
  },
  {
   "cell_type": "code",
   "execution_count": 23,
   "id": "f935e0bb",
   "metadata": {},
   "outputs": [
    {
     "data": {
      "text/plain": [
       "Index(['station', 'lat', 'lon', 'depth', 'temperature', 'salinity', 'sampler',\n",
       "       'community', 'vessel', 'year', 'number_of_samples', 'shanone',\n",
       "       'number_of_species', 'total_abundance', 'total_biomass', 'com_label',\n",
       "       'color'],\n",
       "      dtype='object')"
      ]
     },
     "execution_count": 23,
     "metadata": {},
     "output_type": "execute_result"
    }
   ],
   "source": [
    "data.columns"
   ]
  },
  {
   "cell_type": "code",
   "execution_count": 29,
   "id": "a4c4140e",
   "metadata": {},
   "outputs": [
    {
     "data": {
      "application/vnd.plotly.v1+json": {
       "config": {
        "plotlyServerURL": "https://plot.ly"
       },
       "data": [
        {
         "coloraxis": "coloraxis",
         "customdata": [
          [
           0.7394329694971629,
           "1.2645831577646949,1.82293446869947",
           0
          ],
          [
           1.9973860127661416,
           "1.2645831577646949,1.9468522338454748",
           0
          ],
          [
           2.1672415352999606,
           "1.2645831577646949,2.029464077276145",
           0
          ],
          [
           1.4761864356617362,
           "1.2884311427861692,1.8642403904148048",
           0
          ],
          [
           2.6057203083650906,
           "1.2884311427861692,1.90554631213014",
           0
          ],
          [
           2.6804404154208745,
           "1.1572672251680607,1.8022815078418024",
           0
          ],
          [
           0.7102660346123585,
           "1.2765071502754322,1.8022815078418024",
           0
          ],
          [
           0.2124089713848949,
           "1.2765071502754322,1.8435874295571373",
           0
          ],
          [
           2.8225179366927797,
           "1.2765071502754322,2.008811116418477",
           0
          ],
          [
           2.9151076155411855,
           "1.2765071502754322,2.0501170381338123",
           0
          ]
         ],
         "geojson": {
          "features": [
           {
            "geometry": {
             "coordinates": [
              [
               [
                65.62333332513496,
                70.62619034882698
               ],
               [
                66.3065277709458,
                70.75661464449024
               ],
               [
                66.3065277709458,
                71.01493315580265
               ],
               [
                65.62333332513496,
                71.1428369886367
               ],
               [
                64.94013887932412,
                71.01493315580265
               ],
               [
                64.94013887932412,
                70.75661464449024
               ],
               [
                65.62333332513496,
                70.62619034882698
               ]
              ]
             ],
             "type": "Polygon"
            },
            "id": "1.1453432326573236,1.7816285469841349",
            "type": "Feature"
           },
           {
            "geometry": {
             "coordinates": [
              [
               [
                65.62333332513496,
                71.39615774363489
               ],
               [
                66.3065277709458,
                71.5215841955828
               ],
               [
                66.3065277709458,
                71.76999295956458
               ],
               [
                65.62333332513496,
                71.89298470984576
               ],
               [
                64.94013887932412,
                71.76999295956458
               ],
               [
                64.94013887932412,
                71.5215841955828
               ],
               [
                65.62333332513496,
                71.39615774363489
               ]
              ]
             ],
             "type": "Polygon"
            },
            "id": "1.1453432326573236,1.82293446869947",
            "type": "Feature"
           },
           {
            "geometry": {
             "coordinates": [
              [
               [
                65.62333332513496,
                72.13656642453515
               ],
               [
                66.3065277709458,
                72.2571657319003
               ],
               [
                66.3065277709458,
                72.49600448164861
               ],
               [
                65.62333332513496,
                72.61425316830547
               ],
               [
                64.94013887932412,
                72.49600448164861
               ],
               [
                64.94013887932412,
                72.2571657319003
               ],
               [
                65.62333332513496,
                72.13656642453515
               ]
              ]
             ],
             "type": "Polygon"
            },
            "id": "1.1453432326573236,1.8642403904148048",
            "type": "Feature"
           },
           {
            "geometry": {
             "coordinates": [
              [
               [
                65.62333332513496,
                72.84843214954259
               ],
               [
                66.3065277709458,
                72.96437158666195
               ],
               [
                66.3065277709458,
                73.19397308042133
               ],
               [
                65.62333332513496,
                73.30764417513699
               ],
               [
                64.94013887932412,
                73.19397308042133
               ],
               [
                64.94013887932412,
                72.96437158666195
               ],
               [
                65.62333332513496,
                72.84843214954259
               ]
              ]
             ],
             "type": "Polygon"
            },
            "id": "1.1453432326573236,1.90554631213014",
            "type": "Feature"
           },
           {
            "geometry": {
             "coordinates": [
              [
               [
                65.62333332513496,
                73.53274952248402
               ],
               [
                66.3065277709458,
                73.64419270630317
               ],
               [
                66.3065277709458,
                73.86488228650353
               ],
               [
                65.62333332513496,
                73.97413750504708
               ],
               [
                64.94013887932412,
                73.86488228650353
               ],
               [
                64.94013887932412,
                73.64419270630317
               ],
               [
                65.62333332513496,
                73.53274952248402
               ]
              ]
             ],
             "type": "Polygon"
            },
            "id": "1.1453432326573236,1.9468522338454748",
            "type": "Feature"
           },
           {
            "geometry": {
             "coordinates": [
              [
               [
                65.62333332513496,
                74.19049071631744
               ],
               [
                66.3065277709458,
                74.2975974203137
               ],
               [
                66.3065277709458,
                74.50969266300417
               ],
               [
                65.62333332513496,
                74.61468980046152
               ],
               [
                64.94013887932412,
                74.50969266300417
               ],
               [
                64.94013887932412,
                74.2975974203137
               ],
               [
                65.62333332513496,
                74.19049071631744
               ]
              ]
             ],
             "type": "Polygon"
            },
            "id": "1.1453432326573236,1.9881581555608099",
            "type": "Feature"
           },
           {
            "geometry": {
             "coordinates": [
              [
               [
                65.62333332513496,
                74.82260446252478
               ],
               [
                66.3065277709458,
                74.92553047201287
               ],
               [
                66.3065277709458,
                75.12934091662211
               ],
               [
                65.62333332513496,
                75.23023372159376
               ],
               [
                64.94013887932412,
                75.12934091662211
               ],
               [
                64.94013887932412,
                74.92553047201287
               ],
               [
                65.62333332513496,
                74.82260446252478
               ]
              ]
             ],
             "type": "Polygon"
            },
            "id": "1.1453432326573236,2.029464077276145",
            "type": "Feature"
           },
           {
            "geometry": {
             "coordinates": [
              [
               [
                65.62333332513496,
                75.43001527677667
               ],
               [
                66.3065277709458,
                75.52891228086591
               ],
               [
                66.3065277709458,
                75.72473923102838
               ],
               [
                65.62333332513496,
                75.82167731426279
               ],
               [
                64.94013887932412,
                75.72473923102838
               ],
               [
                64.94013887932412,
                75.52891228086591
               ],
               [
                65.62333332513496,
                75.43001527677667
               ]
              ]
             ],
             "type": "Polygon"
            },
            "id": "1.1453432326573236,2.0707699989914796",
            "type": "Feature"
           },
           {
            "geometry": {
             "coordinates": [
              [
               [
                66.98972221675665,
                70.62619034882698
               ],
               [
                67.67291666256749,
                70.75661464449024
               ],
               [
                67.67291666256749,
                71.01493315580265
               ],
               [
                66.98972221675665,
                71.1428369886367
               ],
               [
                66.3065277709458,
                71.01493315580265
               ],
               [
                66.3065277709458,
                70.75661464449024
               ],
               [
                66.98972221675665,
                70.62619034882698
               ]
              ]
             ],
             "type": "Polygon"
            },
            "id": "1.169191217678798,1.7816285469841349",
            "type": "Feature"
           },
           {
            "geometry": {
             "coordinates": [
              [
               [
                66.98972221675665,
                71.39615774363489
               ],
               [
                67.67291666256749,
                71.5215841955828
               ],
               [
                67.67291666256749,
                71.76999295956458
               ],
               [
                66.98972221675665,
                71.89298470984576
               ],
               [
                66.3065277709458,
                71.76999295956458
               ],
               [
                66.3065277709458,
                71.5215841955828
               ],
               [
                66.98972221675665,
                71.39615774363489
               ]
              ]
             ],
             "type": "Polygon"
            },
            "id": "1.169191217678798,1.82293446869947",
            "type": "Feature"
           },
           {
            "geometry": {
             "coordinates": [
              [
               [
                66.98972221675665,
                72.13656642453515
               ],
               [
                67.67291666256749,
                72.2571657319003
               ],
               [
                67.67291666256749,
                72.49600448164861
               ],
               [
                66.98972221675665,
                72.61425316830547
               ],
               [
                66.3065277709458,
                72.49600448164861
               ],
               [
                66.3065277709458,
                72.2571657319003
               ],
               [
                66.98972221675665,
                72.13656642453515
               ]
              ]
             ],
             "type": "Polygon"
            },
            "id": "1.169191217678798,1.8642403904148048",
            "type": "Feature"
           },
           {
            "geometry": {
             "coordinates": [
              [
               [
                66.98972221675665,
                72.84843214954259
               ],
               [
                67.67291666256749,
                72.96437158666195
               ],
               [
                67.67291666256749,
                73.19397308042133
               ],
               [
                66.98972221675665,
                73.30764417513699
               ],
               [
                66.3065277709458,
                73.19397308042133
               ],
               [
                66.3065277709458,
                72.96437158666195
               ],
               [
                66.98972221675665,
                72.84843214954259
               ]
              ]
             ],
             "type": "Polygon"
            },
            "id": "1.169191217678798,1.90554631213014",
            "type": "Feature"
           },
           {
            "geometry": {
             "coordinates": [
              [
               [
                66.98972221675665,
                73.53274952248402
               ],
               [
                67.67291666256749,
                73.64419270630317
               ],
               [
                67.67291666256749,
                73.86488228650353
               ],
               [
                66.98972221675665,
                73.97413750504708
               ],
               [
                66.3065277709458,
                73.86488228650353
               ],
               [
                66.3065277709458,
                73.64419270630317
               ],
               [
                66.98972221675665,
                73.53274952248402
               ]
              ]
             ],
             "type": "Polygon"
            },
            "id": "1.169191217678798,1.9468522338454748",
            "type": "Feature"
           },
           {
            "geometry": {
             "coordinates": [
              [
               [
                66.98972221675665,
                74.19049071631744
               ],
               [
                67.67291666256749,
                74.2975974203137
               ],
               [
                67.67291666256749,
                74.50969266300417
               ],
               [
                66.98972221675665,
                74.61468980046152
               ],
               [
                66.3065277709458,
                74.50969266300417
               ],
               [
                66.3065277709458,
                74.2975974203137
               ],
               [
                66.98972221675665,
                74.19049071631744
               ]
              ]
             ],
             "type": "Polygon"
            },
            "id": "1.169191217678798,1.9881581555608099",
            "type": "Feature"
           },
           {
            "geometry": {
             "coordinates": [
              [
               [
                66.98972221675665,
                74.82260446252478
               ],
               [
                67.67291666256749,
                74.92553047201287
               ],
               [
                67.67291666256749,
                75.12934091662211
               ],
               [
                66.98972221675665,
                75.23023372159376
               ],
               [
                66.3065277709458,
                75.12934091662211
               ],
               [
                66.3065277709458,
                74.92553047201287
               ],
               [
                66.98972221675665,
                74.82260446252478
               ]
              ]
             ],
             "type": "Polygon"
            },
            "id": "1.169191217678798,2.029464077276145",
            "type": "Feature"
           },
           {
            "geometry": {
             "coordinates": [
              [
               [
                66.98972221675665,
                75.43001527677667
               ],
               [
                67.67291666256749,
                75.52891228086591
               ],
               [
                67.67291666256749,
                75.72473923102838
               ],
               [
                66.98972221675665,
                75.82167731426279
               ],
               [
                66.3065277709458,
                75.72473923102838
               ],
               [
                66.3065277709458,
                75.52891228086591
               ],
               [
                66.98972221675665,
                75.43001527677667
               ]
              ]
             ],
             "type": "Polygon"
            },
            "id": "1.169191217678798,2.0707699989914796",
            "type": "Feature"
           },
           {
            "geometry": {
             "coordinates": [
              [
               [
                68.35611110837831,
                70.62619034882698
               ],
               [
                69.03930555418916,
                70.75661464449024
               ],
               [
                69.03930555418916,
                71.01493315580265
               ],
               [
                68.35611110837831,
                71.1428369886367
               ],
               [
                67.67291666256749,
                71.01493315580265
               ],
               [
                67.67291666256749,
                70.75661464449024
               ],
               [
                68.35611110837831,
                70.62619034882698
               ]
              ]
             ],
             "type": "Polygon"
            },
            "id": "1.193039202700272,1.7816285469841349",
            "type": "Feature"
           },
           {
            "geometry": {
             "coordinates": [
              [
               [
                68.35611110837831,
                71.39615774363489
               ],
               [
                69.03930555418916,
                71.5215841955828
               ],
               [
                69.03930555418916,
                71.76999295956458
               ],
               [
                68.35611110837831,
                71.89298470984576
               ],
               [
                67.67291666256749,
                71.76999295956458
               ],
               [
                67.67291666256749,
                71.5215841955828
               ],
               [
                68.35611110837831,
                71.39615774363489
               ]
              ]
             ],
             "type": "Polygon"
            },
            "id": "1.193039202700272,1.82293446869947",
            "type": "Feature"
           },
           {
            "geometry": {
             "coordinates": [
              [
               [
                68.35611110837831,
                72.13656642453515
               ],
               [
                69.03930555418916,
                72.2571657319003
               ],
               [
                69.03930555418916,
                72.49600448164861
               ],
               [
                68.35611110837831,
                72.61425316830547
               ],
               [
                67.67291666256749,
                72.49600448164861
               ],
               [
                67.67291666256749,
                72.2571657319003
               ],
               [
                68.35611110837831,
                72.13656642453515
               ]
              ]
             ],
             "type": "Polygon"
            },
            "id": "1.193039202700272,1.8642403904148048",
            "type": "Feature"
           },
           {
            "geometry": {
             "coordinates": [
              [
               [
                68.35611110837831,
                72.84843214954259
               ],
               [
                69.03930555418916,
                72.96437158666195
               ],
               [
                69.03930555418916,
                73.19397308042133
               ],
               [
                68.35611110837831,
                73.30764417513699
               ],
               [
                67.67291666256749,
                73.19397308042133
               ],
               [
                67.67291666256749,
                72.96437158666195
               ],
               [
                68.35611110837831,
                72.84843214954259
               ]
              ]
             ],
             "type": "Polygon"
            },
            "id": "1.193039202700272,1.90554631213014",
            "type": "Feature"
           },
           {
            "geometry": {
             "coordinates": [
              [
               [
                68.35611110837831,
                73.53274952248402
               ],
               [
                69.03930555418916,
                73.64419270630317
               ],
               [
                69.03930555418916,
                73.86488228650353
               ],
               [
                68.35611110837831,
                73.97413750504708
               ],
               [
                67.67291666256749,
                73.86488228650353
               ],
               [
                67.67291666256749,
                73.64419270630317
               ],
               [
                68.35611110837831,
                73.53274952248402
               ]
              ]
             ],
             "type": "Polygon"
            },
            "id": "1.193039202700272,1.9468522338454748",
            "type": "Feature"
           },
           {
            "geometry": {
             "coordinates": [
              [
               [
                68.35611110837831,
                74.19049071631744
               ],
               [
                69.03930555418916,
                74.2975974203137
               ],
               [
                69.03930555418916,
                74.50969266300417
               ],
               [
                68.35611110837831,
                74.61468980046152
               ],
               [
                67.67291666256749,
                74.50969266300417
               ],
               [
                67.67291666256749,
                74.2975974203137
               ],
               [
                68.35611110837831,
                74.19049071631744
               ]
              ]
             ],
             "type": "Polygon"
            },
            "id": "1.193039202700272,1.9881581555608099",
            "type": "Feature"
           },
           {
            "geometry": {
             "coordinates": [
              [
               [
                68.35611110837831,
                74.82260446252478
               ],
               [
                69.03930555418916,
                74.92553047201287
               ],
               [
                69.03930555418916,
                75.12934091662211
               ],
               [
                68.35611110837831,
                75.23023372159376
               ],
               [
                67.67291666256749,
                75.12934091662211
               ],
               [
                67.67291666256749,
                74.92553047201287
               ],
               [
                68.35611110837831,
                74.82260446252478
               ]
              ]
             ],
             "type": "Polygon"
            },
            "id": "1.193039202700272,2.029464077276145",
            "type": "Feature"
           },
           {
            "geometry": {
             "coordinates": [
              [
               [
                68.35611110837831,
                75.43001527677667
               ],
               [
                69.03930555418916,
                75.52891228086591
               ],
               [
                69.03930555418916,
                75.72473923102838
               ],
               [
                68.35611110837831,
                75.82167731426279
               ],
               [
                67.67291666256749,
                75.72473923102838
               ],
               [
                67.67291666256749,
                75.52891228086591
               ],
               [
                68.35611110837831,
                75.43001527677667
               ]
              ]
             ],
             "type": "Polygon"
            },
            "id": "1.193039202700272,2.0707699989914796",
            "type": "Feature"
           },
           {
            "geometry": {
             "coordinates": [
              [
               [
                69.72250000000001,
                70.62619034882698
               ],
               [
                70.40569444581084,
                70.75661464449024
               ],
               [
                70.40569444581084,
                71.01493315580265
               ],
               [
                69.72250000000001,
                71.1428369886367
               ],
               [
                69.03930555418917,
                71.01493315580265
               ],
               [
                69.03930555418917,
                70.75661464449024
               ],
               [
                69.72250000000001,
                70.62619034882698
               ]
              ]
             ],
             "type": "Polygon"
            },
            "id": "1.2168871877217464,1.7816285469841349",
            "type": "Feature"
           },
           {
            "geometry": {
             "coordinates": [
              [
               [
                69.72250000000001,
                71.39615774363489
               ],
               [
                70.40569444581084,
                71.5215841955828
               ],
               [
                70.40569444581084,
                71.76999295956458
               ],
               [
                69.72250000000001,
                71.89298470984576
               ],
               [
                69.03930555418917,
                71.76999295956458
               ],
               [
                69.03930555418917,
                71.5215841955828
               ],
               [
                69.72250000000001,
                71.39615774363489
               ]
              ]
             ],
             "type": "Polygon"
            },
            "id": "1.2168871877217464,1.82293446869947",
            "type": "Feature"
           },
           {
            "geometry": {
             "coordinates": [
              [
               [
                69.72250000000001,
                72.13656642453515
               ],
               [
                70.40569444581084,
                72.2571657319003
               ],
               [
                70.40569444581084,
                72.49600448164861
               ],
               [
                69.72250000000001,
                72.61425316830547
               ],
               [
                69.03930555418917,
                72.49600448164861
               ],
               [
                69.03930555418917,
                72.2571657319003
               ],
               [
                69.72250000000001,
                72.13656642453515
               ]
              ]
             ],
             "type": "Polygon"
            },
            "id": "1.2168871877217464,1.8642403904148048",
            "type": "Feature"
           },
           {
            "geometry": {
             "coordinates": [
              [
               [
                69.72250000000001,
                72.84843214954259
               ],
               [
                70.40569444581084,
                72.96437158666195
               ],
               [
                70.40569444581084,
                73.19397308042133
               ],
               [
                69.72250000000001,
                73.30764417513699
               ],
               [
                69.03930555418917,
                73.19397308042133
               ],
               [
                69.03930555418917,
                72.96437158666195
               ],
               [
                69.72250000000001,
                72.84843214954259
               ]
              ]
             ],
             "type": "Polygon"
            },
            "id": "1.2168871877217464,1.90554631213014",
            "type": "Feature"
           },
           {
            "geometry": {
             "coordinates": [
              [
               [
                69.72250000000001,
                73.53274952248402
               ],
               [
                70.40569444581084,
                73.64419270630317
               ],
               [
                70.40569444581084,
                73.86488228650353
               ],
               [
                69.72250000000001,
                73.97413750504708
               ],
               [
                69.03930555418917,
                73.86488228650353
               ],
               [
                69.03930555418917,
                73.64419270630317
               ],
               [
                69.72250000000001,
                73.53274952248402
               ]
              ]
             ],
             "type": "Polygon"
            },
            "id": "1.2168871877217464,1.9468522338454748",
            "type": "Feature"
           },
           {
            "geometry": {
             "coordinates": [
              [
               [
                69.72250000000001,
                74.19049071631744
               ],
               [
                70.40569444581084,
                74.2975974203137
               ],
               [
                70.40569444581084,
                74.50969266300417
               ],
               [
                69.72250000000001,
                74.61468980046152
               ],
               [
                69.03930555418917,
                74.50969266300417
               ],
               [
                69.03930555418917,
                74.2975974203137
               ],
               [
                69.72250000000001,
                74.19049071631744
               ]
              ]
             ],
             "type": "Polygon"
            },
            "id": "1.2168871877217464,1.9881581555608099",
            "type": "Feature"
           },
           {
            "geometry": {
             "coordinates": [
              [
               [
                69.72250000000001,
                74.82260446252478
               ],
               [
                70.40569444581084,
                74.92553047201287
               ],
               [
                70.40569444581084,
                75.12934091662211
               ],
               [
                69.72250000000001,
                75.23023372159376
               ],
               [
                69.03930555418917,
                75.12934091662211
               ],
               [
                69.03930555418917,
                74.92553047201287
               ],
               [
                69.72250000000001,
                74.82260446252478
               ]
              ]
             ],
             "type": "Polygon"
            },
            "id": "1.2168871877217464,2.029464077276145",
            "type": "Feature"
           },
           {
            "geometry": {
             "coordinates": [
              [
               [
                69.72250000000001,
                75.43001527677667
               ],
               [
                70.40569444581084,
                75.52891228086591
               ],
               [
                70.40569444581084,
                75.72473923102838
               ],
               [
                69.72250000000001,
                75.82167731426279
               ],
               [
                69.03930555418917,
                75.72473923102838
               ],
               [
                69.03930555418917,
                75.52891228086591
               ],
               [
                69.72250000000001,
                75.43001527677667
               ]
              ]
             ],
             "type": "Polygon"
            },
            "id": "1.2168871877217464,2.0707699989914796",
            "type": "Feature"
           },
           {
            "geometry": {
             "coordinates": [
              [
               [
                71.08888889162169,
                70.62619034882698
               ],
               [
                71.77208333743252,
                70.75661464449024
               ],
               [
                71.77208333743252,
                71.01493315580265
               ],
               [
                71.08888889162169,
                71.1428369886367
               ],
               [
                70.40569444581085,
                71.01493315580265
               ],
               [
                70.40569444581085,
                70.75661464449024
               ],
               [
                71.08888889162169,
                70.62619034882698
               ]
              ]
             ],
             "type": "Polygon"
            },
            "id": "1.2407351727432208,1.7816285469841349",
            "type": "Feature"
           },
           {
            "geometry": {
             "coordinates": [
              [
               [
                71.08888889162169,
                71.39615774363489
               ],
               [
                71.77208333743252,
                71.5215841955828
               ],
               [
                71.77208333743252,
                71.76999295956458
               ],
               [
                71.08888889162169,
                71.89298470984576
               ],
               [
                70.40569444581085,
                71.76999295956458
               ],
               [
                70.40569444581085,
                71.5215841955828
               ],
               [
                71.08888889162169,
                71.39615774363489
               ]
              ]
             ],
             "type": "Polygon"
            },
            "id": "1.2407351727432208,1.82293446869947",
            "type": "Feature"
           },
           {
            "geometry": {
             "coordinates": [
              [
               [
                71.08888889162169,
                72.13656642453515
               ],
               [
                71.77208333743252,
                72.2571657319003
               ],
               [
                71.77208333743252,
                72.49600448164861
               ],
               [
                71.08888889162169,
                72.61425316830547
               ],
               [
                70.40569444581085,
                72.49600448164861
               ],
               [
                70.40569444581085,
                72.2571657319003
               ],
               [
                71.08888889162169,
                72.13656642453515
               ]
              ]
             ],
             "type": "Polygon"
            },
            "id": "1.2407351727432208,1.8642403904148048",
            "type": "Feature"
           },
           {
            "geometry": {
             "coordinates": [
              [
               [
                71.08888889162169,
                72.84843214954259
               ],
               [
                71.77208333743252,
                72.96437158666195
               ],
               [
                71.77208333743252,
                73.19397308042133
               ],
               [
                71.08888889162169,
                73.30764417513699
               ],
               [
                70.40569444581085,
                73.19397308042133
               ],
               [
                70.40569444581085,
                72.96437158666195
               ],
               [
                71.08888889162169,
                72.84843214954259
               ]
              ]
             ],
             "type": "Polygon"
            },
            "id": "1.2407351727432208,1.90554631213014",
            "type": "Feature"
           },
           {
            "geometry": {
             "coordinates": [
              [
               [
                71.08888889162169,
                73.53274952248402
               ],
               [
                71.77208333743252,
                73.64419270630317
               ],
               [
                71.77208333743252,
                73.86488228650353
               ],
               [
                71.08888889162169,
                73.97413750504708
               ],
               [
                70.40569444581085,
                73.86488228650353
               ],
               [
                70.40569444581085,
                73.64419270630317
               ],
               [
                71.08888889162169,
                73.53274952248402
               ]
              ]
             ],
             "type": "Polygon"
            },
            "id": "1.2407351727432208,1.9468522338454748",
            "type": "Feature"
           },
           {
            "geometry": {
             "coordinates": [
              [
               [
                71.08888889162169,
                74.19049071631744
               ],
               [
                71.77208333743252,
                74.2975974203137
               ],
               [
                71.77208333743252,
                74.50969266300417
               ],
               [
                71.08888889162169,
                74.61468980046152
               ],
               [
                70.40569444581085,
                74.50969266300417
               ],
               [
                70.40569444581085,
                74.2975974203137
               ],
               [
                71.08888889162169,
                74.19049071631744
               ]
              ]
             ],
             "type": "Polygon"
            },
            "id": "1.2407351727432208,1.9881581555608099",
            "type": "Feature"
           },
           {
            "geometry": {
             "coordinates": [
              [
               [
                71.08888889162169,
                74.82260446252478
               ],
               [
                71.77208333743252,
                74.92553047201287
               ],
               [
                71.77208333743252,
                75.12934091662211
               ],
               [
                71.08888889162169,
                75.23023372159376
               ],
               [
                70.40569444581085,
                75.12934091662211
               ],
               [
                70.40569444581085,
                74.92553047201287
               ],
               [
                71.08888889162169,
                74.82260446252478
               ]
              ]
             ],
             "type": "Polygon"
            },
            "id": "1.2407351727432208,2.029464077276145",
            "type": "Feature"
           },
           {
            "geometry": {
             "coordinates": [
              [
               [
                71.08888889162169,
                75.43001527677667
               ],
               [
                71.77208333743252,
                75.52891228086591
               ],
               [
                71.77208333743252,
                75.72473923102838
               ],
               [
                71.08888889162169,
                75.82167731426279
               ],
               [
                70.40569444581085,
                75.72473923102838
               ],
               [
                70.40569444581085,
                75.52891228086591
               ],
               [
                71.08888889162169,
                75.43001527677667
               ]
              ]
             ],
             "type": "Polygon"
            },
            "id": "1.2407351727432208,2.0707699989914796",
            "type": "Feature"
           },
           {
            "geometry": {
             "coordinates": [
              [
               [
                72.45527778324336,
                70.62619034882698
               ],
               [
                73.13847222905419,
                70.75661464449024
               ],
               [
                73.13847222905419,
                71.01493315580265
               ],
               [
                72.45527778324336,
                71.1428369886367
               ],
               [
                71.77208333743252,
                71.01493315580265
               ],
               [
                71.77208333743252,
                70.75661464449024
               ],
               [
                72.45527778324336,
                70.62619034882698
               ]
              ]
             ],
             "type": "Polygon"
            },
            "id": "1.2645831577646949,1.7816285469841349",
            "type": "Feature"
           },
           {
            "geometry": {
             "coordinates": [
              [
               [
                72.45527778324336,
                71.39615774363489
               ],
               [
                73.13847222905419,
                71.5215841955828
               ],
               [
                73.13847222905419,
                71.76999295956458
               ],
               [
                72.45527778324336,
                71.89298470984576
               ],
               [
                71.77208333743252,
                71.76999295956458
               ],
               [
                71.77208333743252,
                71.5215841955828
               ],
               [
                72.45527778324336,
                71.39615774363489
               ]
              ]
             ],
             "type": "Polygon"
            },
            "id": "1.2645831577646949,1.82293446869947",
            "type": "Feature"
           },
           {
            "geometry": {
             "coordinates": [
              [
               [
                72.45527778324336,
                72.13656642453515
               ],
               [
                73.13847222905419,
                72.2571657319003
               ],
               [
                73.13847222905419,
                72.49600448164861
               ],
               [
                72.45527778324336,
                72.61425316830547
               ],
               [
                71.77208333743252,
                72.49600448164861
               ],
               [
                71.77208333743252,
                72.2571657319003
               ],
               [
                72.45527778324336,
                72.13656642453515
               ]
              ]
             ],
             "type": "Polygon"
            },
            "id": "1.2645831577646949,1.8642403904148048",
            "type": "Feature"
           },
           {
            "geometry": {
             "coordinates": [
              [
               [
                72.45527778324336,
                72.84843214954259
               ],
               [
                73.13847222905419,
                72.96437158666195
               ],
               [
                73.13847222905419,
                73.19397308042133
               ],
               [
                72.45527778324336,
                73.30764417513699
               ],
               [
                71.77208333743252,
                73.19397308042133
               ],
               [
                71.77208333743252,
                72.96437158666195
               ],
               [
                72.45527778324336,
                72.84843214954259
               ]
              ]
             ],
             "type": "Polygon"
            },
            "id": "1.2645831577646949,1.90554631213014",
            "type": "Feature"
           },
           {
            "geometry": {
             "coordinates": [
              [
               [
                72.45527778324336,
                73.53274952248402
               ],
               [
                73.13847222905419,
                73.64419270630317
               ],
               [
                73.13847222905419,
                73.86488228650353
               ],
               [
                72.45527778324336,
                73.97413750504708
               ],
               [
                71.77208333743252,
                73.86488228650353
               ],
               [
                71.77208333743252,
                73.64419270630317
               ],
               [
                72.45527778324336,
                73.53274952248402
               ]
              ]
             ],
             "type": "Polygon"
            },
            "id": "1.2645831577646949,1.9468522338454748",
            "type": "Feature"
           },
           {
            "geometry": {
             "coordinates": [
              [
               [
                72.45527778324336,
                74.19049071631744
               ],
               [
                73.13847222905419,
                74.2975974203137
               ],
               [
                73.13847222905419,
                74.50969266300417
               ],
               [
                72.45527778324336,
                74.61468980046152
               ],
               [
                71.77208333743252,
                74.50969266300417
               ],
               [
                71.77208333743252,
                74.2975974203137
               ],
               [
                72.45527778324336,
                74.19049071631744
               ]
              ]
             ],
             "type": "Polygon"
            },
            "id": "1.2645831577646949,1.9881581555608099",
            "type": "Feature"
           },
           {
            "geometry": {
             "coordinates": [
              [
               [
                72.45527778324336,
                74.82260446252478
               ],
               [
                73.13847222905419,
                74.92553047201287
               ],
               [
                73.13847222905419,
                75.12934091662211
               ],
               [
                72.45527778324336,
                75.23023372159376
               ],
               [
                71.77208333743252,
                75.12934091662211
               ],
               [
                71.77208333743252,
                74.92553047201287
               ],
               [
                72.45527778324336,
                74.82260446252478
               ]
              ]
             ],
             "type": "Polygon"
            },
            "id": "1.2645831577646949,2.029464077276145",
            "type": "Feature"
           },
           {
            "geometry": {
             "coordinates": [
              [
               [
                72.45527778324336,
                75.43001527677667
               ],
               [
                73.13847222905419,
                75.52891228086591
               ],
               [
                73.13847222905419,
                75.72473923102838
               ],
               [
                72.45527778324336,
                75.82167731426279
               ],
               [
                71.77208333743252,
                75.72473923102838
               ],
               [
                71.77208333743252,
                75.52891228086591
               ],
               [
                72.45527778324336,
                75.43001527677667
               ]
              ]
             ],
             "type": "Polygon"
            },
            "id": "1.2645831577646949,2.0707699989914796",
            "type": "Feature"
           },
           {
            "geometry": {
             "coordinates": [
              [
               [
                73.82166667486504,
                70.62619034882698
               ],
               [
                74.50486112067587,
                70.75661464449024
               ],
               [
                74.50486112067587,
                71.01493315580265
               ],
               [
                73.82166667486504,
                71.1428369886367
               ],
               [
                73.1384722290542,
                71.01493315580265
               ],
               [
                73.1384722290542,
                70.75661464449024
               ],
               [
                73.82166667486504,
                70.62619034882698
               ]
              ]
             ],
             "type": "Polygon"
            },
            "id": "1.2884311427861692,1.7816285469841349",
            "type": "Feature"
           },
           {
            "geometry": {
             "coordinates": [
              [
               [
                73.82166667486504,
                71.39615774363489
               ],
               [
                74.50486112067587,
                71.5215841955828
               ],
               [
                74.50486112067587,
                71.76999295956458
               ],
               [
                73.82166667486504,
                71.89298470984576
               ],
               [
                73.1384722290542,
                71.76999295956458
               ],
               [
                73.1384722290542,
                71.5215841955828
               ],
               [
                73.82166667486504,
                71.39615774363489
               ]
              ]
             ],
             "type": "Polygon"
            },
            "id": "1.2884311427861692,1.82293446869947",
            "type": "Feature"
           },
           {
            "geometry": {
             "coordinates": [
              [
               [
                73.82166667486504,
                72.13656642453515
               ],
               [
                74.50486112067587,
                72.2571657319003
               ],
               [
                74.50486112067587,
                72.49600448164861
               ],
               [
                73.82166667486504,
                72.61425316830547
               ],
               [
                73.1384722290542,
                72.49600448164861
               ],
               [
                73.1384722290542,
                72.2571657319003
               ],
               [
                73.82166667486504,
                72.13656642453515
               ]
              ]
             ],
             "type": "Polygon"
            },
            "id": "1.2884311427861692,1.8642403904148048",
            "type": "Feature"
           },
           {
            "geometry": {
             "coordinates": [
              [
               [
                73.82166667486504,
                72.84843214954259
               ],
               [
                74.50486112067587,
                72.96437158666195
               ],
               [
                74.50486112067587,
                73.19397308042133
               ],
               [
                73.82166667486504,
                73.30764417513699
               ],
               [
                73.1384722290542,
                73.19397308042133
               ],
               [
                73.1384722290542,
                72.96437158666195
               ],
               [
                73.82166667486504,
                72.84843214954259
               ]
              ]
             ],
             "type": "Polygon"
            },
            "id": "1.2884311427861692,1.90554631213014",
            "type": "Feature"
           },
           {
            "geometry": {
             "coordinates": [
              [
               [
                73.82166667486504,
                73.53274952248402
               ],
               [
                74.50486112067587,
                73.64419270630317
               ],
               [
                74.50486112067587,
                73.86488228650353
               ],
               [
                73.82166667486504,
                73.97413750504708
               ],
               [
                73.1384722290542,
                73.86488228650353
               ],
               [
                73.1384722290542,
                73.64419270630317
               ],
               [
                73.82166667486504,
                73.53274952248402
               ]
              ]
             ],
             "type": "Polygon"
            },
            "id": "1.2884311427861692,1.9468522338454748",
            "type": "Feature"
           },
           {
            "geometry": {
             "coordinates": [
              [
               [
                73.82166667486504,
                74.19049071631744
               ],
               [
                74.50486112067587,
                74.2975974203137
               ],
               [
                74.50486112067587,
                74.50969266300417
               ],
               [
                73.82166667486504,
                74.61468980046152
               ],
               [
                73.1384722290542,
                74.50969266300417
               ],
               [
                73.1384722290542,
                74.2975974203137
               ],
               [
                73.82166667486504,
                74.19049071631744
               ]
              ]
             ],
             "type": "Polygon"
            },
            "id": "1.2884311427861692,1.9881581555608099",
            "type": "Feature"
           },
           {
            "geometry": {
             "coordinates": [
              [
               [
                73.82166667486504,
                74.82260446252478
               ],
               [
                74.50486112067587,
                74.92553047201287
               ],
               [
                74.50486112067587,
                75.12934091662211
               ],
               [
                73.82166667486504,
                75.23023372159376
               ],
               [
                73.1384722290542,
                75.12934091662211
               ],
               [
                73.1384722290542,
                74.92553047201287
               ],
               [
                73.82166667486504,
                74.82260446252478
               ]
              ]
             ],
             "type": "Polygon"
            },
            "id": "1.2884311427861692,2.029464077276145",
            "type": "Feature"
           },
           {
            "geometry": {
             "coordinates": [
              [
               [
                73.82166667486504,
                75.43001527677667
               ],
               [
                74.50486112067587,
                75.52891228086591
               ],
               [
                74.50486112067587,
                75.72473923102838
               ],
               [
                73.82166667486504,
                75.82167731426279
               ],
               [
                73.1384722290542,
                75.72473923102838
               ],
               [
                73.1384722290542,
                75.52891228086591
               ],
               [
                73.82166667486504,
                75.43001527677667
               ]
              ]
             ],
             "type": "Polygon"
            },
            "id": "1.2884311427861692,2.0707699989914796",
            "type": "Feature"
           },
           {
            "geometry": {
             "coordinates": [
              [
               [
                66.3065277709458,
                71.01493315580265
               ],
               [
                66.98972221675663,
                71.1428369886367
               ],
               [
                66.98972221675663,
                71.39615774363489
               ],
               [
                66.3065277709458,
                71.5215841955828
               ],
               [
                65.62333332513496,
                71.39615774363489
               ],
               [
                65.62333332513496,
                71.1428369886367
               ],
               [
                66.3065277709458,
                71.01493315580265
               ]
              ]
             ],
             "type": "Polygon"
            },
            "id": "1.1572672251680607,1.8022815078418024",
            "type": "Feature"
           },
           {
            "geometry": {
             "coordinates": [
              [
               [
                66.3065277709458,
                71.76999295956458
               ],
               [
                66.98972221675663,
                71.89298470984576
               ],
               [
                66.98972221675663,
                72.13656642453515
               ],
               [
                66.3065277709458,
                72.2571657319003
               ],
               [
                65.62333332513496,
                72.13656642453515
               ],
               [
                65.62333332513496,
                71.89298470984576
               ],
               [
                66.3065277709458,
                71.76999295956458
               ]
              ]
             ],
             "type": "Polygon"
            },
            "id": "1.1572672251680607,1.8435874295571373",
            "type": "Feature"
           },
           {
            "geometry": {
             "coordinates": [
              [
               [
                66.3065277709458,
                72.49600448164861
               ],
               [
                66.98972221675663,
                72.61425316830547
               ],
               [
                66.98972221675663,
                72.84843214954259
               ],
               [
                66.3065277709458,
                72.96437158666195
               ],
               [
                65.62333332513496,
                72.84843214954259
               ],
               [
                65.62333332513496,
                72.61425316830547
               ],
               [
                66.3065277709458,
                72.49600448164861
               ]
              ]
             ],
             "type": "Polygon"
            },
            "id": "1.1572672251680607,1.8848933512724724",
            "type": "Feature"
           },
           {
            "geometry": {
             "coordinates": [
              [
               [
                66.3065277709458,
                73.1939730804213
               ],
               [
                66.98972221675663,
                73.30764417513699
               ],
               [
                66.98972221675663,
                73.53274952248402
               ],
               [
                66.3065277709458,
                73.64419270630317
               ],
               [
                65.62333332513496,
                73.53274952248402
               ],
               [
                65.62333332513496,
                73.30764417513699
               ],
               [
                66.3065277709458,
                73.1939730804213
               ]
              ]
             ],
             "type": "Polygon"
            },
            "id": "1.1572672251680607,1.9261992729878072",
            "type": "Feature"
           },
           {
            "geometry": {
             "coordinates": [
              [
               [
                66.3065277709458,
                73.86488228650353
               ],
               [
                66.98972221675663,
                73.97413750504708
               ],
               [
                66.98972221675663,
                74.19049071631744
               ],
               [
                66.3065277709458,
                74.2975974203137
               ],
               [
                65.62333332513496,
                74.19049071631744
               ],
               [
                65.62333332513496,
                73.97413750504708
               ],
               [
                66.3065277709458,
                73.86488228650353
               ]
              ]
             ],
             "type": "Polygon"
            },
            "id": "1.1572672251680607,1.9675051947031423",
            "type": "Feature"
           },
           {
            "geometry": {
             "coordinates": [
              [
               [
                66.3065277709458,
                74.50969266300417
               ],
               [
                66.98972221675663,
                74.61468980046152
               ],
               [
                66.98972221675663,
                74.82260446252478
               ],
               [
                66.3065277709458,
                74.92553047201287
               ],
               [
                65.62333332513496,
                74.82260446252478
               ],
               [
                65.62333332513496,
                74.61468980046152
               ],
               [
                66.3065277709458,
                74.50969266300417
               ]
              ]
             ],
             "type": "Polygon"
            },
            "id": "1.1572672251680607,2.008811116418477",
            "type": "Feature"
           },
           {
            "geometry": {
             "coordinates": [
              [
               [
                66.3065277709458,
                75.12934091662211
               ],
               [
                66.98972221675663,
                75.23023372159376
               ],
               [
                66.98972221675663,
                75.43001527677667
               ],
               [
                66.3065277709458,
                75.52891228086591
               ],
               [
                65.62333332513496,
                75.43001527677667
               ],
               [
                65.62333332513496,
                75.23023372159376
               ],
               [
                66.3065277709458,
                75.12934091662211
               ]
              ]
             ],
             "type": "Polygon"
            },
            "id": "1.1572672251680607,2.0501170381338123",
            "type": "Feature"
           },
           {
            "geometry": {
             "coordinates": [
              [
               [
                67.67291666256749,
                71.01493315580265
               ],
               [
                68.35611110837831,
                71.1428369886367
               ],
               [
                68.35611110837831,
                71.39615774363489
               ],
               [
                67.67291666256749,
                71.5215841955828
               ],
               [
                66.98972221675665,
                71.39615774363489
               ],
               [
                66.98972221675665,
                71.1428369886367
               ],
               [
                67.67291666256749,
                71.01493315580265
               ]
              ]
             ],
             "type": "Polygon"
            },
            "id": "1.181115210189535,1.8022815078418024",
            "type": "Feature"
           },
           {
            "geometry": {
             "coordinates": [
              [
               [
                67.67291666256749,
                71.76999295956458
               ],
               [
                68.35611110837831,
                71.89298470984576
               ],
               [
                68.35611110837831,
                72.13656642453515
               ],
               [
                67.67291666256749,
                72.2571657319003
               ],
               [
                66.98972221675665,
                72.13656642453515
               ],
               [
                66.98972221675665,
                71.89298470984576
               ],
               [
                67.67291666256749,
                71.76999295956458
               ]
              ]
             ],
             "type": "Polygon"
            },
            "id": "1.181115210189535,1.8435874295571373",
            "type": "Feature"
           },
           {
            "geometry": {
             "coordinates": [
              [
               [
                67.67291666256749,
                72.49600448164861
               ],
               [
                68.35611110837831,
                72.61425316830547
               ],
               [
                68.35611110837831,
                72.84843214954259
               ],
               [
                67.67291666256749,
                72.96437158666195
               ],
               [
                66.98972221675665,
                72.84843214954259
               ],
               [
                66.98972221675665,
                72.61425316830547
               ],
               [
                67.67291666256749,
                72.49600448164861
               ]
              ]
             ],
             "type": "Polygon"
            },
            "id": "1.181115210189535,1.8848933512724724",
            "type": "Feature"
           },
           {
            "geometry": {
             "coordinates": [
              [
               [
                67.67291666256749,
                73.1939730804213
               ],
               [
                68.35611110837831,
                73.30764417513699
               ],
               [
                68.35611110837831,
                73.53274952248402
               ],
               [
                67.67291666256749,
                73.64419270630317
               ],
               [
                66.98972221675665,
                73.53274952248402
               ],
               [
                66.98972221675665,
                73.30764417513699
               ],
               [
                67.67291666256749,
                73.1939730804213
               ]
              ]
             ],
             "type": "Polygon"
            },
            "id": "1.181115210189535,1.9261992729878072",
            "type": "Feature"
           },
           {
            "geometry": {
             "coordinates": [
              [
               [
                67.67291666256749,
                73.86488228650353
               ],
               [
                68.35611110837831,
                73.97413750504708
               ],
               [
                68.35611110837831,
                74.19049071631744
               ],
               [
                67.67291666256749,
                74.2975974203137
               ],
               [
                66.98972221675665,
                74.19049071631744
               ],
               [
                66.98972221675665,
                73.97413750504708
               ],
               [
                67.67291666256749,
                73.86488228650353
               ]
              ]
             ],
             "type": "Polygon"
            },
            "id": "1.181115210189535,1.9675051947031423",
            "type": "Feature"
           },
           {
            "geometry": {
             "coordinates": [
              [
               [
                67.67291666256749,
                74.50969266300417
               ],
               [
                68.35611110837831,
                74.61468980046152
               ],
               [
                68.35611110837831,
                74.82260446252478
               ],
               [
                67.67291666256749,
                74.92553047201287
               ],
               [
                66.98972221675665,
                74.82260446252478
               ],
               [
                66.98972221675665,
                74.61468980046152
               ],
               [
                67.67291666256749,
                74.50969266300417
               ]
              ]
             ],
             "type": "Polygon"
            },
            "id": "1.181115210189535,2.008811116418477",
            "type": "Feature"
           },
           {
            "geometry": {
             "coordinates": [
              [
               [
                67.67291666256749,
                75.12934091662211
               ],
               [
                68.35611110837831,
                75.23023372159376
               ],
               [
                68.35611110837831,
                75.43001527677667
               ],
               [
                67.67291666256749,
                75.52891228086591
               ],
               [
                66.98972221675665,
                75.43001527677667
               ],
               [
                66.98972221675665,
                75.23023372159376
               ],
               [
                67.67291666256749,
                75.12934091662211
               ]
              ]
             ],
             "type": "Polygon"
            },
            "id": "1.181115210189535,2.0501170381338123",
            "type": "Feature"
           },
           {
            "geometry": {
             "coordinates": [
              [
               [
                69.03930555418917,
                71.01493315580265
               ],
               [
                69.72250000000001,
                71.1428369886367
               ],
               [
                69.72250000000001,
                71.39615774363489
               ],
               [
                69.03930555418917,
                71.5215841955828
               ],
               [
                68.35611110837833,
                71.39615774363489
               ],
               [
                68.35611110837833,
                71.1428369886367
               ],
               [
                69.03930555418917,
                71.01493315580265
               ]
              ]
             ],
             "type": "Polygon"
            },
            "id": "1.2049631952110094,1.8022815078418024",
            "type": "Feature"
           },
           {
            "geometry": {
             "coordinates": [
              [
               [
                69.03930555418917,
                71.76999295956458
               ],
               [
                69.72250000000001,
                71.89298470984576
               ],
               [
                69.72250000000001,
                72.13656642453515
               ],
               [
                69.03930555418917,
                72.2571657319003
               ],
               [
                68.35611110837833,
                72.13656642453515
               ],
               [
                68.35611110837833,
                71.89298470984576
               ],
               [
                69.03930555418917,
                71.76999295956458
               ]
              ]
             ],
             "type": "Polygon"
            },
            "id": "1.2049631952110094,1.8435874295571373",
            "type": "Feature"
           },
           {
            "geometry": {
             "coordinates": [
              [
               [
                69.03930555418917,
                72.49600448164861
               ],
               [
                69.72250000000001,
                72.61425316830547
               ],
               [
                69.72250000000001,
                72.84843214954259
               ],
               [
                69.03930555418917,
                72.96437158666195
               ],
               [
                68.35611110837833,
                72.84843214954259
               ],
               [
                68.35611110837833,
                72.61425316830547
               ],
               [
                69.03930555418917,
                72.49600448164861
               ]
              ]
             ],
             "type": "Polygon"
            },
            "id": "1.2049631952110094,1.8848933512724724",
            "type": "Feature"
           },
           {
            "geometry": {
             "coordinates": [
              [
               [
                69.03930555418917,
                73.1939730804213
               ],
               [
                69.72250000000001,
                73.30764417513699
               ],
               [
                69.72250000000001,
                73.53274952248402
               ],
               [
                69.03930555418917,
                73.64419270630317
               ],
               [
                68.35611110837833,
                73.53274952248402
               ],
               [
                68.35611110837833,
                73.30764417513699
               ],
               [
                69.03930555418917,
                73.1939730804213
               ]
              ]
             ],
             "type": "Polygon"
            },
            "id": "1.2049631952110094,1.9261992729878072",
            "type": "Feature"
           },
           {
            "geometry": {
             "coordinates": [
              [
               [
                69.03930555418917,
                73.86488228650353
               ],
               [
                69.72250000000001,
                73.97413750504708
               ],
               [
                69.72250000000001,
                74.19049071631744
               ],
               [
                69.03930555418917,
                74.2975974203137
               ],
               [
                68.35611110837833,
                74.19049071631744
               ],
               [
                68.35611110837833,
                73.97413750504708
               ],
               [
                69.03930555418917,
                73.86488228650353
               ]
              ]
             ],
             "type": "Polygon"
            },
            "id": "1.2049631952110094,1.9675051947031423",
            "type": "Feature"
           },
           {
            "geometry": {
             "coordinates": [
              [
               [
                69.03930555418917,
                74.50969266300417
               ],
               [
                69.72250000000001,
                74.61468980046152
               ],
               [
                69.72250000000001,
                74.82260446252478
               ],
               [
                69.03930555418917,
                74.92553047201287
               ],
               [
                68.35611110837833,
                74.82260446252478
               ],
               [
                68.35611110837833,
                74.61468980046152
               ],
               [
                69.03930555418917,
                74.50969266300417
               ]
              ]
             ],
             "type": "Polygon"
            },
            "id": "1.2049631952110094,2.008811116418477",
            "type": "Feature"
           },
           {
            "geometry": {
             "coordinates": [
              [
               [
                69.03930555418917,
                75.12934091662211
               ],
               [
                69.72250000000001,
                75.23023372159376
               ],
               [
                69.72250000000001,
                75.43001527677667
               ],
               [
                69.03930555418917,
                75.52891228086591
               ],
               [
                68.35611110837833,
                75.43001527677667
               ],
               [
                68.35611110837833,
                75.23023372159376
               ],
               [
                69.03930555418917,
                75.12934091662211
               ]
              ]
             ],
             "type": "Polygon"
            },
            "id": "1.2049631952110094,2.0501170381338123",
            "type": "Feature"
           },
           {
            "geometry": {
             "coordinates": [
              [
               [
                70.40569444581084,
                71.01493315580265
               ],
               [
                71.08888889162166,
                71.1428369886367
               ],
               [
                71.08888889162166,
                71.39615774363489
               ],
               [
                70.40569444581084,
                71.5215841955828
               ],
               [
                69.72250000000001,
                71.39615774363489
               ],
               [
                69.72250000000001,
                71.1428369886367
               ],
               [
                70.40569444581084,
                71.01493315580265
               ]
              ]
             ],
             "type": "Polygon"
            },
            "id": "1.2288111802324835,1.8022815078418024",
            "type": "Feature"
           },
           {
            "geometry": {
             "coordinates": [
              [
               [
                70.40569444581084,
                71.76999295956458
               ],
               [
                71.08888889162166,
                71.89298470984576
               ],
               [
                71.08888889162166,
                72.13656642453515
               ],
               [
                70.40569444581084,
                72.2571657319003
               ],
               [
                69.72250000000001,
                72.13656642453515
               ],
               [
                69.72250000000001,
                71.89298470984576
               ],
               [
                70.40569444581084,
                71.76999295956458
               ]
              ]
             ],
             "type": "Polygon"
            },
            "id": "1.2288111802324835,1.8435874295571373",
            "type": "Feature"
           },
           {
            "geometry": {
             "coordinates": [
              [
               [
                70.40569444581084,
                72.49600448164861
               ],
               [
                71.08888889162166,
                72.61425316830547
               ],
               [
                71.08888889162166,
                72.84843214954259
               ],
               [
                70.40569444581084,
                72.96437158666195
               ],
               [
                69.72250000000001,
                72.84843214954259
               ],
               [
                69.72250000000001,
                72.61425316830547
               ],
               [
                70.40569444581084,
                72.49600448164861
               ]
              ]
             ],
             "type": "Polygon"
            },
            "id": "1.2288111802324835,1.8848933512724724",
            "type": "Feature"
           },
           {
            "geometry": {
             "coordinates": [
              [
               [
                70.40569444581084,
                73.1939730804213
               ],
               [
                71.08888889162166,
                73.30764417513699
               ],
               [
                71.08888889162166,
                73.53274952248402
               ],
               [
                70.40569444581084,
                73.64419270630317
               ],
               [
                69.72250000000001,
                73.53274952248402
               ],
               [
                69.72250000000001,
                73.30764417513699
               ],
               [
                70.40569444581084,
                73.1939730804213
               ]
              ]
             ],
             "type": "Polygon"
            },
            "id": "1.2288111802324835,1.9261992729878072",
            "type": "Feature"
           },
           {
            "geometry": {
             "coordinates": [
              [
               [
                70.40569444581084,
                73.86488228650353
               ],
               [
                71.08888889162166,
                73.97413750504708
               ],
               [
                71.08888889162166,
                74.19049071631744
               ],
               [
                70.40569444581084,
                74.2975974203137
               ],
               [
                69.72250000000001,
                74.19049071631744
               ],
               [
                69.72250000000001,
                73.97413750504708
               ],
               [
                70.40569444581084,
                73.86488228650353
               ]
              ]
             ],
             "type": "Polygon"
            },
            "id": "1.2288111802324835,1.9675051947031423",
            "type": "Feature"
           },
           {
            "geometry": {
             "coordinates": [
              [
               [
                70.40569444581084,
                74.50969266300417
               ],
               [
                71.08888889162166,
                74.61468980046152
               ],
               [
                71.08888889162166,
                74.82260446252478
               ],
               [
                70.40569444581084,
                74.92553047201287
               ],
               [
                69.72250000000001,
                74.82260446252478
               ],
               [
                69.72250000000001,
                74.61468980046152
               ],
               [
                70.40569444581084,
                74.50969266300417
               ]
              ]
             ],
             "type": "Polygon"
            },
            "id": "1.2288111802324835,2.008811116418477",
            "type": "Feature"
           },
           {
            "geometry": {
             "coordinates": [
              [
               [
                70.40569444581084,
                75.12934091662211
               ],
               [
                71.08888889162166,
                75.23023372159376
               ],
               [
                71.08888889162166,
                75.43001527677667
               ],
               [
                70.40569444581084,
                75.52891228086591
               ],
               [
                69.72250000000001,
                75.43001527677667
               ],
               [
                69.72250000000001,
                75.23023372159376
               ],
               [
                70.40569444581084,
                75.12934091662211
               ]
              ]
             ],
             "type": "Polygon"
            },
            "id": "1.2288111802324835,2.0501170381338123",
            "type": "Feature"
           },
           {
            "geometry": {
             "coordinates": [
              [
               [
                71.77208333743252,
                71.01493315580265
               ],
               [
                72.45527778324336,
                71.1428369886367
               ],
               [
                72.45527778324336,
                71.39615774363489
               ],
               [
                71.77208333743252,
                71.5215841955828
               ],
               [
                71.08888889162169,
                71.39615774363489
               ],
               [
                71.08888889162169,
                71.1428369886367
               ],
               [
                71.77208333743252,
                71.01493315580265
               ]
              ]
             ],
             "type": "Polygon"
            },
            "id": "1.2526591652539578,1.8022815078418024",
            "type": "Feature"
           },
           {
            "geometry": {
             "coordinates": [
              [
               [
                71.77208333743252,
                71.76999295956458
               ],
               [
                72.45527778324336,
                71.89298470984576
               ],
               [
                72.45527778324336,
                72.13656642453515
               ],
               [
                71.77208333743252,
                72.2571657319003
               ],
               [
                71.08888889162169,
                72.13656642453515
               ],
               [
                71.08888889162169,
                71.89298470984576
               ],
               [
                71.77208333743252,
                71.76999295956458
               ]
              ]
             ],
             "type": "Polygon"
            },
            "id": "1.2526591652539578,1.8435874295571373",
            "type": "Feature"
           },
           {
            "geometry": {
             "coordinates": [
              [
               [
                71.77208333743252,
                72.49600448164861
               ],
               [
                72.45527778324336,
                72.61425316830547
               ],
               [
                72.45527778324336,
                72.84843214954259
               ],
               [
                71.77208333743252,
                72.96437158666195
               ],
               [
                71.08888889162169,
                72.84843214954259
               ],
               [
                71.08888889162169,
                72.61425316830547
               ],
               [
                71.77208333743252,
                72.49600448164861
               ]
              ]
             ],
             "type": "Polygon"
            },
            "id": "1.2526591652539578,1.8848933512724724",
            "type": "Feature"
           },
           {
            "geometry": {
             "coordinates": [
              [
               [
                71.77208333743252,
                73.1939730804213
               ],
               [
                72.45527778324336,
                73.30764417513699
               ],
               [
                72.45527778324336,
                73.53274952248402
               ],
               [
                71.77208333743252,
                73.64419270630317
               ],
               [
                71.08888889162169,
                73.53274952248402
               ],
               [
                71.08888889162169,
                73.30764417513699
               ],
               [
                71.77208333743252,
                73.1939730804213
               ]
              ]
             ],
             "type": "Polygon"
            },
            "id": "1.2526591652539578,1.9261992729878072",
            "type": "Feature"
           },
           {
            "geometry": {
             "coordinates": [
              [
               [
                71.77208333743252,
                73.86488228650353
               ],
               [
                72.45527778324336,
                73.97413750504708
               ],
               [
                72.45527778324336,
                74.19049071631744
               ],
               [
                71.77208333743252,
                74.2975974203137
               ],
               [
                71.08888889162169,
                74.19049071631744
               ],
               [
                71.08888889162169,
                73.97413750504708
               ],
               [
                71.77208333743252,
                73.86488228650353
               ]
              ]
             ],
             "type": "Polygon"
            },
            "id": "1.2526591652539578,1.9675051947031423",
            "type": "Feature"
           },
           {
            "geometry": {
             "coordinates": [
              [
               [
                71.77208333743252,
                74.50969266300417
               ],
               [
                72.45527778324336,
                74.61468980046152
               ],
               [
                72.45527778324336,
                74.82260446252478
               ],
               [
                71.77208333743252,
                74.92553047201287
               ],
               [
                71.08888889162169,
                74.82260446252478
               ],
               [
                71.08888889162169,
                74.61468980046152
               ],
               [
                71.77208333743252,
                74.50969266300417
               ]
              ]
             ],
             "type": "Polygon"
            },
            "id": "1.2526591652539578,2.008811116418477",
            "type": "Feature"
           },
           {
            "geometry": {
             "coordinates": [
              [
               [
                71.77208333743252,
                75.12934091662211
               ],
               [
                72.45527778324336,
                75.23023372159376
               ],
               [
                72.45527778324336,
                75.43001527677667
               ],
               [
                71.77208333743252,
                75.52891228086591
               ],
               [
                71.08888889162169,
                75.43001527677667
               ],
               [
                71.08888889162169,
                75.23023372159376
               ],
               [
                71.77208333743252,
                75.12934091662211
               ]
              ]
             ],
             "type": "Polygon"
            },
            "id": "1.2526591652539578,2.0501170381338123",
            "type": "Feature"
           },
           {
            "geometry": {
             "coordinates": [
              [
               [
                73.1384722290542,
                71.01493315580265
               ],
               [
                73.82166667486504,
                71.1428369886367
               ],
               [
                73.82166667486504,
                71.39615774363489
               ],
               [
                73.1384722290542,
                71.5215841955828
               ],
               [
                72.45527778324337,
                71.39615774363489
               ],
               [
                72.45527778324337,
                71.1428369886367
               ],
               [
                73.1384722290542,
                71.01493315580265
               ]
              ]
             ],
             "type": "Polygon"
            },
            "id": "1.2765071502754322,1.8022815078418024",
            "type": "Feature"
           },
           {
            "geometry": {
             "coordinates": [
              [
               [
                73.1384722290542,
                71.76999295956458
               ],
               [
                73.82166667486504,
                71.89298470984576
               ],
               [
                73.82166667486504,
                72.13656642453515
               ],
               [
                73.1384722290542,
                72.2571657319003
               ],
               [
                72.45527778324337,
                72.13656642453515
               ],
               [
                72.45527778324337,
                71.89298470984576
               ],
               [
                73.1384722290542,
                71.76999295956458
               ]
              ]
             ],
             "type": "Polygon"
            },
            "id": "1.2765071502754322,1.8435874295571373",
            "type": "Feature"
           },
           {
            "geometry": {
             "coordinates": [
              [
               [
                73.1384722290542,
                72.49600448164861
               ],
               [
                73.82166667486504,
                72.61425316830547
               ],
               [
                73.82166667486504,
                72.84843214954259
               ],
               [
                73.1384722290542,
                72.96437158666195
               ],
               [
                72.45527778324337,
                72.84843214954259
               ],
               [
                72.45527778324337,
                72.61425316830547
               ],
               [
                73.1384722290542,
                72.49600448164861
               ]
              ]
             ],
             "type": "Polygon"
            },
            "id": "1.2765071502754322,1.8848933512724724",
            "type": "Feature"
           },
           {
            "geometry": {
             "coordinates": [
              [
               [
                73.1384722290542,
                73.1939730804213
               ],
               [
                73.82166667486504,
                73.30764417513699
               ],
               [
                73.82166667486504,
                73.53274952248402
               ],
               [
                73.1384722290542,
                73.64419270630317
               ],
               [
                72.45527778324337,
                73.53274952248402
               ],
               [
                72.45527778324337,
                73.30764417513699
               ],
               [
                73.1384722290542,
                73.1939730804213
               ]
              ]
             ],
             "type": "Polygon"
            },
            "id": "1.2765071502754322,1.9261992729878072",
            "type": "Feature"
           },
           {
            "geometry": {
             "coordinates": [
              [
               [
                73.1384722290542,
                73.86488228650353
               ],
               [
                73.82166667486504,
                73.97413750504708
               ],
               [
                73.82166667486504,
                74.19049071631744
               ],
               [
                73.1384722290542,
                74.2975974203137
               ],
               [
                72.45527778324337,
                74.19049071631744
               ],
               [
                72.45527778324337,
                73.97413750504708
               ],
               [
                73.1384722290542,
                73.86488228650353
               ]
              ]
             ],
             "type": "Polygon"
            },
            "id": "1.2765071502754322,1.9675051947031423",
            "type": "Feature"
           },
           {
            "geometry": {
             "coordinates": [
              [
               [
                73.1384722290542,
                74.50969266300417
               ],
               [
                73.82166667486504,
                74.61468980046152
               ],
               [
                73.82166667486504,
                74.82260446252478
               ],
               [
                73.1384722290542,
                74.92553047201287
               ],
               [
                72.45527778324337,
                74.82260446252478
               ],
               [
                72.45527778324337,
                74.61468980046152
               ],
               [
                73.1384722290542,
                74.50969266300417
               ]
              ]
             ],
             "type": "Polygon"
            },
            "id": "1.2765071502754322,2.008811116418477",
            "type": "Feature"
           },
           {
            "geometry": {
             "coordinates": [
              [
               [
                73.1384722290542,
                75.12934091662211
               ],
               [
                73.82166667486504,
                75.23023372159376
               ],
               [
                73.82166667486504,
                75.43001527677667
               ],
               [
                73.1384722290542,
                75.52891228086591
               ],
               [
                72.45527778324337,
                75.43001527677667
               ],
               [
                72.45527778324337,
                75.23023372159376
               ],
               [
                73.1384722290542,
                75.12934091662211
               ]
              ]
             ],
             "type": "Polygon"
            },
            "id": "1.2765071502754322,2.0501170381338123",
            "type": "Feature"
           }
          ],
          "type": "FeatureCollection"
         },
         "hovertemplate": "shanone=%{z}<extra></extra>",
         "locations": [
          "1.2645831577646949,1.82293446869947",
          "1.2645831577646949,1.9468522338454748",
          "1.2645831577646949,2.029464077276145",
          "1.2884311427861692,1.8642403904148048",
          "1.2884311427861692,1.90554631213014",
          "1.1572672251680607,1.8022815078418024",
          "1.2765071502754322,1.8022815078418024",
          "1.2765071502754322,1.8435874295571373",
          "1.2765071502754322,2.008811116418477",
          "1.2765071502754322,2.0501170381338123"
         ],
         "marker": {
          "opacity": 0.7
         },
         "name": "",
         "subplot": "mapbox",
         "type": "choroplethmapbox",
         "z": [
          0.7394329694971629,
          1.9973860127661416,
          2.1672415352999606,
          1.4761864356617362,
          2.6057203083650906,
          2.6804404154208745,
          0.7102660346123585,
          0.2124089713848949,
          2.8225179366927797,
          2.9151076155411855
         ]
        },
        {
         "hoverinfo": "skip",
         "lat": [
          71.2483333333333,
          71.7333333333333,
          72.1666666666667,
          72.57,
          72.9533333333333,
          73.7516666666667,
          74.5833333333333,
          75.1683333333333,
          75.44,
          71.13,
          71.2,
          71.25,
          71.2833333333333
         ],
         "legendgroup": "",
         "lon": [
          72.865,
          72.7883333333333,
          73.2383333333333,
          73.8216666666667,
          73.285,
          72.9433333333333,
          72.7583333333333,
          72.6083333333333,
          72.5316666666667,
          66.6166666666667,
          66.15,
          65.8366666666667,
          65.6233333333333
         ],
         "marker": {
          "color": "deeppink",
          "opacity": 0.6,
          "size": 4
         },
         "mode": "markers",
         "name": "",
         "showlegend": false,
         "subplot": "mapbox",
         "type": "scattermapbox"
        }
       ],
       "layout": {
        "coloraxis": {
         "cmax": 4,
         "cmin": 0,
         "colorbar": {
          "title": {
           "text": "shanone"
          }
         },
         "colorscale": [
          [
           0,
           "#0508b8"
          ],
          [
           0.08333333333333333,
           "#1910d8"
          ],
          [
           0.16666666666666666,
           "#3c19f0"
          ],
          [
           0.25,
           "#6b1cfb"
          ],
          [
           0.3333333333333333,
           "#981cfd"
          ],
          [
           0.4166666666666667,
           "#bf1cfd"
          ],
          [
           0.5,
           "#dd2bfd"
          ],
          [
           0.5833333333333334,
           "#f246fe"
          ],
          [
           0.6666666666666666,
           "#fc67fd"
          ],
          [
           0.75,
           "#fe88fc"
          ],
          [
           0.8333333333333334,
           "#fea5fd"
          ],
          [
           0.9166666666666666,
           "#febefe"
          ],
          [
           1,
           "#fec3fe"
          ]
         ]
        },
        "legend": {
         "tracegroupgap": 0
        },
        "mapbox": {
         "center": {
          "lat": 73.285,
          "lon": 69.7225
         },
         "domain": {
          "x": [
           0,
           1
          ],
          "y": [
           0,
           1
          ]
         },
         "style": "open-street-map",
         "zoom": 4.172587039159928
        },
        "margin": {
         "t": 60
        },
        "template": {
         "data": {
          "bar": [
           {
            "error_x": {
             "color": "#2a3f5f"
            },
            "error_y": {
             "color": "#2a3f5f"
            },
            "marker": {
             "line": {
              "color": "#E5ECF6",
              "width": 0.5
             },
             "pattern": {
              "fillmode": "overlay",
              "size": 10,
              "solidity": 0.2
             }
            },
            "type": "bar"
           }
          ],
          "barpolar": [
           {
            "marker": {
             "line": {
              "color": "#E5ECF6",
              "width": 0.5
             },
             "pattern": {
              "fillmode": "overlay",
              "size": 10,
              "solidity": 0.2
             }
            },
            "type": "barpolar"
           }
          ],
          "carpet": [
           {
            "aaxis": {
             "endlinecolor": "#2a3f5f",
             "gridcolor": "white",
             "linecolor": "white",
             "minorgridcolor": "white",
             "startlinecolor": "#2a3f5f"
            },
            "baxis": {
             "endlinecolor": "#2a3f5f",
             "gridcolor": "white",
             "linecolor": "white",
             "minorgridcolor": "white",
             "startlinecolor": "#2a3f5f"
            },
            "type": "carpet"
           }
          ],
          "choropleth": [
           {
            "colorbar": {
             "outlinewidth": 0,
             "ticks": ""
            },
            "type": "choropleth"
           }
          ],
          "contour": [
           {
            "colorbar": {
             "outlinewidth": 0,
             "ticks": ""
            },
            "colorscale": [
             [
              0,
              "#0d0887"
             ],
             [
              0.1111111111111111,
              "#46039f"
             ],
             [
              0.2222222222222222,
              "#7201a8"
             ],
             [
              0.3333333333333333,
              "#9c179e"
             ],
             [
              0.4444444444444444,
              "#bd3786"
             ],
             [
              0.5555555555555556,
              "#d8576b"
             ],
             [
              0.6666666666666666,
              "#ed7953"
             ],
             [
              0.7777777777777778,
              "#fb9f3a"
             ],
             [
              0.8888888888888888,
              "#fdca26"
             ],
             [
              1,
              "#f0f921"
             ]
            ],
            "type": "contour"
           }
          ],
          "contourcarpet": [
           {
            "colorbar": {
             "outlinewidth": 0,
             "ticks": ""
            },
            "type": "contourcarpet"
           }
          ],
          "heatmap": [
           {
            "colorbar": {
             "outlinewidth": 0,
             "ticks": ""
            },
            "colorscale": [
             [
              0,
              "#0d0887"
             ],
             [
              0.1111111111111111,
              "#46039f"
             ],
             [
              0.2222222222222222,
              "#7201a8"
             ],
             [
              0.3333333333333333,
              "#9c179e"
             ],
             [
              0.4444444444444444,
              "#bd3786"
             ],
             [
              0.5555555555555556,
              "#d8576b"
             ],
             [
              0.6666666666666666,
              "#ed7953"
             ],
             [
              0.7777777777777778,
              "#fb9f3a"
             ],
             [
              0.8888888888888888,
              "#fdca26"
             ],
             [
              1,
              "#f0f921"
             ]
            ],
            "type": "heatmap"
           }
          ],
          "heatmapgl": [
           {
            "colorbar": {
             "outlinewidth": 0,
             "ticks": ""
            },
            "colorscale": [
             [
              0,
              "#0d0887"
             ],
             [
              0.1111111111111111,
              "#46039f"
             ],
             [
              0.2222222222222222,
              "#7201a8"
             ],
             [
              0.3333333333333333,
              "#9c179e"
             ],
             [
              0.4444444444444444,
              "#bd3786"
             ],
             [
              0.5555555555555556,
              "#d8576b"
             ],
             [
              0.6666666666666666,
              "#ed7953"
             ],
             [
              0.7777777777777778,
              "#fb9f3a"
             ],
             [
              0.8888888888888888,
              "#fdca26"
             ],
             [
              1,
              "#f0f921"
             ]
            ],
            "type": "heatmapgl"
           }
          ],
          "histogram": [
           {
            "marker": {
             "pattern": {
              "fillmode": "overlay",
              "size": 10,
              "solidity": 0.2
             }
            },
            "type": "histogram"
           }
          ],
          "histogram2d": [
           {
            "colorbar": {
             "outlinewidth": 0,
             "ticks": ""
            },
            "colorscale": [
             [
              0,
              "#0d0887"
             ],
             [
              0.1111111111111111,
              "#46039f"
             ],
             [
              0.2222222222222222,
              "#7201a8"
             ],
             [
              0.3333333333333333,
              "#9c179e"
             ],
             [
              0.4444444444444444,
              "#bd3786"
             ],
             [
              0.5555555555555556,
              "#d8576b"
             ],
             [
              0.6666666666666666,
              "#ed7953"
             ],
             [
              0.7777777777777778,
              "#fb9f3a"
             ],
             [
              0.8888888888888888,
              "#fdca26"
             ],
             [
              1,
              "#f0f921"
             ]
            ],
            "type": "histogram2d"
           }
          ],
          "histogram2dcontour": [
           {
            "colorbar": {
             "outlinewidth": 0,
             "ticks": ""
            },
            "colorscale": [
             [
              0,
              "#0d0887"
             ],
             [
              0.1111111111111111,
              "#46039f"
             ],
             [
              0.2222222222222222,
              "#7201a8"
             ],
             [
              0.3333333333333333,
              "#9c179e"
             ],
             [
              0.4444444444444444,
              "#bd3786"
             ],
             [
              0.5555555555555556,
              "#d8576b"
             ],
             [
              0.6666666666666666,
              "#ed7953"
             ],
             [
              0.7777777777777778,
              "#fb9f3a"
             ],
             [
              0.8888888888888888,
              "#fdca26"
             ],
             [
              1,
              "#f0f921"
             ]
            ],
            "type": "histogram2dcontour"
           }
          ],
          "mesh3d": [
           {
            "colorbar": {
             "outlinewidth": 0,
             "ticks": ""
            },
            "type": "mesh3d"
           }
          ],
          "parcoords": [
           {
            "line": {
             "colorbar": {
              "outlinewidth": 0,
              "ticks": ""
             }
            },
            "type": "parcoords"
           }
          ],
          "pie": [
           {
            "automargin": true,
            "type": "pie"
           }
          ],
          "scatter": [
           {
            "fillpattern": {
             "fillmode": "overlay",
             "size": 10,
             "solidity": 0.2
            },
            "type": "scatter"
           }
          ],
          "scatter3d": [
           {
            "line": {
             "colorbar": {
              "outlinewidth": 0,
              "ticks": ""
             }
            },
            "marker": {
             "colorbar": {
              "outlinewidth": 0,
              "ticks": ""
             }
            },
            "type": "scatter3d"
           }
          ],
          "scattercarpet": [
           {
            "marker": {
             "colorbar": {
              "outlinewidth": 0,
              "ticks": ""
             }
            },
            "type": "scattercarpet"
           }
          ],
          "scattergeo": [
           {
            "marker": {
             "colorbar": {
              "outlinewidth": 0,
              "ticks": ""
             }
            },
            "type": "scattergeo"
           }
          ],
          "scattergl": [
           {
            "marker": {
             "colorbar": {
              "outlinewidth": 0,
              "ticks": ""
             }
            },
            "type": "scattergl"
           }
          ],
          "scattermapbox": [
           {
            "marker": {
             "colorbar": {
              "outlinewidth": 0,
              "ticks": ""
             }
            },
            "type": "scattermapbox"
           }
          ],
          "scatterpolar": [
           {
            "marker": {
             "colorbar": {
              "outlinewidth": 0,
              "ticks": ""
             }
            },
            "type": "scatterpolar"
           }
          ],
          "scatterpolargl": [
           {
            "marker": {
             "colorbar": {
              "outlinewidth": 0,
              "ticks": ""
             }
            },
            "type": "scatterpolargl"
           }
          ],
          "scatterternary": [
           {
            "marker": {
             "colorbar": {
              "outlinewidth": 0,
              "ticks": ""
             }
            },
            "type": "scatterternary"
           }
          ],
          "surface": [
           {
            "colorbar": {
             "outlinewidth": 0,
             "ticks": ""
            },
            "colorscale": [
             [
              0,
              "#0d0887"
             ],
             [
              0.1111111111111111,
              "#46039f"
             ],
             [
              0.2222222222222222,
              "#7201a8"
             ],
             [
              0.3333333333333333,
              "#9c179e"
             ],
             [
              0.4444444444444444,
              "#bd3786"
             ],
             [
              0.5555555555555556,
              "#d8576b"
             ],
             [
              0.6666666666666666,
              "#ed7953"
             ],
             [
              0.7777777777777778,
              "#fb9f3a"
             ],
             [
              0.8888888888888888,
              "#fdca26"
             ],
             [
              1,
              "#f0f921"
             ]
            ],
            "type": "surface"
           }
          ],
          "table": [
           {
            "cells": {
             "fill": {
              "color": "#EBF0F8"
             },
             "line": {
              "color": "white"
             }
            },
            "header": {
             "fill": {
              "color": "#C8D4E3"
             },
             "line": {
              "color": "white"
             }
            },
            "type": "table"
           }
          ]
         },
         "layout": {
          "annotationdefaults": {
           "arrowcolor": "#2a3f5f",
           "arrowhead": 0,
           "arrowwidth": 1
          },
          "autotypenumbers": "strict",
          "coloraxis": {
           "colorbar": {
            "outlinewidth": 0,
            "ticks": ""
           }
          },
          "colorscale": {
           "diverging": [
            [
             0,
             "#8e0152"
            ],
            [
             0.1,
             "#c51b7d"
            ],
            [
             0.2,
             "#de77ae"
            ],
            [
             0.3,
             "#f1b6da"
            ],
            [
             0.4,
             "#fde0ef"
            ],
            [
             0.5,
             "#f7f7f7"
            ],
            [
             0.6,
             "#e6f5d0"
            ],
            [
             0.7,
             "#b8e186"
            ],
            [
             0.8,
             "#7fbc41"
            ],
            [
             0.9,
             "#4d9221"
            ],
            [
             1,
             "#276419"
            ]
           ],
           "sequential": [
            [
             0,
             "#0d0887"
            ],
            [
             0.1111111111111111,
             "#46039f"
            ],
            [
             0.2222222222222222,
             "#7201a8"
            ],
            [
             0.3333333333333333,
             "#9c179e"
            ],
            [
             0.4444444444444444,
             "#bd3786"
            ],
            [
             0.5555555555555556,
             "#d8576b"
            ],
            [
             0.6666666666666666,
             "#ed7953"
            ],
            [
             0.7777777777777778,
             "#fb9f3a"
            ],
            [
             0.8888888888888888,
             "#fdca26"
            ],
            [
             1,
             "#f0f921"
            ]
           ],
           "sequentialminus": [
            [
             0,
             "#0d0887"
            ],
            [
             0.1111111111111111,
             "#46039f"
            ],
            [
             0.2222222222222222,
             "#7201a8"
            ],
            [
             0.3333333333333333,
             "#9c179e"
            ],
            [
             0.4444444444444444,
             "#bd3786"
            ],
            [
             0.5555555555555556,
             "#d8576b"
            ],
            [
             0.6666666666666666,
             "#ed7953"
            ],
            [
             0.7777777777777778,
             "#fb9f3a"
            ],
            [
             0.8888888888888888,
             "#fdca26"
            ],
            [
             1,
             "#f0f921"
            ]
           ]
          },
          "colorway": [
           "#636efa",
           "#EF553B",
           "#00cc96",
           "#ab63fa",
           "#FFA15A",
           "#19d3f3",
           "#FF6692",
           "#B6E880",
           "#FF97FF",
           "#FECB52"
          ],
          "font": {
           "color": "#2a3f5f"
          },
          "geo": {
           "bgcolor": "white",
           "lakecolor": "white",
           "landcolor": "#E5ECF6",
           "showlakes": true,
           "showland": true,
           "subunitcolor": "white"
          },
          "hoverlabel": {
           "align": "left"
          },
          "hovermode": "closest",
          "mapbox": {
           "style": "light"
          },
          "paper_bgcolor": "white",
          "plot_bgcolor": "#E5ECF6",
          "polar": {
           "angularaxis": {
            "gridcolor": "white",
            "linecolor": "white",
            "ticks": ""
           },
           "bgcolor": "#E5ECF6",
           "radialaxis": {
            "gridcolor": "white",
            "linecolor": "white",
            "ticks": ""
           }
          },
          "scene": {
           "xaxis": {
            "backgroundcolor": "#E5ECF6",
            "gridcolor": "white",
            "gridwidth": 2,
            "linecolor": "white",
            "showbackground": true,
            "ticks": "",
            "zerolinecolor": "white"
           },
           "yaxis": {
            "backgroundcolor": "#E5ECF6",
            "gridcolor": "white",
            "gridwidth": 2,
            "linecolor": "white",
            "showbackground": true,
            "ticks": "",
            "zerolinecolor": "white"
           },
           "zaxis": {
            "backgroundcolor": "#E5ECF6",
            "gridcolor": "white",
            "gridwidth": 2,
            "linecolor": "white",
            "showbackground": true,
            "ticks": "",
            "zerolinecolor": "white"
           }
          },
          "shapedefaults": {
           "line": {
            "color": "#2a3f5f"
           }
          },
          "ternary": {
           "aaxis": {
            "gridcolor": "white",
            "linecolor": "white",
            "ticks": ""
           },
           "baxis": {
            "gridcolor": "white",
            "linecolor": "white",
            "ticks": ""
           },
           "bgcolor": "#E5ECF6",
           "caxis": {
            "gridcolor": "white",
            "linecolor": "white",
            "ticks": ""
           }
          },
          "title": {
           "x": 0.05
          },
          "xaxis": {
           "automargin": true,
           "gridcolor": "white",
           "linecolor": "white",
           "ticks": "",
           "title": {
            "standoff": 15
           },
           "zerolinecolor": "white",
           "zerolinewidth": 2
          },
          "yaxis": {
           "automargin": true,
           "gridcolor": "white",
           "linecolor": "white",
           "ticks": "",
           "title": {
            "standoff": 15
           },
           "zerolinecolor": "white",
           "zerolinewidth": 2
          }
         }
        }
       }
      },
      "text/html": [
       "<div>                            <div id=\"d3c02c7f-07eb-4d15-baa5-deec123ed86e\" class=\"plotly-graph-div\" style=\"height:525px; width:100%;\"></div>            <script type=\"text/javascript\">                require([\"plotly\"], function(Plotly) {                    window.PLOTLYENV=window.PLOTLYENV || {};                                    if (document.getElementById(\"d3c02c7f-07eb-4d15-baa5-deec123ed86e\")) {                    Plotly.newPlot(                        \"d3c02c7f-07eb-4d15-baa5-deec123ed86e\",                        [{\"coloraxis\":\"coloraxis\",\"customdata\":[[0.7394329694971629,\"1.2645831577646949,1.82293446869947\",0],[1.9973860127661416,\"1.2645831577646949,1.9468522338454748\",0],[2.1672415352999606,\"1.2645831577646949,2.029464077276145\",0],[1.4761864356617362,\"1.2884311427861692,1.8642403904148048\",0],[2.6057203083650906,\"1.2884311427861692,1.90554631213014\",0],[2.6804404154208745,\"1.1572672251680607,1.8022815078418024\",0],[0.7102660346123585,\"1.2765071502754322,1.8022815078418024\",0],[0.2124089713848949,\"1.2765071502754322,1.8435874295571373\",0],[2.8225179366927797,\"1.2765071502754322,2.008811116418477\",0],[2.9151076155411855,\"1.2765071502754322,2.0501170381338123\",0]],\"geojson\":{\"type\":\"FeatureCollection\",\"features\":[{\"type\":\"Feature\",\"id\":\"1.1453432326573236,1.7816285469841349\",\"geometry\":{\"type\":\"Polygon\",\"coordinates\":[[[65.62333332513496,70.62619034882698],[66.3065277709458,70.75661464449024],[66.3065277709458,71.01493315580265],[65.62333332513496,71.1428369886367],[64.94013887932412,71.01493315580265],[64.94013887932412,70.75661464449024],[65.62333332513496,70.62619034882698]]]}},{\"type\":\"Feature\",\"id\":\"1.1453432326573236,1.82293446869947\",\"geometry\":{\"type\":\"Polygon\",\"coordinates\":[[[65.62333332513496,71.39615774363489],[66.3065277709458,71.5215841955828],[66.3065277709458,71.76999295956458],[65.62333332513496,71.89298470984576],[64.94013887932412,71.76999295956458],[64.94013887932412,71.5215841955828],[65.62333332513496,71.39615774363489]]]}},{\"type\":\"Feature\",\"id\":\"1.1453432326573236,1.8642403904148048\",\"geometry\":{\"type\":\"Polygon\",\"coordinates\":[[[65.62333332513496,72.13656642453515],[66.3065277709458,72.2571657319003],[66.3065277709458,72.49600448164861],[65.62333332513496,72.61425316830547],[64.94013887932412,72.49600448164861],[64.94013887932412,72.2571657319003],[65.62333332513496,72.13656642453515]]]}},{\"type\":\"Feature\",\"id\":\"1.1453432326573236,1.90554631213014\",\"geometry\":{\"type\":\"Polygon\",\"coordinates\":[[[65.62333332513496,72.84843214954259],[66.3065277709458,72.96437158666195],[66.3065277709458,73.19397308042133],[65.62333332513496,73.30764417513699],[64.94013887932412,73.19397308042133],[64.94013887932412,72.96437158666195],[65.62333332513496,72.84843214954259]]]}},{\"type\":\"Feature\",\"id\":\"1.1453432326573236,1.9468522338454748\",\"geometry\":{\"type\":\"Polygon\",\"coordinates\":[[[65.62333332513496,73.53274952248402],[66.3065277709458,73.64419270630317],[66.3065277709458,73.86488228650353],[65.62333332513496,73.97413750504708],[64.94013887932412,73.86488228650353],[64.94013887932412,73.64419270630317],[65.62333332513496,73.53274952248402]]]}},{\"type\":\"Feature\",\"id\":\"1.1453432326573236,1.9881581555608099\",\"geometry\":{\"type\":\"Polygon\",\"coordinates\":[[[65.62333332513496,74.19049071631744],[66.3065277709458,74.2975974203137],[66.3065277709458,74.50969266300417],[65.62333332513496,74.61468980046152],[64.94013887932412,74.50969266300417],[64.94013887932412,74.2975974203137],[65.62333332513496,74.19049071631744]]]}},{\"type\":\"Feature\",\"id\":\"1.1453432326573236,2.029464077276145\",\"geometry\":{\"type\":\"Polygon\",\"coordinates\":[[[65.62333332513496,74.82260446252478],[66.3065277709458,74.92553047201287],[66.3065277709458,75.12934091662211],[65.62333332513496,75.23023372159376],[64.94013887932412,75.12934091662211],[64.94013887932412,74.92553047201287],[65.62333332513496,74.82260446252478]]]}},{\"type\":\"Feature\",\"id\":\"1.1453432326573236,2.0707699989914796\",\"geometry\":{\"type\":\"Polygon\",\"coordinates\":[[[65.62333332513496,75.43001527677667],[66.3065277709458,75.52891228086591],[66.3065277709458,75.72473923102838],[65.62333332513496,75.82167731426279],[64.94013887932412,75.72473923102838],[64.94013887932412,75.52891228086591],[65.62333332513496,75.43001527677667]]]}},{\"type\":\"Feature\",\"id\":\"1.169191217678798,1.7816285469841349\",\"geometry\":{\"type\":\"Polygon\",\"coordinates\":[[[66.98972221675665,70.62619034882698],[67.67291666256749,70.75661464449024],[67.67291666256749,71.01493315580265],[66.98972221675665,71.1428369886367],[66.3065277709458,71.01493315580265],[66.3065277709458,70.75661464449024],[66.98972221675665,70.62619034882698]]]}},{\"type\":\"Feature\",\"id\":\"1.169191217678798,1.82293446869947\",\"geometry\":{\"type\":\"Polygon\",\"coordinates\":[[[66.98972221675665,71.39615774363489],[67.67291666256749,71.5215841955828],[67.67291666256749,71.76999295956458],[66.98972221675665,71.89298470984576],[66.3065277709458,71.76999295956458],[66.3065277709458,71.5215841955828],[66.98972221675665,71.39615774363489]]]}},{\"type\":\"Feature\",\"id\":\"1.169191217678798,1.8642403904148048\",\"geometry\":{\"type\":\"Polygon\",\"coordinates\":[[[66.98972221675665,72.13656642453515],[67.67291666256749,72.2571657319003],[67.67291666256749,72.49600448164861],[66.98972221675665,72.61425316830547],[66.3065277709458,72.49600448164861],[66.3065277709458,72.2571657319003],[66.98972221675665,72.13656642453515]]]}},{\"type\":\"Feature\",\"id\":\"1.169191217678798,1.90554631213014\",\"geometry\":{\"type\":\"Polygon\",\"coordinates\":[[[66.98972221675665,72.84843214954259],[67.67291666256749,72.96437158666195],[67.67291666256749,73.19397308042133],[66.98972221675665,73.30764417513699],[66.3065277709458,73.19397308042133],[66.3065277709458,72.96437158666195],[66.98972221675665,72.84843214954259]]]}},{\"type\":\"Feature\",\"id\":\"1.169191217678798,1.9468522338454748\",\"geometry\":{\"type\":\"Polygon\",\"coordinates\":[[[66.98972221675665,73.53274952248402],[67.67291666256749,73.64419270630317],[67.67291666256749,73.86488228650353],[66.98972221675665,73.97413750504708],[66.3065277709458,73.86488228650353],[66.3065277709458,73.64419270630317],[66.98972221675665,73.53274952248402]]]}},{\"type\":\"Feature\",\"id\":\"1.169191217678798,1.9881581555608099\",\"geometry\":{\"type\":\"Polygon\",\"coordinates\":[[[66.98972221675665,74.19049071631744],[67.67291666256749,74.2975974203137],[67.67291666256749,74.50969266300417],[66.98972221675665,74.61468980046152],[66.3065277709458,74.50969266300417],[66.3065277709458,74.2975974203137],[66.98972221675665,74.19049071631744]]]}},{\"type\":\"Feature\",\"id\":\"1.169191217678798,2.029464077276145\",\"geometry\":{\"type\":\"Polygon\",\"coordinates\":[[[66.98972221675665,74.82260446252478],[67.67291666256749,74.92553047201287],[67.67291666256749,75.12934091662211],[66.98972221675665,75.23023372159376],[66.3065277709458,75.12934091662211],[66.3065277709458,74.92553047201287],[66.98972221675665,74.82260446252478]]]}},{\"type\":\"Feature\",\"id\":\"1.169191217678798,2.0707699989914796\",\"geometry\":{\"type\":\"Polygon\",\"coordinates\":[[[66.98972221675665,75.43001527677667],[67.67291666256749,75.52891228086591],[67.67291666256749,75.72473923102838],[66.98972221675665,75.82167731426279],[66.3065277709458,75.72473923102838],[66.3065277709458,75.52891228086591],[66.98972221675665,75.43001527677667]]]}},{\"type\":\"Feature\",\"id\":\"1.193039202700272,1.7816285469841349\",\"geometry\":{\"type\":\"Polygon\",\"coordinates\":[[[68.35611110837831,70.62619034882698],[69.03930555418916,70.75661464449024],[69.03930555418916,71.01493315580265],[68.35611110837831,71.1428369886367],[67.67291666256749,71.01493315580265],[67.67291666256749,70.75661464449024],[68.35611110837831,70.62619034882698]]]}},{\"type\":\"Feature\",\"id\":\"1.193039202700272,1.82293446869947\",\"geometry\":{\"type\":\"Polygon\",\"coordinates\":[[[68.35611110837831,71.39615774363489],[69.03930555418916,71.5215841955828],[69.03930555418916,71.76999295956458],[68.35611110837831,71.89298470984576],[67.67291666256749,71.76999295956458],[67.67291666256749,71.5215841955828],[68.35611110837831,71.39615774363489]]]}},{\"type\":\"Feature\",\"id\":\"1.193039202700272,1.8642403904148048\",\"geometry\":{\"type\":\"Polygon\",\"coordinates\":[[[68.35611110837831,72.13656642453515],[69.03930555418916,72.2571657319003],[69.03930555418916,72.49600448164861],[68.35611110837831,72.61425316830547],[67.67291666256749,72.49600448164861],[67.67291666256749,72.2571657319003],[68.35611110837831,72.13656642453515]]]}},{\"type\":\"Feature\",\"id\":\"1.193039202700272,1.90554631213014\",\"geometry\":{\"type\":\"Polygon\",\"coordinates\":[[[68.35611110837831,72.84843214954259],[69.03930555418916,72.96437158666195],[69.03930555418916,73.19397308042133],[68.35611110837831,73.30764417513699],[67.67291666256749,73.19397308042133],[67.67291666256749,72.96437158666195],[68.35611110837831,72.84843214954259]]]}},{\"type\":\"Feature\",\"id\":\"1.193039202700272,1.9468522338454748\",\"geometry\":{\"type\":\"Polygon\",\"coordinates\":[[[68.35611110837831,73.53274952248402],[69.03930555418916,73.64419270630317],[69.03930555418916,73.86488228650353],[68.35611110837831,73.97413750504708],[67.67291666256749,73.86488228650353],[67.67291666256749,73.64419270630317],[68.35611110837831,73.53274952248402]]]}},{\"type\":\"Feature\",\"id\":\"1.193039202700272,1.9881581555608099\",\"geometry\":{\"type\":\"Polygon\",\"coordinates\":[[[68.35611110837831,74.19049071631744],[69.03930555418916,74.2975974203137],[69.03930555418916,74.50969266300417],[68.35611110837831,74.61468980046152],[67.67291666256749,74.50969266300417],[67.67291666256749,74.2975974203137],[68.35611110837831,74.19049071631744]]]}},{\"type\":\"Feature\",\"id\":\"1.193039202700272,2.029464077276145\",\"geometry\":{\"type\":\"Polygon\",\"coordinates\":[[[68.35611110837831,74.82260446252478],[69.03930555418916,74.92553047201287],[69.03930555418916,75.12934091662211],[68.35611110837831,75.23023372159376],[67.67291666256749,75.12934091662211],[67.67291666256749,74.92553047201287],[68.35611110837831,74.82260446252478]]]}},{\"type\":\"Feature\",\"id\":\"1.193039202700272,2.0707699989914796\",\"geometry\":{\"type\":\"Polygon\",\"coordinates\":[[[68.35611110837831,75.43001527677667],[69.03930555418916,75.52891228086591],[69.03930555418916,75.72473923102838],[68.35611110837831,75.82167731426279],[67.67291666256749,75.72473923102838],[67.67291666256749,75.52891228086591],[68.35611110837831,75.43001527677667]]]}},{\"type\":\"Feature\",\"id\":\"1.2168871877217464,1.7816285469841349\",\"geometry\":{\"type\":\"Polygon\",\"coordinates\":[[[69.72250000000001,70.62619034882698],[70.40569444581084,70.75661464449024],[70.40569444581084,71.01493315580265],[69.72250000000001,71.1428369886367],[69.03930555418917,71.01493315580265],[69.03930555418917,70.75661464449024],[69.72250000000001,70.62619034882698]]]}},{\"type\":\"Feature\",\"id\":\"1.2168871877217464,1.82293446869947\",\"geometry\":{\"type\":\"Polygon\",\"coordinates\":[[[69.72250000000001,71.39615774363489],[70.40569444581084,71.5215841955828],[70.40569444581084,71.76999295956458],[69.72250000000001,71.89298470984576],[69.03930555418917,71.76999295956458],[69.03930555418917,71.5215841955828],[69.72250000000001,71.39615774363489]]]}},{\"type\":\"Feature\",\"id\":\"1.2168871877217464,1.8642403904148048\",\"geometry\":{\"type\":\"Polygon\",\"coordinates\":[[[69.72250000000001,72.13656642453515],[70.40569444581084,72.2571657319003],[70.40569444581084,72.49600448164861],[69.72250000000001,72.61425316830547],[69.03930555418917,72.49600448164861],[69.03930555418917,72.2571657319003],[69.72250000000001,72.13656642453515]]]}},{\"type\":\"Feature\",\"id\":\"1.2168871877217464,1.90554631213014\",\"geometry\":{\"type\":\"Polygon\",\"coordinates\":[[[69.72250000000001,72.84843214954259],[70.40569444581084,72.96437158666195],[70.40569444581084,73.19397308042133],[69.72250000000001,73.30764417513699],[69.03930555418917,73.19397308042133],[69.03930555418917,72.96437158666195],[69.72250000000001,72.84843214954259]]]}},{\"type\":\"Feature\",\"id\":\"1.2168871877217464,1.9468522338454748\",\"geometry\":{\"type\":\"Polygon\",\"coordinates\":[[[69.72250000000001,73.53274952248402],[70.40569444581084,73.64419270630317],[70.40569444581084,73.86488228650353],[69.72250000000001,73.97413750504708],[69.03930555418917,73.86488228650353],[69.03930555418917,73.64419270630317],[69.72250000000001,73.53274952248402]]]}},{\"type\":\"Feature\",\"id\":\"1.2168871877217464,1.9881581555608099\",\"geometry\":{\"type\":\"Polygon\",\"coordinates\":[[[69.72250000000001,74.19049071631744],[70.40569444581084,74.2975974203137],[70.40569444581084,74.50969266300417],[69.72250000000001,74.61468980046152],[69.03930555418917,74.50969266300417],[69.03930555418917,74.2975974203137],[69.72250000000001,74.19049071631744]]]}},{\"type\":\"Feature\",\"id\":\"1.2168871877217464,2.029464077276145\",\"geometry\":{\"type\":\"Polygon\",\"coordinates\":[[[69.72250000000001,74.82260446252478],[70.40569444581084,74.92553047201287],[70.40569444581084,75.12934091662211],[69.72250000000001,75.23023372159376],[69.03930555418917,75.12934091662211],[69.03930555418917,74.92553047201287],[69.72250000000001,74.82260446252478]]]}},{\"type\":\"Feature\",\"id\":\"1.2168871877217464,2.0707699989914796\",\"geometry\":{\"type\":\"Polygon\",\"coordinates\":[[[69.72250000000001,75.43001527677667],[70.40569444581084,75.52891228086591],[70.40569444581084,75.72473923102838],[69.72250000000001,75.82167731426279],[69.03930555418917,75.72473923102838],[69.03930555418917,75.52891228086591],[69.72250000000001,75.43001527677667]]]}},{\"type\":\"Feature\",\"id\":\"1.2407351727432208,1.7816285469841349\",\"geometry\":{\"type\":\"Polygon\",\"coordinates\":[[[71.08888889162169,70.62619034882698],[71.77208333743252,70.75661464449024],[71.77208333743252,71.01493315580265],[71.08888889162169,71.1428369886367],[70.40569444581085,71.01493315580265],[70.40569444581085,70.75661464449024],[71.08888889162169,70.62619034882698]]]}},{\"type\":\"Feature\",\"id\":\"1.2407351727432208,1.82293446869947\",\"geometry\":{\"type\":\"Polygon\",\"coordinates\":[[[71.08888889162169,71.39615774363489],[71.77208333743252,71.5215841955828],[71.77208333743252,71.76999295956458],[71.08888889162169,71.89298470984576],[70.40569444581085,71.76999295956458],[70.40569444581085,71.5215841955828],[71.08888889162169,71.39615774363489]]]}},{\"type\":\"Feature\",\"id\":\"1.2407351727432208,1.8642403904148048\",\"geometry\":{\"type\":\"Polygon\",\"coordinates\":[[[71.08888889162169,72.13656642453515],[71.77208333743252,72.2571657319003],[71.77208333743252,72.49600448164861],[71.08888889162169,72.61425316830547],[70.40569444581085,72.49600448164861],[70.40569444581085,72.2571657319003],[71.08888889162169,72.13656642453515]]]}},{\"type\":\"Feature\",\"id\":\"1.2407351727432208,1.90554631213014\",\"geometry\":{\"type\":\"Polygon\",\"coordinates\":[[[71.08888889162169,72.84843214954259],[71.77208333743252,72.96437158666195],[71.77208333743252,73.19397308042133],[71.08888889162169,73.30764417513699],[70.40569444581085,73.19397308042133],[70.40569444581085,72.96437158666195],[71.08888889162169,72.84843214954259]]]}},{\"type\":\"Feature\",\"id\":\"1.2407351727432208,1.9468522338454748\",\"geometry\":{\"type\":\"Polygon\",\"coordinates\":[[[71.08888889162169,73.53274952248402],[71.77208333743252,73.64419270630317],[71.77208333743252,73.86488228650353],[71.08888889162169,73.97413750504708],[70.40569444581085,73.86488228650353],[70.40569444581085,73.64419270630317],[71.08888889162169,73.53274952248402]]]}},{\"type\":\"Feature\",\"id\":\"1.2407351727432208,1.9881581555608099\",\"geometry\":{\"type\":\"Polygon\",\"coordinates\":[[[71.08888889162169,74.19049071631744],[71.77208333743252,74.2975974203137],[71.77208333743252,74.50969266300417],[71.08888889162169,74.61468980046152],[70.40569444581085,74.50969266300417],[70.40569444581085,74.2975974203137],[71.08888889162169,74.19049071631744]]]}},{\"type\":\"Feature\",\"id\":\"1.2407351727432208,2.029464077276145\",\"geometry\":{\"type\":\"Polygon\",\"coordinates\":[[[71.08888889162169,74.82260446252478],[71.77208333743252,74.92553047201287],[71.77208333743252,75.12934091662211],[71.08888889162169,75.23023372159376],[70.40569444581085,75.12934091662211],[70.40569444581085,74.92553047201287],[71.08888889162169,74.82260446252478]]]}},{\"type\":\"Feature\",\"id\":\"1.2407351727432208,2.0707699989914796\",\"geometry\":{\"type\":\"Polygon\",\"coordinates\":[[[71.08888889162169,75.43001527677667],[71.77208333743252,75.52891228086591],[71.77208333743252,75.72473923102838],[71.08888889162169,75.82167731426279],[70.40569444581085,75.72473923102838],[70.40569444581085,75.52891228086591],[71.08888889162169,75.43001527677667]]]}},{\"type\":\"Feature\",\"id\":\"1.2645831577646949,1.7816285469841349\",\"geometry\":{\"type\":\"Polygon\",\"coordinates\":[[[72.45527778324336,70.62619034882698],[73.13847222905419,70.75661464449024],[73.13847222905419,71.01493315580265],[72.45527778324336,71.1428369886367],[71.77208333743252,71.01493315580265],[71.77208333743252,70.75661464449024],[72.45527778324336,70.62619034882698]]]}},{\"type\":\"Feature\",\"id\":\"1.2645831577646949,1.82293446869947\",\"geometry\":{\"type\":\"Polygon\",\"coordinates\":[[[72.45527778324336,71.39615774363489],[73.13847222905419,71.5215841955828],[73.13847222905419,71.76999295956458],[72.45527778324336,71.89298470984576],[71.77208333743252,71.76999295956458],[71.77208333743252,71.5215841955828],[72.45527778324336,71.39615774363489]]]}},{\"type\":\"Feature\",\"id\":\"1.2645831577646949,1.8642403904148048\",\"geometry\":{\"type\":\"Polygon\",\"coordinates\":[[[72.45527778324336,72.13656642453515],[73.13847222905419,72.2571657319003],[73.13847222905419,72.49600448164861],[72.45527778324336,72.61425316830547],[71.77208333743252,72.49600448164861],[71.77208333743252,72.2571657319003],[72.45527778324336,72.13656642453515]]]}},{\"type\":\"Feature\",\"id\":\"1.2645831577646949,1.90554631213014\",\"geometry\":{\"type\":\"Polygon\",\"coordinates\":[[[72.45527778324336,72.84843214954259],[73.13847222905419,72.96437158666195],[73.13847222905419,73.19397308042133],[72.45527778324336,73.30764417513699],[71.77208333743252,73.19397308042133],[71.77208333743252,72.96437158666195],[72.45527778324336,72.84843214954259]]]}},{\"type\":\"Feature\",\"id\":\"1.2645831577646949,1.9468522338454748\",\"geometry\":{\"type\":\"Polygon\",\"coordinates\":[[[72.45527778324336,73.53274952248402],[73.13847222905419,73.64419270630317],[73.13847222905419,73.86488228650353],[72.45527778324336,73.97413750504708],[71.77208333743252,73.86488228650353],[71.77208333743252,73.64419270630317],[72.45527778324336,73.53274952248402]]]}},{\"type\":\"Feature\",\"id\":\"1.2645831577646949,1.9881581555608099\",\"geometry\":{\"type\":\"Polygon\",\"coordinates\":[[[72.45527778324336,74.19049071631744],[73.13847222905419,74.2975974203137],[73.13847222905419,74.50969266300417],[72.45527778324336,74.61468980046152],[71.77208333743252,74.50969266300417],[71.77208333743252,74.2975974203137],[72.45527778324336,74.19049071631744]]]}},{\"type\":\"Feature\",\"id\":\"1.2645831577646949,2.029464077276145\",\"geometry\":{\"type\":\"Polygon\",\"coordinates\":[[[72.45527778324336,74.82260446252478],[73.13847222905419,74.92553047201287],[73.13847222905419,75.12934091662211],[72.45527778324336,75.23023372159376],[71.77208333743252,75.12934091662211],[71.77208333743252,74.92553047201287],[72.45527778324336,74.82260446252478]]]}},{\"type\":\"Feature\",\"id\":\"1.2645831577646949,2.0707699989914796\",\"geometry\":{\"type\":\"Polygon\",\"coordinates\":[[[72.45527778324336,75.43001527677667],[73.13847222905419,75.52891228086591],[73.13847222905419,75.72473923102838],[72.45527778324336,75.82167731426279],[71.77208333743252,75.72473923102838],[71.77208333743252,75.52891228086591],[72.45527778324336,75.43001527677667]]]}},{\"type\":\"Feature\",\"id\":\"1.2884311427861692,1.7816285469841349\",\"geometry\":{\"type\":\"Polygon\",\"coordinates\":[[[73.82166667486504,70.62619034882698],[74.50486112067587,70.75661464449024],[74.50486112067587,71.01493315580265],[73.82166667486504,71.1428369886367],[73.1384722290542,71.01493315580265],[73.1384722290542,70.75661464449024],[73.82166667486504,70.62619034882698]]]}},{\"type\":\"Feature\",\"id\":\"1.2884311427861692,1.82293446869947\",\"geometry\":{\"type\":\"Polygon\",\"coordinates\":[[[73.82166667486504,71.39615774363489],[74.50486112067587,71.5215841955828],[74.50486112067587,71.76999295956458],[73.82166667486504,71.89298470984576],[73.1384722290542,71.76999295956458],[73.1384722290542,71.5215841955828],[73.82166667486504,71.39615774363489]]]}},{\"type\":\"Feature\",\"id\":\"1.2884311427861692,1.8642403904148048\",\"geometry\":{\"type\":\"Polygon\",\"coordinates\":[[[73.82166667486504,72.13656642453515],[74.50486112067587,72.2571657319003],[74.50486112067587,72.49600448164861],[73.82166667486504,72.61425316830547],[73.1384722290542,72.49600448164861],[73.1384722290542,72.2571657319003],[73.82166667486504,72.13656642453515]]]}},{\"type\":\"Feature\",\"id\":\"1.2884311427861692,1.90554631213014\",\"geometry\":{\"type\":\"Polygon\",\"coordinates\":[[[73.82166667486504,72.84843214954259],[74.50486112067587,72.96437158666195],[74.50486112067587,73.19397308042133],[73.82166667486504,73.30764417513699],[73.1384722290542,73.19397308042133],[73.1384722290542,72.96437158666195],[73.82166667486504,72.84843214954259]]]}},{\"type\":\"Feature\",\"id\":\"1.2884311427861692,1.9468522338454748\",\"geometry\":{\"type\":\"Polygon\",\"coordinates\":[[[73.82166667486504,73.53274952248402],[74.50486112067587,73.64419270630317],[74.50486112067587,73.86488228650353],[73.82166667486504,73.97413750504708],[73.1384722290542,73.86488228650353],[73.1384722290542,73.64419270630317],[73.82166667486504,73.53274952248402]]]}},{\"type\":\"Feature\",\"id\":\"1.2884311427861692,1.9881581555608099\",\"geometry\":{\"type\":\"Polygon\",\"coordinates\":[[[73.82166667486504,74.19049071631744],[74.50486112067587,74.2975974203137],[74.50486112067587,74.50969266300417],[73.82166667486504,74.61468980046152],[73.1384722290542,74.50969266300417],[73.1384722290542,74.2975974203137],[73.82166667486504,74.19049071631744]]]}},{\"type\":\"Feature\",\"id\":\"1.2884311427861692,2.029464077276145\",\"geometry\":{\"type\":\"Polygon\",\"coordinates\":[[[73.82166667486504,74.82260446252478],[74.50486112067587,74.92553047201287],[74.50486112067587,75.12934091662211],[73.82166667486504,75.23023372159376],[73.1384722290542,75.12934091662211],[73.1384722290542,74.92553047201287],[73.82166667486504,74.82260446252478]]]}},{\"type\":\"Feature\",\"id\":\"1.2884311427861692,2.0707699989914796\",\"geometry\":{\"type\":\"Polygon\",\"coordinates\":[[[73.82166667486504,75.43001527677667],[74.50486112067587,75.52891228086591],[74.50486112067587,75.72473923102838],[73.82166667486504,75.82167731426279],[73.1384722290542,75.72473923102838],[73.1384722290542,75.52891228086591],[73.82166667486504,75.43001527677667]]]}},{\"type\":\"Feature\",\"id\":\"1.1572672251680607,1.8022815078418024\",\"geometry\":{\"type\":\"Polygon\",\"coordinates\":[[[66.3065277709458,71.01493315580265],[66.98972221675663,71.1428369886367],[66.98972221675663,71.39615774363489],[66.3065277709458,71.5215841955828],[65.62333332513496,71.39615774363489],[65.62333332513496,71.1428369886367],[66.3065277709458,71.01493315580265]]]}},{\"type\":\"Feature\",\"id\":\"1.1572672251680607,1.8435874295571373\",\"geometry\":{\"type\":\"Polygon\",\"coordinates\":[[[66.3065277709458,71.76999295956458],[66.98972221675663,71.89298470984576],[66.98972221675663,72.13656642453515],[66.3065277709458,72.2571657319003],[65.62333332513496,72.13656642453515],[65.62333332513496,71.89298470984576],[66.3065277709458,71.76999295956458]]]}},{\"type\":\"Feature\",\"id\":\"1.1572672251680607,1.8848933512724724\",\"geometry\":{\"type\":\"Polygon\",\"coordinates\":[[[66.3065277709458,72.49600448164861],[66.98972221675663,72.61425316830547],[66.98972221675663,72.84843214954259],[66.3065277709458,72.96437158666195],[65.62333332513496,72.84843214954259],[65.62333332513496,72.61425316830547],[66.3065277709458,72.49600448164861]]]}},{\"type\":\"Feature\",\"id\":\"1.1572672251680607,1.9261992729878072\",\"geometry\":{\"type\":\"Polygon\",\"coordinates\":[[[66.3065277709458,73.1939730804213],[66.98972221675663,73.30764417513699],[66.98972221675663,73.53274952248402],[66.3065277709458,73.64419270630317],[65.62333332513496,73.53274952248402],[65.62333332513496,73.30764417513699],[66.3065277709458,73.1939730804213]]]}},{\"type\":\"Feature\",\"id\":\"1.1572672251680607,1.9675051947031423\",\"geometry\":{\"type\":\"Polygon\",\"coordinates\":[[[66.3065277709458,73.86488228650353],[66.98972221675663,73.97413750504708],[66.98972221675663,74.19049071631744],[66.3065277709458,74.2975974203137],[65.62333332513496,74.19049071631744],[65.62333332513496,73.97413750504708],[66.3065277709458,73.86488228650353]]]}},{\"type\":\"Feature\",\"id\":\"1.1572672251680607,2.008811116418477\",\"geometry\":{\"type\":\"Polygon\",\"coordinates\":[[[66.3065277709458,74.50969266300417],[66.98972221675663,74.61468980046152],[66.98972221675663,74.82260446252478],[66.3065277709458,74.92553047201287],[65.62333332513496,74.82260446252478],[65.62333332513496,74.61468980046152],[66.3065277709458,74.50969266300417]]]}},{\"type\":\"Feature\",\"id\":\"1.1572672251680607,2.0501170381338123\",\"geometry\":{\"type\":\"Polygon\",\"coordinates\":[[[66.3065277709458,75.12934091662211],[66.98972221675663,75.23023372159376],[66.98972221675663,75.43001527677667],[66.3065277709458,75.52891228086591],[65.62333332513496,75.43001527677667],[65.62333332513496,75.23023372159376],[66.3065277709458,75.12934091662211]]]}},{\"type\":\"Feature\",\"id\":\"1.181115210189535,1.8022815078418024\",\"geometry\":{\"type\":\"Polygon\",\"coordinates\":[[[67.67291666256749,71.01493315580265],[68.35611110837831,71.1428369886367],[68.35611110837831,71.39615774363489],[67.67291666256749,71.5215841955828],[66.98972221675665,71.39615774363489],[66.98972221675665,71.1428369886367],[67.67291666256749,71.01493315580265]]]}},{\"type\":\"Feature\",\"id\":\"1.181115210189535,1.8435874295571373\",\"geometry\":{\"type\":\"Polygon\",\"coordinates\":[[[67.67291666256749,71.76999295956458],[68.35611110837831,71.89298470984576],[68.35611110837831,72.13656642453515],[67.67291666256749,72.2571657319003],[66.98972221675665,72.13656642453515],[66.98972221675665,71.89298470984576],[67.67291666256749,71.76999295956458]]]}},{\"type\":\"Feature\",\"id\":\"1.181115210189535,1.8848933512724724\",\"geometry\":{\"type\":\"Polygon\",\"coordinates\":[[[67.67291666256749,72.49600448164861],[68.35611110837831,72.61425316830547],[68.35611110837831,72.84843214954259],[67.67291666256749,72.96437158666195],[66.98972221675665,72.84843214954259],[66.98972221675665,72.61425316830547],[67.67291666256749,72.49600448164861]]]}},{\"type\":\"Feature\",\"id\":\"1.181115210189535,1.9261992729878072\",\"geometry\":{\"type\":\"Polygon\",\"coordinates\":[[[67.67291666256749,73.1939730804213],[68.35611110837831,73.30764417513699],[68.35611110837831,73.53274952248402],[67.67291666256749,73.64419270630317],[66.98972221675665,73.53274952248402],[66.98972221675665,73.30764417513699],[67.67291666256749,73.1939730804213]]]}},{\"type\":\"Feature\",\"id\":\"1.181115210189535,1.9675051947031423\",\"geometry\":{\"type\":\"Polygon\",\"coordinates\":[[[67.67291666256749,73.86488228650353],[68.35611110837831,73.97413750504708],[68.35611110837831,74.19049071631744],[67.67291666256749,74.2975974203137],[66.98972221675665,74.19049071631744],[66.98972221675665,73.97413750504708],[67.67291666256749,73.86488228650353]]]}},{\"type\":\"Feature\",\"id\":\"1.181115210189535,2.008811116418477\",\"geometry\":{\"type\":\"Polygon\",\"coordinates\":[[[67.67291666256749,74.50969266300417],[68.35611110837831,74.61468980046152],[68.35611110837831,74.82260446252478],[67.67291666256749,74.92553047201287],[66.98972221675665,74.82260446252478],[66.98972221675665,74.61468980046152],[67.67291666256749,74.50969266300417]]]}},{\"type\":\"Feature\",\"id\":\"1.181115210189535,2.0501170381338123\",\"geometry\":{\"type\":\"Polygon\",\"coordinates\":[[[67.67291666256749,75.12934091662211],[68.35611110837831,75.23023372159376],[68.35611110837831,75.43001527677667],[67.67291666256749,75.52891228086591],[66.98972221675665,75.43001527677667],[66.98972221675665,75.23023372159376],[67.67291666256749,75.12934091662211]]]}},{\"type\":\"Feature\",\"id\":\"1.2049631952110094,1.8022815078418024\",\"geometry\":{\"type\":\"Polygon\",\"coordinates\":[[[69.03930555418917,71.01493315580265],[69.72250000000001,71.1428369886367],[69.72250000000001,71.39615774363489],[69.03930555418917,71.5215841955828],[68.35611110837833,71.39615774363489],[68.35611110837833,71.1428369886367],[69.03930555418917,71.01493315580265]]]}},{\"type\":\"Feature\",\"id\":\"1.2049631952110094,1.8435874295571373\",\"geometry\":{\"type\":\"Polygon\",\"coordinates\":[[[69.03930555418917,71.76999295956458],[69.72250000000001,71.89298470984576],[69.72250000000001,72.13656642453515],[69.03930555418917,72.2571657319003],[68.35611110837833,72.13656642453515],[68.35611110837833,71.89298470984576],[69.03930555418917,71.76999295956458]]]}},{\"type\":\"Feature\",\"id\":\"1.2049631952110094,1.8848933512724724\",\"geometry\":{\"type\":\"Polygon\",\"coordinates\":[[[69.03930555418917,72.49600448164861],[69.72250000000001,72.61425316830547],[69.72250000000001,72.84843214954259],[69.03930555418917,72.96437158666195],[68.35611110837833,72.84843214954259],[68.35611110837833,72.61425316830547],[69.03930555418917,72.49600448164861]]]}},{\"type\":\"Feature\",\"id\":\"1.2049631952110094,1.9261992729878072\",\"geometry\":{\"type\":\"Polygon\",\"coordinates\":[[[69.03930555418917,73.1939730804213],[69.72250000000001,73.30764417513699],[69.72250000000001,73.53274952248402],[69.03930555418917,73.64419270630317],[68.35611110837833,73.53274952248402],[68.35611110837833,73.30764417513699],[69.03930555418917,73.1939730804213]]]}},{\"type\":\"Feature\",\"id\":\"1.2049631952110094,1.9675051947031423\",\"geometry\":{\"type\":\"Polygon\",\"coordinates\":[[[69.03930555418917,73.86488228650353],[69.72250000000001,73.97413750504708],[69.72250000000001,74.19049071631744],[69.03930555418917,74.2975974203137],[68.35611110837833,74.19049071631744],[68.35611110837833,73.97413750504708],[69.03930555418917,73.86488228650353]]]}},{\"type\":\"Feature\",\"id\":\"1.2049631952110094,2.008811116418477\",\"geometry\":{\"type\":\"Polygon\",\"coordinates\":[[[69.03930555418917,74.50969266300417],[69.72250000000001,74.61468980046152],[69.72250000000001,74.82260446252478],[69.03930555418917,74.92553047201287],[68.35611110837833,74.82260446252478],[68.35611110837833,74.61468980046152],[69.03930555418917,74.50969266300417]]]}},{\"type\":\"Feature\",\"id\":\"1.2049631952110094,2.0501170381338123\",\"geometry\":{\"type\":\"Polygon\",\"coordinates\":[[[69.03930555418917,75.12934091662211],[69.72250000000001,75.23023372159376],[69.72250000000001,75.43001527677667],[69.03930555418917,75.52891228086591],[68.35611110837833,75.43001527677667],[68.35611110837833,75.23023372159376],[69.03930555418917,75.12934091662211]]]}},{\"type\":\"Feature\",\"id\":\"1.2288111802324835,1.8022815078418024\",\"geometry\":{\"type\":\"Polygon\",\"coordinates\":[[[70.40569444581084,71.01493315580265],[71.08888889162166,71.1428369886367],[71.08888889162166,71.39615774363489],[70.40569444581084,71.5215841955828],[69.72250000000001,71.39615774363489],[69.72250000000001,71.1428369886367],[70.40569444581084,71.01493315580265]]]}},{\"type\":\"Feature\",\"id\":\"1.2288111802324835,1.8435874295571373\",\"geometry\":{\"type\":\"Polygon\",\"coordinates\":[[[70.40569444581084,71.76999295956458],[71.08888889162166,71.89298470984576],[71.08888889162166,72.13656642453515],[70.40569444581084,72.2571657319003],[69.72250000000001,72.13656642453515],[69.72250000000001,71.89298470984576],[70.40569444581084,71.76999295956458]]]}},{\"type\":\"Feature\",\"id\":\"1.2288111802324835,1.8848933512724724\",\"geometry\":{\"type\":\"Polygon\",\"coordinates\":[[[70.40569444581084,72.49600448164861],[71.08888889162166,72.61425316830547],[71.08888889162166,72.84843214954259],[70.40569444581084,72.96437158666195],[69.72250000000001,72.84843214954259],[69.72250000000001,72.61425316830547],[70.40569444581084,72.49600448164861]]]}},{\"type\":\"Feature\",\"id\":\"1.2288111802324835,1.9261992729878072\",\"geometry\":{\"type\":\"Polygon\",\"coordinates\":[[[70.40569444581084,73.1939730804213],[71.08888889162166,73.30764417513699],[71.08888889162166,73.53274952248402],[70.40569444581084,73.64419270630317],[69.72250000000001,73.53274952248402],[69.72250000000001,73.30764417513699],[70.40569444581084,73.1939730804213]]]}},{\"type\":\"Feature\",\"id\":\"1.2288111802324835,1.9675051947031423\",\"geometry\":{\"type\":\"Polygon\",\"coordinates\":[[[70.40569444581084,73.86488228650353],[71.08888889162166,73.97413750504708],[71.08888889162166,74.19049071631744],[70.40569444581084,74.2975974203137],[69.72250000000001,74.19049071631744],[69.72250000000001,73.97413750504708],[70.40569444581084,73.86488228650353]]]}},{\"type\":\"Feature\",\"id\":\"1.2288111802324835,2.008811116418477\",\"geometry\":{\"type\":\"Polygon\",\"coordinates\":[[[70.40569444581084,74.50969266300417],[71.08888889162166,74.61468980046152],[71.08888889162166,74.82260446252478],[70.40569444581084,74.92553047201287],[69.72250000000001,74.82260446252478],[69.72250000000001,74.61468980046152],[70.40569444581084,74.50969266300417]]]}},{\"type\":\"Feature\",\"id\":\"1.2288111802324835,2.0501170381338123\",\"geometry\":{\"type\":\"Polygon\",\"coordinates\":[[[70.40569444581084,75.12934091662211],[71.08888889162166,75.23023372159376],[71.08888889162166,75.43001527677667],[70.40569444581084,75.52891228086591],[69.72250000000001,75.43001527677667],[69.72250000000001,75.23023372159376],[70.40569444581084,75.12934091662211]]]}},{\"type\":\"Feature\",\"id\":\"1.2526591652539578,1.8022815078418024\",\"geometry\":{\"type\":\"Polygon\",\"coordinates\":[[[71.77208333743252,71.01493315580265],[72.45527778324336,71.1428369886367],[72.45527778324336,71.39615774363489],[71.77208333743252,71.5215841955828],[71.08888889162169,71.39615774363489],[71.08888889162169,71.1428369886367],[71.77208333743252,71.01493315580265]]]}},{\"type\":\"Feature\",\"id\":\"1.2526591652539578,1.8435874295571373\",\"geometry\":{\"type\":\"Polygon\",\"coordinates\":[[[71.77208333743252,71.76999295956458],[72.45527778324336,71.89298470984576],[72.45527778324336,72.13656642453515],[71.77208333743252,72.2571657319003],[71.08888889162169,72.13656642453515],[71.08888889162169,71.89298470984576],[71.77208333743252,71.76999295956458]]]}},{\"type\":\"Feature\",\"id\":\"1.2526591652539578,1.8848933512724724\",\"geometry\":{\"type\":\"Polygon\",\"coordinates\":[[[71.77208333743252,72.49600448164861],[72.45527778324336,72.61425316830547],[72.45527778324336,72.84843214954259],[71.77208333743252,72.96437158666195],[71.08888889162169,72.84843214954259],[71.08888889162169,72.61425316830547],[71.77208333743252,72.49600448164861]]]}},{\"type\":\"Feature\",\"id\":\"1.2526591652539578,1.9261992729878072\",\"geometry\":{\"type\":\"Polygon\",\"coordinates\":[[[71.77208333743252,73.1939730804213],[72.45527778324336,73.30764417513699],[72.45527778324336,73.53274952248402],[71.77208333743252,73.64419270630317],[71.08888889162169,73.53274952248402],[71.08888889162169,73.30764417513699],[71.77208333743252,73.1939730804213]]]}},{\"type\":\"Feature\",\"id\":\"1.2526591652539578,1.9675051947031423\",\"geometry\":{\"type\":\"Polygon\",\"coordinates\":[[[71.77208333743252,73.86488228650353],[72.45527778324336,73.97413750504708],[72.45527778324336,74.19049071631744],[71.77208333743252,74.2975974203137],[71.08888889162169,74.19049071631744],[71.08888889162169,73.97413750504708],[71.77208333743252,73.86488228650353]]]}},{\"type\":\"Feature\",\"id\":\"1.2526591652539578,2.008811116418477\",\"geometry\":{\"type\":\"Polygon\",\"coordinates\":[[[71.77208333743252,74.50969266300417],[72.45527778324336,74.61468980046152],[72.45527778324336,74.82260446252478],[71.77208333743252,74.92553047201287],[71.08888889162169,74.82260446252478],[71.08888889162169,74.61468980046152],[71.77208333743252,74.50969266300417]]]}},{\"type\":\"Feature\",\"id\":\"1.2526591652539578,2.0501170381338123\",\"geometry\":{\"type\":\"Polygon\",\"coordinates\":[[[71.77208333743252,75.12934091662211],[72.45527778324336,75.23023372159376],[72.45527778324336,75.43001527677667],[71.77208333743252,75.52891228086591],[71.08888889162169,75.43001527677667],[71.08888889162169,75.23023372159376],[71.77208333743252,75.12934091662211]]]}},{\"type\":\"Feature\",\"id\":\"1.2765071502754322,1.8022815078418024\",\"geometry\":{\"type\":\"Polygon\",\"coordinates\":[[[73.1384722290542,71.01493315580265],[73.82166667486504,71.1428369886367],[73.82166667486504,71.39615774363489],[73.1384722290542,71.5215841955828],[72.45527778324337,71.39615774363489],[72.45527778324337,71.1428369886367],[73.1384722290542,71.01493315580265]]]}},{\"type\":\"Feature\",\"id\":\"1.2765071502754322,1.8435874295571373\",\"geometry\":{\"type\":\"Polygon\",\"coordinates\":[[[73.1384722290542,71.76999295956458],[73.82166667486504,71.89298470984576],[73.82166667486504,72.13656642453515],[73.1384722290542,72.2571657319003],[72.45527778324337,72.13656642453515],[72.45527778324337,71.89298470984576],[73.1384722290542,71.76999295956458]]]}},{\"type\":\"Feature\",\"id\":\"1.2765071502754322,1.8848933512724724\",\"geometry\":{\"type\":\"Polygon\",\"coordinates\":[[[73.1384722290542,72.49600448164861],[73.82166667486504,72.61425316830547],[73.82166667486504,72.84843214954259],[73.1384722290542,72.96437158666195],[72.45527778324337,72.84843214954259],[72.45527778324337,72.61425316830547],[73.1384722290542,72.49600448164861]]]}},{\"type\":\"Feature\",\"id\":\"1.2765071502754322,1.9261992729878072\",\"geometry\":{\"type\":\"Polygon\",\"coordinates\":[[[73.1384722290542,73.1939730804213],[73.82166667486504,73.30764417513699],[73.82166667486504,73.53274952248402],[73.1384722290542,73.64419270630317],[72.45527778324337,73.53274952248402],[72.45527778324337,73.30764417513699],[73.1384722290542,73.1939730804213]]]}},{\"type\":\"Feature\",\"id\":\"1.2765071502754322,1.9675051947031423\",\"geometry\":{\"type\":\"Polygon\",\"coordinates\":[[[73.1384722290542,73.86488228650353],[73.82166667486504,73.97413750504708],[73.82166667486504,74.19049071631744],[73.1384722290542,74.2975974203137],[72.45527778324337,74.19049071631744],[72.45527778324337,73.97413750504708],[73.1384722290542,73.86488228650353]]]}},{\"type\":\"Feature\",\"id\":\"1.2765071502754322,2.008811116418477\",\"geometry\":{\"type\":\"Polygon\",\"coordinates\":[[[73.1384722290542,74.50969266300417],[73.82166667486504,74.61468980046152],[73.82166667486504,74.82260446252478],[73.1384722290542,74.92553047201287],[72.45527778324337,74.82260446252478],[72.45527778324337,74.61468980046152],[73.1384722290542,74.50969266300417]]]}},{\"type\":\"Feature\",\"id\":\"1.2765071502754322,2.0501170381338123\",\"geometry\":{\"type\":\"Polygon\",\"coordinates\":[[[73.1384722290542,75.12934091662211],[73.82166667486504,75.23023372159376],[73.82166667486504,75.43001527677667],[73.1384722290542,75.52891228086591],[72.45527778324337,75.43001527677667],[72.45527778324337,75.23023372159376],[73.1384722290542,75.12934091662211]]]}}]},\"hovertemplate\":\"shanone=%{z}<extra></extra>\",\"locations\":[\"1.2645831577646949,1.82293446869947\",\"1.2645831577646949,1.9468522338454748\",\"1.2645831577646949,2.029464077276145\",\"1.2884311427861692,1.8642403904148048\",\"1.2884311427861692,1.90554631213014\",\"1.1572672251680607,1.8022815078418024\",\"1.2765071502754322,1.8022815078418024\",\"1.2765071502754322,1.8435874295571373\",\"1.2765071502754322,2.008811116418477\",\"1.2765071502754322,2.0501170381338123\"],\"marker\":{\"opacity\":0.7},\"name\":\"\",\"subplot\":\"mapbox\",\"z\":[0.7394329694971629,1.9973860127661416,2.1672415352999606,1.4761864356617362,2.6057203083650906,2.6804404154208745,0.7102660346123585,0.2124089713848949,2.8225179366927797,2.9151076155411855],\"type\":\"choroplethmapbox\"},{\"hoverinfo\":\"skip\",\"lat\":[71.2483333333333,71.7333333333333,72.1666666666667,72.57,72.9533333333333,73.7516666666667,74.5833333333333,75.1683333333333,75.44,71.13,71.2,71.25,71.2833333333333],\"legendgroup\":\"\",\"lon\":[72.865,72.7883333333333,73.2383333333333,73.8216666666667,73.285,72.9433333333333,72.7583333333333,72.6083333333333,72.5316666666667,66.6166666666667,66.15,65.8366666666667,65.6233333333333],\"marker\":{\"color\":\"deeppink\",\"opacity\":0.6,\"size\":4},\"mode\":\"markers\",\"name\":\"\",\"showlegend\":false,\"subplot\":\"mapbox\",\"type\":\"scattermapbox\"}],                        {\"template\":{\"data\":{\"histogram2dcontour\":[{\"type\":\"histogram2dcontour\",\"colorbar\":{\"outlinewidth\":0,\"ticks\":\"\"},\"colorscale\":[[0.0,\"#0d0887\"],[0.1111111111111111,\"#46039f\"],[0.2222222222222222,\"#7201a8\"],[0.3333333333333333,\"#9c179e\"],[0.4444444444444444,\"#bd3786\"],[0.5555555555555556,\"#d8576b\"],[0.6666666666666666,\"#ed7953\"],[0.7777777777777778,\"#fb9f3a\"],[0.8888888888888888,\"#fdca26\"],[1.0,\"#f0f921\"]]}],\"choropleth\":[{\"type\":\"choropleth\",\"colorbar\":{\"outlinewidth\":0,\"ticks\":\"\"}}],\"histogram2d\":[{\"type\":\"histogram2d\",\"colorbar\":{\"outlinewidth\":0,\"ticks\":\"\"},\"colorscale\":[[0.0,\"#0d0887\"],[0.1111111111111111,\"#46039f\"],[0.2222222222222222,\"#7201a8\"],[0.3333333333333333,\"#9c179e\"],[0.4444444444444444,\"#bd3786\"],[0.5555555555555556,\"#d8576b\"],[0.6666666666666666,\"#ed7953\"],[0.7777777777777778,\"#fb9f3a\"],[0.8888888888888888,\"#fdca26\"],[1.0,\"#f0f921\"]]}],\"heatmap\":[{\"type\":\"heatmap\",\"colorbar\":{\"outlinewidth\":0,\"ticks\":\"\"},\"colorscale\":[[0.0,\"#0d0887\"],[0.1111111111111111,\"#46039f\"],[0.2222222222222222,\"#7201a8\"],[0.3333333333333333,\"#9c179e\"],[0.4444444444444444,\"#bd3786\"],[0.5555555555555556,\"#d8576b\"],[0.6666666666666666,\"#ed7953\"],[0.7777777777777778,\"#fb9f3a\"],[0.8888888888888888,\"#fdca26\"],[1.0,\"#f0f921\"]]}],\"heatmapgl\":[{\"type\":\"heatmapgl\",\"colorbar\":{\"outlinewidth\":0,\"ticks\":\"\"},\"colorscale\":[[0.0,\"#0d0887\"],[0.1111111111111111,\"#46039f\"],[0.2222222222222222,\"#7201a8\"],[0.3333333333333333,\"#9c179e\"],[0.4444444444444444,\"#bd3786\"],[0.5555555555555556,\"#d8576b\"],[0.6666666666666666,\"#ed7953\"],[0.7777777777777778,\"#fb9f3a\"],[0.8888888888888888,\"#fdca26\"],[1.0,\"#f0f921\"]]}],\"contourcarpet\":[{\"type\":\"contourcarpet\",\"colorbar\":{\"outlinewidth\":0,\"ticks\":\"\"}}],\"contour\":[{\"type\":\"contour\",\"colorbar\":{\"outlinewidth\":0,\"ticks\":\"\"},\"colorscale\":[[0.0,\"#0d0887\"],[0.1111111111111111,\"#46039f\"],[0.2222222222222222,\"#7201a8\"],[0.3333333333333333,\"#9c179e\"],[0.4444444444444444,\"#bd3786\"],[0.5555555555555556,\"#d8576b\"],[0.6666666666666666,\"#ed7953\"],[0.7777777777777778,\"#fb9f3a\"],[0.8888888888888888,\"#fdca26\"],[1.0,\"#f0f921\"]]}],\"surface\":[{\"type\":\"surface\",\"colorbar\":{\"outlinewidth\":0,\"ticks\":\"\"},\"colorscale\":[[0.0,\"#0d0887\"],[0.1111111111111111,\"#46039f\"],[0.2222222222222222,\"#7201a8\"],[0.3333333333333333,\"#9c179e\"],[0.4444444444444444,\"#bd3786\"],[0.5555555555555556,\"#d8576b\"],[0.6666666666666666,\"#ed7953\"],[0.7777777777777778,\"#fb9f3a\"],[0.8888888888888888,\"#fdca26\"],[1.0,\"#f0f921\"]]}],\"mesh3d\":[{\"type\":\"mesh3d\",\"colorbar\":{\"outlinewidth\":0,\"ticks\":\"\"}}],\"scatter\":[{\"fillpattern\":{\"fillmode\":\"overlay\",\"size\":10,\"solidity\":0.2},\"type\":\"scatter\"}],\"parcoords\":[{\"type\":\"parcoords\",\"line\":{\"colorbar\":{\"outlinewidth\":0,\"ticks\":\"\"}}}],\"scatterpolargl\":[{\"type\":\"scatterpolargl\",\"marker\":{\"colorbar\":{\"outlinewidth\":0,\"ticks\":\"\"}}}],\"bar\":[{\"error_x\":{\"color\":\"#2a3f5f\"},\"error_y\":{\"color\":\"#2a3f5f\"},\"marker\":{\"line\":{\"color\":\"#E5ECF6\",\"width\":0.5},\"pattern\":{\"fillmode\":\"overlay\",\"size\":10,\"solidity\":0.2}},\"type\":\"bar\"}],\"scattergeo\":[{\"type\":\"scattergeo\",\"marker\":{\"colorbar\":{\"outlinewidth\":0,\"ticks\":\"\"}}}],\"scatterpolar\":[{\"type\":\"scatterpolar\",\"marker\":{\"colorbar\":{\"outlinewidth\":0,\"ticks\":\"\"}}}],\"histogram\":[{\"marker\":{\"pattern\":{\"fillmode\":\"overlay\",\"size\":10,\"solidity\":0.2}},\"type\":\"histogram\"}],\"scattergl\":[{\"type\":\"scattergl\",\"marker\":{\"colorbar\":{\"outlinewidth\":0,\"ticks\":\"\"}}}],\"scatter3d\":[{\"type\":\"scatter3d\",\"line\":{\"colorbar\":{\"outlinewidth\":0,\"ticks\":\"\"}},\"marker\":{\"colorbar\":{\"outlinewidth\":0,\"ticks\":\"\"}}}],\"scattermapbox\":[{\"type\":\"scattermapbox\",\"marker\":{\"colorbar\":{\"outlinewidth\":0,\"ticks\":\"\"}}}],\"scatterternary\":[{\"type\":\"scatterternary\",\"marker\":{\"colorbar\":{\"outlinewidth\":0,\"ticks\":\"\"}}}],\"scattercarpet\":[{\"type\":\"scattercarpet\",\"marker\":{\"colorbar\":{\"outlinewidth\":0,\"ticks\":\"\"}}}],\"carpet\":[{\"aaxis\":{\"endlinecolor\":\"#2a3f5f\",\"gridcolor\":\"white\",\"linecolor\":\"white\",\"minorgridcolor\":\"white\",\"startlinecolor\":\"#2a3f5f\"},\"baxis\":{\"endlinecolor\":\"#2a3f5f\",\"gridcolor\":\"white\",\"linecolor\":\"white\",\"minorgridcolor\":\"white\",\"startlinecolor\":\"#2a3f5f\"},\"type\":\"carpet\"}],\"table\":[{\"cells\":{\"fill\":{\"color\":\"#EBF0F8\"},\"line\":{\"color\":\"white\"}},\"header\":{\"fill\":{\"color\":\"#C8D4E3\"},\"line\":{\"color\":\"white\"}},\"type\":\"table\"}],\"barpolar\":[{\"marker\":{\"line\":{\"color\":\"#E5ECF6\",\"width\":0.5},\"pattern\":{\"fillmode\":\"overlay\",\"size\":10,\"solidity\":0.2}},\"type\":\"barpolar\"}],\"pie\":[{\"automargin\":true,\"type\":\"pie\"}]},\"layout\":{\"autotypenumbers\":\"strict\",\"colorway\":[\"#636efa\",\"#EF553B\",\"#00cc96\",\"#ab63fa\",\"#FFA15A\",\"#19d3f3\",\"#FF6692\",\"#B6E880\",\"#FF97FF\",\"#FECB52\"],\"font\":{\"color\":\"#2a3f5f\"},\"hovermode\":\"closest\",\"hoverlabel\":{\"align\":\"left\"},\"paper_bgcolor\":\"white\",\"plot_bgcolor\":\"#E5ECF6\",\"polar\":{\"bgcolor\":\"#E5ECF6\",\"angularaxis\":{\"gridcolor\":\"white\",\"linecolor\":\"white\",\"ticks\":\"\"},\"radialaxis\":{\"gridcolor\":\"white\",\"linecolor\":\"white\",\"ticks\":\"\"}},\"ternary\":{\"bgcolor\":\"#E5ECF6\",\"aaxis\":{\"gridcolor\":\"white\",\"linecolor\":\"white\",\"ticks\":\"\"},\"baxis\":{\"gridcolor\":\"white\",\"linecolor\":\"white\",\"ticks\":\"\"},\"caxis\":{\"gridcolor\":\"white\",\"linecolor\":\"white\",\"ticks\":\"\"}},\"coloraxis\":{\"colorbar\":{\"outlinewidth\":0,\"ticks\":\"\"}},\"colorscale\":{\"sequential\":[[0.0,\"#0d0887\"],[0.1111111111111111,\"#46039f\"],[0.2222222222222222,\"#7201a8\"],[0.3333333333333333,\"#9c179e\"],[0.4444444444444444,\"#bd3786\"],[0.5555555555555556,\"#d8576b\"],[0.6666666666666666,\"#ed7953\"],[0.7777777777777778,\"#fb9f3a\"],[0.8888888888888888,\"#fdca26\"],[1.0,\"#f0f921\"]],\"sequentialminus\":[[0.0,\"#0d0887\"],[0.1111111111111111,\"#46039f\"],[0.2222222222222222,\"#7201a8\"],[0.3333333333333333,\"#9c179e\"],[0.4444444444444444,\"#bd3786\"],[0.5555555555555556,\"#d8576b\"],[0.6666666666666666,\"#ed7953\"],[0.7777777777777778,\"#fb9f3a\"],[0.8888888888888888,\"#fdca26\"],[1.0,\"#f0f921\"]],\"diverging\":[[0,\"#8e0152\"],[0.1,\"#c51b7d\"],[0.2,\"#de77ae\"],[0.3,\"#f1b6da\"],[0.4,\"#fde0ef\"],[0.5,\"#f7f7f7\"],[0.6,\"#e6f5d0\"],[0.7,\"#b8e186\"],[0.8,\"#7fbc41\"],[0.9,\"#4d9221\"],[1,\"#276419\"]]},\"xaxis\":{\"gridcolor\":\"white\",\"linecolor\":\"white\",\"ticks\":\"\",\"title\":{\"standoff\":15},\"zerolinecolor\":\"white\",\"automargin\":true,\"zerolinewidth\":2},\"yaxis\":{\"gridcolor\":\"white\",\"linecolor\":\"white\",\"ticks\":\"\",\"title\":{\"standoff\":15},\"zerolinecolor\":\"white\",\"automargin\":true,\"zerolinewidth\":2},\"scene\":{\"xaxis\":{\"backgroundcolor\":\"#E5ECF6\",\"gridcolor\":\"white\",\"linecolor\":\"white\",\"showbackground\":true,\"ticks\":\"\",\"zerolinecolor\":\"white\",\"gridwidth\":2},\"yaxis\":{\"backgroundcolor\":\"#E5ECF6\",\"gridcolor\":\"white\",\"linecolor\":\"white\",\"showbackground\":true,\"ticks\":\"\",\"zerolinecolor\":\"white\",\"gridwidth\":2},\"zaxis\":{\"backgroundcolor\":\"#E5ECF6\",\"gridcolor\":\"white\",\"linecolor\":\"white\",\"showbackground\":true,\"ticks\":\"\",\"zerolinecolor\":\"white\",\"gridwidth\":2}},\"shapedefaults\":{\"line\":{\"color\":\"#2a3f5f\"}},\"annotationdefaults\":{\"arrowcolor\":\"#2a3f5f\",\"arrowhead\":0,\"arrowwidth\":1},\"geo\":{\"bgcolor\":\"white\",\"landcolor\":\"#E5ECF6\",\"subunitcolor\":\"white\",\"showland\":true,\"showlakes\":true,\"lakecolor\":\"white\"},\"title\":{\"x\":0.05},\"mapbox\":{\"style\":\"light\"}}},\"mapbox\":{\"domain\":{\"x\":[0.0,1.0],\"y\":[0.0,1.0]},\"center\":{\"lat\":73.285,\"lon\":69.7225},\"zoom\":4.172587039159928,\"style\":\"open-street-map\"},\"coloraxis\":{\"colorbar\":{\"title\":{\"text\":\"shanone\"}},\"colorscale\":[[0.0,\"#0508b8\"],[0.08333333333333333,\"#1910d8\"],[0.16666666666666666,\"#3c19f0\"],[0.25,\"#6b1cfb\"],[0.3333333333333333,\"#981cfd\"],[0.4166666666666667,\"#bf1cfd\"],[0.5,\"#dd2bfd\"],[0.5833333333333334,\"#f246fe\"],[0.6666666666666666,\"#fc67fd\"],[0.75,\"#fe88fc\"],[0.8333333333333334,\"#fea5fd\"],[0.9166666666666666,\"#febefe\"],[1.0,\"#fec3fe\"]],\"cmin\":0,\"cmax\":4},\"legend\":{\"tracegroupgap\":0},\"margin\":{\"t\":60}},                        {\"responsive\": true}                    ).then(function(){\n",
       "                            \n",
       "var gd = document.getElementById('d3c02c7f-07eb-4d15-baa5-deec123ed86e');\n",
       "var x = new MutationObserver(function (mutations, observer) {{\n",
       "        var display = window.getComputedStyle(gd).display;\n",
       "        if (!display || display === 'none') {{\n",
       "            console.log([gd, 'removed!']);\n",
       "            Plotly.purge(gd);\n",
       "            observer.disconnect();\n",
       "        }}\n",
       "}});\n",
       "\n",
       "// Listen for the removal of the full notebook cells\n",
       "var notebookContainer = gd.closest('#notebook-container');\n",
       "if (notebookContainer) {{\n",
       "    x.observe(notebookContainer, {childList: true});\n",
       "}}\n",
       "\n",
       "// Listen for the clearing of the current output cell\n",
       "var outputEl = gd.closest('.output');\n",
       "if (outputEl) {{\n",
       "    x.observe(outputEl, {childList: true});\n",
       "}}\n",
       "\n",
       "                        })                };                });            </script>        </div>"
      ]
     },
     "metadata": {},
     "output_type": "display_data"
    }
   ],
   "source": [
    "fig = ff.create_hexbin_mapbox(\n",
    "    data_frame=data, lat=\"lat\", lon=\"lon\", \n",
    "    nx_hexagon=6, opacity=0.7, labels={\"color\": 'shanone'},\n",
    "    color=\"shanone\", agg_func=np.mean, color_continuous_scale=\"plotly3\", range_color=[0,4], mapbox_style = 'open-street-map',\n",
    "    show_original_data=True, original_data_marker=dict(size=4, opacity=0.6, color=\"deeppink\"))\n",
    "\n",
    "fig.show()"
   ]
  },
  {
   "cell_type": "code",
   "execution_count": null,
   "id": "faaa1a32",
   "metadata": {},
   "outputs": [],
   "source": [
    "#import plotly.offline as pyo\n",
    "#pyo.init_notebook_mode()"
   ]
  },
  {
   "cell_type": "code",
   "execution_count": 26,
   "id": "345f8816",
   "metadata": {},
   "outputs": [],
   "source": [
    "data.to_csv('/Users/vladkozlovskiy/Downloads/DATAS/Kara_sea_test/Kara_AMK_all.csv')"
   ]
  },
  {
   "cell_type": "code",
   "execution_count": 27,
   "id": "a730648b",
   "metadata": {},
   "outputs": [
    {
     "data": {
      "text/plain": [
       "Index(['station', 'lat', 'lon', 'depth', 'temperature', 'salinity', 'sampler',\n",
       "       'community', 'vessel', 'year', 'number_of_samples', 'shanone',\n",
       "       'number_of_species', 'total_abundance', 'total_biomass', 'com_label',\n",
       "       'color'],\n",
       "      dtype='object')"
      ]
     },
     "execution_count": 27,
     "metadata": {},
     "output_type": "execute_result"
    }
   ],
   "source": [
    "data.columns"
   ]
  },
  {
   "cell_type": "code",
   "execution_count": 28,
   "id": "5d4b9c49",
   "metadata": {},
   "outputs": [
    {
     "data": {
      "text/html": [
       "<div>\n",
       "<style scoped>\n",
       "    .dataframe tbody tr th:only-of-type {\n",
       "        vertical-align: middle;\n",
       "    }\n",
       "\n",
       "    .dataframe tbody tr th {\n",
       "        vertical-align: top;\n",
       "    }\n",
       "\n",
       "    .dataframe thead th {\n",
       "        text-align: right;\n",
       "    }\n",
       "</style>\n",
       "<table border=\"1\" class=\"dataframe\">\n",
       "  <thead>\n",
       "    <tr style=\"text-align: right;\">\n",
       "      <th></th>\n",
       "      <th>station</th>\n",
       "      <th>lat</th>\n",
       "      <th>lon</th>\n",
       "      <th>depth</th>\n",
       "      <th>temperature</th>\n",
       "      <th>salinity</th>\n",
       "      <th>sampler</th>\n",
       "      <th>community</th>\n",
       "      <th>vessel</th>\n",
       "      <th>year</th>\n",
       "      <th>number_of_samples</th>\n",
       "      <th>shanone</th>\n",
       "      <th>number_of_species</th>\n",
       "      <th>total_abundance</th>\n",
       "      <th>total_biomass</th>\n",
       "      <th>com_label</th>\n",
       "      <th>color</th>\n",
       "    </tr>\n",
       "  </thead>\n",
       "  <tbody>\n",
       "    <tr>\n",
       "      <th>0</th>\n",
       "      <td>4993</td>\n",
       "      <td>71.248333</td>\n",
       "      <td>72.865000</td>\n",
       "      <td>-20</td>\n",
       "      <td>7.2000</td>\n",
       "      <td>0.0468</td>\n",
       "      <td>ocean-0,1</td>\n",
       "      <td>Marenzelleria wireni</td>\n",
       "      <td>AMK</td>\n",
       "      <td>2007</td>\n",
       "      <td>3</td>\n",
       "      <td>0.710266</td>\n",
       "      <td>6.0</td>\n",
       "      <td>15009.356827</td>\n",
       "      <td>56.596101</td>\n",
       "      <td>1</td>\n",
       "      <td>navy</td>\n",
       "    </tr>\n",
       "    <tr>\n",
       "      <th>1</th>\n",
       "      <td>4994</td>\n",
       "      <td>71.733333</td>\n",
       "      <td>72.788333</td>\n",
       "      <td>-16</td>\n",
       "      <td>6.0500</td>\n",
       "      <td>0.8550</td>\n",
       "      <td>ocean-0,25</td>\n",
       "      <td>Marenzelleria wireni</td>\n",
       "      <td>AMK</td>\n",
       "      <td>2007</td>\n",
       "      <td>3</td>\n",
       "      <td>0.739433</td>\n",
       "      <td>5.0</td>\n",
       "      <td>6884.847693</td>\n",
       "      <td>22.995770</td>\n",
       "      <td>1</td>\n",
       "      <td>navy</td>\n",
       "    </tr>\n",
       "    <tr>\n",
       "      <th>2</th>\n",
       "      <td>4995</td>\n",
       "      <td>72.166667</td>\n",
       "      <td>73.238333</td>\n",
       "      <td>-11</td>\n",
       "      <td>4.3500</td>\n",
       "      <td>8.6900</td>\n",
       "      <td>ocean-0,1</td>\n",
       "      <td>Oligochaeta gen.sp.</td>\n",
       "      <td>AMK</td>\n",
       "      <td>2007</td>\n",
       "      <td>3</td>\n",
       "      <td>0.212409</td>\n",
       "      <td>5.0</td>\n",
       "      <td>13611.217891</td>\n",
       "      <td>30.583028</td>\n",
       "      <td>4</td>\n",
       "      <td>blue</td>\n",
       "    </tr>\n",
       "    <tr>\n",
       "      <th>3</th>\n",
       "      <td>4996</td>\n",
       "      <td>72.570000</td>\n",
       "      <td>73.821667</td>\n",
       "      <td>-15</td>\n",
       "      <td>2.2400</td>\n",
       "      <td>24.4430</td>\n",
       "      <td>ocean-0,1</td>\n",
       "      <td>Portlandia arctica</td>\n",
       "      <td>AMK</td>\n",
       "      <td>2007</td>\n",
       "      <td>3</td>\n",
       "      <td>1.476186</td>\n",
       "      <td>17.0</td>\n",
       "      <td>1606.543763</td>\n",
       "      <td>25.019750</td>\n",
       "      <td>7</td>\n",
       "      <td>fuchsia</td>\n",
       "    </tr>\n",
       "    <tr>\n",
       "      <th>4</th>\n",
       "      <td>4999</td>\n",
       "      <td>72.953333</td>\n",
       "      <td>73.285000</td>\n",
       "      <td>-26</td>\n",
       "      <td>0.0900</td>\n",
       "      <td>29.5250</td>\n",
       "      <td>ocean-0,1</td>\n",
       "      <td>Musculus niger – Portlandia arctica</td>\n",
       "      <td>AMK</td>\n",
       "      <td>2007</td>\n",
       "      <td>5</td>\n",
       "      <td>2.605720</td>\n",
       "      <td>28.0</td>\n",
       "      <td>784.000000</td>\n",
       "      <td>49.436000</td>\n",
       "      <td>2</td>\n",
       "      <td>green</td>\n",
       "    </tr>\n",
       "    <tr>\n",
       "      <th>5</th>\n",
       "      <td>5000</td>\n",
       "      <td>73.751667</td>\n",
       "      <td>72.943333</td>\n",
       "      <td>-27</td>\n",
       "      <td>0.8000</td>\n",
       "      <td>32.1250</td>\n",
       "      <td>ocean-0,1</td>\n",
       "      <td>Musculus niger – Portlandia arctica</td>\n",
       "      <td>AMK</td>\n",
       "      <td>2007</td>\n",
       "      <td>5</td>\n",
       "      <td>1.997386</td>\n",
       "      <td>25.0</td>\n",
       "      <td>1790.000000</td>\n",
       "      <td>66.252000</td>\n",
       "      <td>2</td>\n",
       "      <td>green</td>\n",
       "    </tr>\n",
       "    <tr>\n",
       "      <th>6</th>\n",
       "      <td>5001</td>\n",
       "      <td>74.583333</td>\n",
       "      <td>72.758333</td>\n",
       "      <td>-24</td>\n",
       "      <td>-1.2054</td>\n",
       "      <td>32.7148</td>\n",
       "      <td>ocean-0,1</td>\n",
       "      <td>Musculus niger – Portlandia arctica</td>\n",
       "      <td>AMK</td>\n",
       "      <td>2007</td>\n",
       "      <td>5</td>\n",
       "      <td>2.822518</td>\n",
       "      <td>45.0</td>\n",
       "      <td>1652.000000</td>\n",
       "      <td>105.424286</td>\n",
       "      <td>2</td>\n",
       "      <td>green</td>\n",
       "    </tr>\n",
       "    <tr>\n",
       "      <th>7</th>\n",
       "      <td>5002</td>\n",
       "      <td>75.168333</td>\n",
       "      <td>72.608333</td>\n",
       "      <td>-29</td>\n",
       "      <td>1.1500</td>\n",
       "      <td>32.2860</td>\n",
       "      <td>ocean-0,1</td>\n",
       "      <td>Ophelia limacina</td>\n",
       "      <td>AMK</td>\n",
       "      <td>2007</td>\n",
       "      <td>5</td>\n",
       "      <td>2.167242</td>\n",
       "      <td>28.0</td>\n",
       "      <td>652.000000</td>\n",
       "      <td>24.390857</td>\n",
       "      <td>5</td>\n",
       "      <td>purple</td>\n",
       "    </tr>\n",
       "    <tr>\n",
       "      <th>8</th>\n",
       "      <td>5003</td>\n",
       "      <td>75.440000</td>\n",
       "      <td>72.531667</td>\n",
       "      <td>-55</td>\n",
       "      <td>1.1300</td>\n",
       "      <td>32.8520</td>\n",
       "      <td>ocean-0,1</td>\n",
       "      <td>Ophiocten sericeum</td>\n",
       "      <td>AMK</td>\n",
       "      <td>2007</td>\n",
       "      <td>5</td>\n",
       "      <td>2.915108</td>\n",
       "      <td>55.0</td>\n",
       "      <td>2174.000000</td>\n",
       "      <td>49.500857</td>\n",
       "      <td>6</td>\n",
       "      <td>red</td>\n",
       "    </tr>\n",
       "    <tr>\n",
       "      <th>9</th>\n",
       "      <td>4954</td>\n",
       "      <td>71.130000</td>\n",
       "      <td>66.616667</td>\n",
       "      <td>-16</td>\n",
       "      <td>5.2424</td>\n",
       "      <td>33.4086</td>\n",
       "      <td>ocean-0,1</td>\n",
       "      <td>Nephtys longosetosa</td>\n",
       "      <td>AMK</td>\n",
       "      <td>2007</td>\n",
       "      <td>5</td>\n",
       "      <td>3.260864</td>\n",
       "      <td>57.0</td>\n",
       "      <td>1980.000000</td>\n",
       "      <td>22.608000</td>\n",
       "      <td>3</td>\n",
       "      <td>cyan</td>\n",
       "    </tr>\n",
       "    <tr>\n",
       "      <th>10</th>\n",
       "      <td>4955</td>\n",
       "      <td>71.200000</td>\n",
       "      <td>66.150000</td>\n",
       "      <td>-24</td>\n",
       "      <td>5.3223</td>\n",
       "      <td>32.9325</td>\n",
       "      <td>ocean-0,1</td>\n",
       "      <td>Serripes groenlandicus</td>\n",
       "      <td>AMK</td>\n",
       "      <td>2007</td>\n",
       "      <td>5</td>\n",
       "      <td>2.845785</td>\n",
       "      <td>35.0</td>\n",
       "      <td>490.000000</td>\n",
       "      <td>12.436000</td>\n",
       "      <td>8</td>\n",
       "      <td>royalblue</td>\n",
       "    </tr>\n",
       "    <tr>\n",
       "      <th>11</th>\n",
       "      <td>4956</td>\n",
       "      <td>71.250000</td>\n",
       "      <td>65.836667</td>\n",
       "      <td>-35</td>\n",
       "      <td>4.2861</td>\n",
       "      <td>33.1593</td>\n",
       "      <td>ocean-0,1</td>\n",
       "      <td>Astarte borealis</td>\n",
       "      <td>AMK</td>\n",
       "      <td>2007</td>\n",
       "      <td>5</td>\n",
       "      <td>1.639310</td>\n",
       "      <td>52.0</td>\n",
       "      <td>5366.000000</td>\n",
       "      <td>160.030000</td>\n",
       "      <td>0</td>\n",
       "      <td>yellow</td>\n",
       "    </tr>\n",
       "    <tr>\n",
       "      <th>12</th>\n",
       "      <td>4957</td>\n",
       "      <td>71.283333</td>\n",
       "      <td>65.623333</td>\n",
       "      <td>-46</td>\n",
       "      <td>1.1112</td>\n",
       "      <td>33.7366</td>\n",
       "      <td>ocean-0,1</td>\n",
       "      <td>Astarte borealis</td>\n",
       "      <td>AMK</td>\n",
       "      <td>2007</td>\n",
       "      <td>5</td>\n",
       "      <td>2.975803</td>\n",
       "      <td>61.0</td>\n",
       "      <td>3226.000000</td>\n",
       "      <td>143.182000</td>\n",
       "      <td>0</td>\n",
       "      <td>yellow</td>\n",
       "    </tr>\n",
       "  </tbody>\n",
       "</table>\n",
       "</div>"
      ],
      "text/plain": [
       "    station        lat        lon  depth  temperature  salinity     sampler  \\\n",
       "0      4993  71.248333  72.865000    -20       7.2000    0.0468   ocean-0,1   \n",
       "1      4994  71.733333  72.788333    -16       6.0500    0.8550  ocean-0,25   \n",
       "2      4995  72.166667  73.238333    -11       4.3500    8.6900   ocean-0,1   \n",
       "3      4996  72.570000  73.821667    -15       2.2400   24.4430   ocean-0,1   \n",
       "4      4999  72.953333  73.285000    -26       0.0900   29.5250   ocean-0,1   \n",
       "5      5000  73.751667  72.943333    -27       0.8000   32.1250   ocean-0,1   \n",
       "6      5001  74.583333  72.758333    -24      -1.2054   32.7148   ocean-0,1   \n",
       "7      5002  75.168333  72.608333    -29       1.1500   32.2860   ocean-0,1   \n",
       "8      5003  75.440000  72.531667    -55       1.1300   32.8520   ocean-0,1   \n",
       "9      4954  71.130000  66.616667    -16       5.2424   33.4086   ocean-0,1   \n",
       "10     4955  71.200000  66.150000    -24       5.3223   32.9325   ocean-0,1   \n",
       "11     4956  71.250000  65.836667    -35       4.2861   33.1593   ocean-0,1   \n",
       "12     4957  71.283333  65.623333    -46       1.1112   33.7366   ocean-0,1   \n",
       "\n",
       "                              community vessel  year  number_of_samples  \\\n",
       "0                  Marenzelleria wireni    AMK  2007                  3   \n",
       "1                  Marenzelleria wireni    AMK  2007                  3   \n",
       "2                   Oligochaeta gen.sp.    AMK  2007                  3   \n",
       "3                    Portlandia arctica    AMK  2007                  3   \n",
       "4   Musculus niger – Portlandia arctica    AMK  2007                  5   \n",
       "5   Musculus niger – Portlandia arctica    AMK  2007                  5   \n",
       "6   Musculus niger – Portlandia arctica    AMK  2007                  5   \n",
       "7                      Ophelia limacina    AMK  2007                  5   \n",
       "8                    Ophiocten sericeum    AMK  2007                  5   \n",
       "9                   Nephtys longosetosa    AMK  2007                  5   \n",
       "10               Serripes groenlandicus    AMK  2007                  5   \n",
       "11                     Astarte borealis    AMK  2007                  5   \n",
       "12                     Astarte borealis    AMK  2007                  5   \n",
       "\n",
       "     shanone  number_of_species  total_abundance  total_biomass  com_label  \\\n",
       "0   0.710266                6.0     15009.356827      56.596101          1   \n",
       "1   0.739433                5.0      6884.847693      22.995770          1   \n",
       "2   0.212409                5.0     13611.217891      30.583028          4   \n",
       "3   1.476186               17.0      1606.543763      25.019750          7   \n",
       "4   2.605720               28.0       784.000000      49.436000          2   \n",
       "5   1.997386               25.0      1790.000000      66.252000          2   \n",
       "6   2.822518               45.0      1652.000000     105.424286          2   \n",
       "7   2.167242               28.0       652.000000      24.390857          5   \n",
       "8   2.915108               55.0      2174.000000      49.500857          6   \n",
       "9   3.260864               57.0      1980.000000      22.608000          3   \n",
       "10  2.845785               35.0       490.000000      12.436000          8   \n",
       "11  1.639310               52.0      5366.000000     160.030000          0   \n",
       "12  2.975803               61.0      3226.000000     143.182000          0   \n",
       "\n",
       "        color  \n",
       "0        navy  \n",
       "1        navy  \n",
       "2        blue  \n",
       "3     fuchsia  \n",
       "4       green  \n",
       "5       green  \n",
       "6       green  \n",
       "7      purple  \n",
       "8         red  \n",
       "9        cyan  \n",
       "10  royalblue  \n",
       "11     yellow  \n",
       "12     yellow  "
      ]
     },
     "execution_count": 28,
     "metadata": {},
     "output_type": "execute_result"
    }
   ],
   "source": [
    "data.query('total_biomass >= 10 and depth < 0')"
   ]
  },
  {
   "cell_type": "code",
   "execution_count": null,
   "id": "a9d2fe5c",
   "metadata": {},
   "outputs": [],
   "source": []
  }
 ],
 "metadata": {
  "kernelspec": {
   "display_name": "base",
   "language": "python",
   "name": "base"
  },
  "language_info": {
   "codemirror_mode": {
    "name": "ipython",
    "version": 3
   },
   "file_extension": ".py",
   "mimetype": "text/x-python",
   "name": "python",
   "nbconvert_exporter": "python",
   "pygments_lexer": "ipython3",
   "version": "3.11.3"
  }
 },
 "nbformat": 4,
 "nbformat_minor": 5
}
