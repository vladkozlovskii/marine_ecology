{
 "cells": [
  {
   "cell_type": "code",
   "execution_count": 1,
   "id": "8631899b",
   "metadata": {},
   "outputs": [
    {
     "data": {
      "text/html": [
       "\n",
       "        <iframe\n",
       "            width=\"100%\"\n",
       "            height=\"650\"\n",
       "            src=\"http://127.0.0.1:8050/\"\n",
       "            frameborder=\"0\"\n",
       "            allowfullscreen\n",
       "            \n",
       "        ></iframe>\n",
       "        "
      ],
      "text/plain": [
       "<IPython.lib.display.IFrame at 0x14e758f50>"
      ]
     },
     "metadata": {},
     "output_type": "display_data"
    }
   ],
   "source": [
    "import numpy as np\n",
    "import pandas as pd\n",
    "import plotly.express as px\n",
    "import pandas as pd\n",
    "import plotly.figure_factory as ff\n",
    "\n",
    "from dash import Dash, dcc, html, Input, Output, ctx\n",
    "\n",
    "filepath = 'https://docs.google.com/spreadsheets/d/e/2PACX-1vQQKcjObxJfMAOkArbU2-ven8yUOSYjbNiIrqPu7nbElnjE0Ad_IB3yB3I6HQnKYDx-hD34dXtxf7td/pub?gid=0&single=true&output=csv'\n",
    "data = pd.read_csv(filepath)\n",
    "\n",
    "external_stylesheets = [\"https://codepen.io/chriddyp/pen/bWLwgP.css\"]\n",
    "\n",
    "app = Dash(__name__, external_stylesheets=external_stylesheets)\n",
    "app.layout = html.Div(\n",
    "    [\n",
    "        html.Header(\n",
    "            \"Benthos Kara Sea\",\n",
    "            style={\"font-size\": \"30px\", \"textAlign\": \"center\"},\n",
    "        ),\n",
    "        html.Div(\"Biomass\", style={\"font-size\": \"20px\"}),\n",
    "        \"g/m2  \",\n",
    "        dcc.Input(id=\"meter\", value=10, type=\"number\", step=1),\n",
    "        \n",
    "        html.Div(\"Depth\", style={\"font-size\": \"20px\"}),\n",
    "        \"g/m2  \",\n",
    "        dcc.Input(id=\"shan\", value= 0, type=\"number\", step=1),\n",
    "        \n",
    "        html.Div(\"Cell\", style={\"font-size\": \"20px\"}),\n",
    "       \"hex size\",\n",
    "        dcc.Input(id=\"cell\", value= 6, type=\"number\", step=1),\n",
    "        \n",
    "        dcc.Graph(id=\"map\"),\n",
    "    ],\n",
    "    style={\"margin\": 10, \"maxWidth\": 800},\n",
    ")\n",
    "\n",
    "\n",
    "@app.callback(\n",
    "    Output(\"meter\", \"value\"),\n",
    "    Output(\"shan\", \"value\"),\n",
    "    Output(\"cell\", \"value\"),\n",
    "    Output(\"map\", \"figure\"),\n",
    "    Input(\"meter\", \"value\"),\n",
    "    Input(\"shan\", \"value\"),\n",
    "    Input(\"cell\", \"value\")\n",
    ")\n",
    "def sync_input(meter, shan, cell):\n",
    "    if cell < 2:\n",
    "        cell = 2\n",
    "        print('you have to set hex cell not less than 2')\n",
    "    if meter > 142:\n",
    "        meter = 142\n",
    "        print('you have to biomass not more than 142')\n",
    "    if shan < -34:\n",
    "        shan = -34\n",
    "        print('you have to set hex cell not less than -34')  \n",
    "        \n",
    "        \n",
    "    fig = ff.create_hexbin_mapbox(\n",
    "        data_frame=data.query('total_biomass >= @meter and depth < @shan'), lat=\"lat\", lon=\"lon\", \n",
    "        nx_hexagon=cell, opacity=0.7, labels={\"color\": 'shanone'},\n",
    "        color=\"shanone\", agg_func=np.mean, color_continuous_scale=\"plotly3\", range_color=[0,4], mapbox_style = 'open-street-map',\n",
    "        show_original_data=True, original_data_marker=dict(size=4, opacity=0.6, color=\"deeppink\"))\n",
    "\n",
    " #  fig.show()\n",
    "      \n",
    "    return meter, shan, cell, fig\n",
    "\n",
    "\n",
    "if __name__ == \"__main__\":\n",
    "    app.run_server(debug=True)"
   ]
  }
 ],
 "metadata": {
  "kernelspec": {
   "display_name": "Python 3 (ipykernel)",
   "language": "python",
   "name": "python3"
  },
  "language_info": {
   "codemirror_mode": {
    "name": "ipython",
    "version": 3
   },
   "file_extension": ".py",
   "mimetype": "text/x-python",
   "name": "python",
   "nbconvert_exporter": "python",
   "pygments_lexer": "ipython3",
   "version": "3.11.3"
  }
 },
 "nbformat": 4,
 "nbformat_minor": 5
}
